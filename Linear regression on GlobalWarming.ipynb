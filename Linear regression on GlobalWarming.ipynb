{
 "cells": [
  {
   "cell_type": "code",
   "execution_count": 396,
   "metadata": {},
   "outputs": [],
   "source": [
    "import os\n",
    "import pandas as pd\n",
    "import numpy as np\n",
    "import matplotlib.pyplot as plt\n",
    "from sklearn.model_selection import train_test_split\n",
    "import statsmodels.api as sm\n",
    "import seaborn as sns\n",
    "import random \n",
    "from sklearn import metrics\n",
    "from sklearn.dummy import DummyRegressor\n",
    "sns.set(color_codes=True)"
   ]
  },
  {
   "cell_type": "code",
   "execution_count": 223,
   "metadata": {},
   "outputs": [],
   "source": [
    "from sklearn import linear_model"
   ]
  },
  {
   "cell_type": "code",
   "execution_count": 224,
   "metadata": {},
   "outputs": [],
   "source": [
    "gw=pd.read_csv(\"GlobalWarming.csv\")"
   ]
  },
  {
   "cell_type": "code",
   "execution_count": 225,
   "metadata": {},
   "outputs": [
    {
     "data": {
      "text/html": [
       "<div>\n",
       "<style scoped>\n",
       "    .dataframe tbody tr th:only-of-type {\n",
       "        vertical-align: middle;\n",
       "    }\n",
       "\n",
       "    .dataframe tbody tr th {\n",
       "        vertical-align: top;\n",
       "    }\n",
       "\n",
       "    .dataframe thead th {\n",
       "        text-align: right;\n",
       "    }\n",
       "</style>\n",
       "<table border=\"1\" class=\"dataframe\">\n",
       "  <thead>\n",
       "    <tr style=\"text-align: right;\">\n",
       "      <th></th>\n",
       "      <th>Year</th>\n",
       "      <th>Month</th>\n",
       "      <th>MEI</th>\n",
       "      <th>CO2</th>\n",
       "      <th>CH4</th>\n",
       "      <th>N2O</th>\n",
       "      <th>CFC-11</th>\n",
       "      <th>CFC-12</th>\n",
       "      <th>TSI</th>\n",
       "      <th>Aerosols</th>\n",
       "      <th>Temp</th>\n",
       "    </tr>\n",
       "  </thead>\n",
       "  <tbody>\n",
       "    <tr>\n",
       "      <th>0</th>\n",
       "      <td>1983</td>\n",
       "      <td>5</td>\n",
       "      <td>2.556</td>\n",
       "      <td>345.96</td>\n",
       "      <td>1638.59</td>\n",
       "      <td>303.677</td>\n",
       "      <td>191.324</td>\n",
       "      <td>350.113</td>\n",
       "      <td>1366.1024</td>\n",
       "      <td>0.0863</td>\n",
       "      <td>0.109</td>\n",
       "    </tr>\n",
       "    <tr>\n",
       "      <th>1</th>\n",
       "      <td>1983</td>\n",
       "      <td>6</td>\n",
       "      <td>2.167</td>\n",
       "      <td>345.52</td>\n",
       "      <td>1633.71</td>\n",
       "      <td>303.746</td>\n",
       "      <td>192.057</td>\n",
       "      <td>351.848</td>\n",
       "      <td>1366.1208</td>\n",
       "      <td>0.0794</td>\n",
       "      <td>0.118</td>\n",
       "    </tr>\n",
       "    <tr>\n",
       "      <th>2</th>\n",
       "      <td>1983</td>\n",
       "      <td>7</td>\n",
       "      <td>1.741</td>\n",
       "      <td>344.15</td>\n",
       "      <td>1633.22</td>\n",
       "      <td>303.795</td>\n",
       "      <td>192.818</td>\n",
       "      <td>353.725</td>\n",
       "      <td>1366.2850</td>\n",
       "      <td>0.0731</td>\n",
       "      <td>0.137</td>\n",
       "    </tr>\n",
       "    <tr>\n",
       "      <th>3</th>\n",
       "      <td>1983</td>\n",
       "      <td>8</td>\n",
       "      <td>1.130</td>\n",
       "      <td>342.25</td>\n",
       "      <td>1631.35</td>\n",
       "      <td>303.839</td>\n",
       "      <td>193.602</td>\n",
       "      <td>355.633</td>\n",
       "      <td>1366.4202</td>\n",
       "      <td>0.0673</td>\n",
       "      <td>0.176</td>\n",
       "    </tr>\n",
       "    <tr>\n",
       "      <th>4</th>\n",
       "      <td>1983</td>\n",
       "      <td>9</td>\n",
       "      <td>0.428</td>\n",
       "      <td>340.17</td>\n",
       "      <td>1648.40</td>\n",
       "      <td>303.901</td>\n",
       "      <td>194.392</td>\n",
       "      <td>357.465</td>\n",
       "      <td>1366.2335</td>\n",
       "      <td>0.0619</td>\n",
       "      <td>0.149</td>\n",
       "    </tr>\n",
       "  </tbody>\n",
       "</table>\n",
       "</div>"
      ],
      "text/plain": [
       "   Year  Month    MEI     CO2      CH4      N2O   CFC-11   CFC-12        TSI  \\\n",
       "0  1983      5  2.556  345.96  1638.59  303.677  191.324  350.113  1366.1024   \n",
       "1  1983      6  2.167  345.52  1633.71  303.746  192.057  351.848  1366.1208   \n",
       "2  1983      7  1.741  344.15  1633.22  303.795  192.818  353.725  1366.2850   \n",
       "3  1983      8  1.130  342.25  1631.35  303.839  193.602  355.633  1366.4202   \n",
       "4  1983      9  0.428  340.17  1648.40  303.901  194.392  357.465  1366.2335   \n",
       "\n",
       "   Aerosols   Temp  \n",
       "0    0.0863  0.109  \n",
       "1    0.0794  0.118  \n",
       "2    0.0731  0.137  \n",
       "3    0.0673  0.176  \n",
       "4    0.0619  0.149  "
      ]
     },
     "execution_count": 225,
     "metadata": {},
     "output_type": "execute_result"
    }
   ],
   "source": [
    "gw.head()"
   ]
  },
  {
   "cell_type": "code",
   "execution_count": 226,
   "metadata": {},
   "outputs": [
    {
     "name": "stdout",
     "output_type": "stream",
     "text": [
      "<class 'pandas.core.frame.DataFrame'>\n",
      "RangeIndex: 308 entries, 0 to 307\n",
      "Data columns (total 11 columns):\n",
      "Year        308 non-null int64\n",
      "Month       308 non-null int64\n",
      "MEI         308 non-null float64\n",
      "CO2         308 non-null float64\n",
      "CH4         308 non-null float64\n",
      "N2O         308 non-null float64\n",
      "CFC-11      308 non-null float64\n",
      "CFC-12      308 non-null float64\n",
      "TSI         308 non-null float64\n",
      "Aerosols    308 non-null float64\n",
      "Temp        308 non-null float64\n",
      "dtypes: float64(9), int64(2)\n",
      "memory usage: 26.5 KB\n"
     ]
    }
   ],
   "source": [
    "gw.info()\n"
   ]
  },
  {
   "cell_type": "code",
   "execution_count": 227,
   "metadata": {},
   "outputs": [],
   "source": [
    "gw2 = gw[gw.columns.difference(['Year', 'Month'])]"
   ]
  },
  {
   "cell_type": "code",
   "execution_count": 228,
   "metadata": {},
   "outputs": [],
   "source": [
    "y=gw2.Temp"
   ]
  },
  {
   "cell_type": "code",
   "execution_count": null,
   "metadata": {},
   "outputs": [],
   "source": []
  },
  {
   "cell_type": "code",
   "execution_count": 229,
   "metadata": {},
   "outputs": [
    {
     "data": {
      "text/html": [
       "<div>\n",
       "<style scoped>\n",
       "    .dataframe tbody tr th:only-of-type {\n",
       "        vertical-align: middle;\n",
       "    }\n",
       "\n",
       "    .dataframe tbody tr th {\n",
       "        vertical-align: top;\n",
       "    }\n",
       "\n",
       "    .dataframe thead th {\n",
       "        text-align: right;\n",
       "    }\n",
       "</style>\n",
       "<table border=\"1\" class=\"dataframe\">\n",
       "  <thead>\n",
       "    <tr style=\"text-align: right;\">\n",
       "      <th></th>\n",
       "      <th>Aerosols</th>\n",
       "      <th>CFC-11</th>\n",
       "      <th>CFC-12</th>\n",
       "      <th>CH4</th>\n",
       "      <th>CO2</th>\n",
       "      <th>MEI</th>\n",
       "      <th>N2O</th>\n",
       "      <th>TSI</th>\n",
       "      <th>Temp</th>\n",
       "    </tr>\n",
       "  </thead>\n",
       "  <tbody>\n",
       "    <tr>\n",
       "      <th>Aerosols</th>\n",
       "      <td>1.000000</td>\n",
       "      <td>-0.032302</td>\n",
       "      <td>-0.243785</td>\n",
       "      <td>-0.290381</td>\n",
       "      <td>-0.369265</td>\n",
       "      <td>0.352351</td>\n",
       "      <td>-0.353499</td>\n",
       "      <td>0.083238</td>\n",
       "      <td>-0.392069</td>\n",
       "    </tr>\n",
       "    <tr>\n",
       "      <th>CFC-11</th>\n",
       "      <td>-0.032302</td>\n",
       "      <td>1.000000</td>\n",
       "      <td>0.831381</td>\n",
       "      <td>0.713504</td>\n",
       "      <td>0.401284</td>\n",
       "      <td>0.088171</td>\n",
       "      <td>0.412155</td>\n",
       "      <td>0.284629</td>\n",
       "      <td>0.380111</td>\n",
       "    </tr>\n",
       "    <tr>\n",
       "      <th>CFC-12</th>\n",
       "      <td>-0.243785</td>\n",
       "      <td>0.831381</td>\n",
       "      <td>1.000000</td>\n",
       "      <td>0.958237</td>\n",
       "      <td>0.823210</td>\n",
       "      <td>-0.039836</td>\n",
       "      <td>0.839295</td>\n",
       "      <td>0.189270</td>\n",
       "      <td>0.688944</td>\n",
       "    </tr>\n",
       "    <tr>\n",
       "      <th>CH4</th>\n",
       "      <td>-0.290381</td>\n",
       "      <td>0.713504</td>\n",
       "      <td>0.958237</td>\n",
       "      <td>1.000000</td>\n",
       "      <td>0.872253</td>\n",
       "      <td>-0.105555</td>\n",
       "      <td>0.894409</td>\n",
       "      <td>0.146335</td>\n",
       "      <td>0.699697</td>\n",
       "    </tr>\n",
       "    <tr>\n",
       "      <th>CO2</th>\n",
       "      <td>-0.369265</td>\n",
       "      <td>0.401284</td>\n",
       "      <td>0.823210</td>\n",
       "      <td>0.872253</td>\n",
       "      <td>1.000000</td>\n",
       "      <td>-0.152911</td>\n",
       "      <td>0.981135</td>\n",
       "      <td>0.017867</td>\n",
       "      <td>0.748505</td>\n",
       "    </tr>\n",
       "    <tr>\n",
       "      <th>MEI</th>\n",
       "      <td>0.352351</td>\n",
       "      <td>0.088171</td>\n",
       "      <td>-0.039836</td>\n",
       "      <td>-0.105555</td>\n",
       "      <td>-0.152911</td>\n",
       "      <td>1.000000</td>\n",
       "      <td>-0.162375</td>\n",
       "      <td>-0.076826</td>\n",
       "      <td>0.135292</td>\n",
       "    </tr>\n",
       "    <tr>\n",
       "      <th>N2O</th>\n",
       "      <td>-0.353499</td>\n",
       "      <td>0.412155</td>\n",
       "      <td>0.839295</td>\n",
       "      <td>0.894409</td>\n",
       "      <td>0.981135</td>\n",
       "      <td>-0.162375</td>\n",
       "      <td>1.000000</td>\n",
       "      <td>0.039892</td>\n",
       "      <td>0.743242</td>\n",
       "    </tr>\n",
       "    <tr>\n",
       "      <th>TSI</th>\n",
       "      <td>0.083238</td>\n",
       "      <td>0.284629</td>\n",
       "      <td>0.189270</td>\n",
       "      <td>0.146335</td>\n",
       "      <td>0.017867</td>\n",
       "      <td>-0.076826</td>\n",
       "      <td>0.039892</td>\n",
       "      <td>1.000000</td>\n",
       "      <td>0.182186</td>\n",
       "    </tr>\n",
       "    <tr>\n",
       "      <th>Temp</th>\n",
       "      <td>-0.392069</td>\n",
       "      <td>0.380111</td>\n",
       "      <td>0.688944</td>\n",
       "      <td>0.699697</td>\n",
       "      <td>0.748505</td>\n",
       "      <td>0.135292</td>\n",
       "      <td>0.743242</td>\n",
       "      <td>0.182186</td>\n",
       "      <td>1.000000</td>\n",
       "    </tr>\n",
       "  </tbody>\n",
       "</table>\n",
       "</div>"
      ],
      "text/plain": [
       "          Aerosols    CFC-11    CFC-12       CH4       CO2       MEI  \\\n",
       "Aerosols  1.000000 -0.032302 -0.243785 -0.290381 -0.369265  0.352351   \n",
       "CFC-11   -0.032302  1.000000  0.831381  0.713504  0.401284  0.088171   \n",
       "CFC-12   -0.243785  0.831381  1.000000  0.958237  0.823210 -0.039836   \n",
       "CH4      -0.290381  0.713504  0.958237  1.000000  0.872253 -0.105555   \n",
       "CO2      -0.369265  0.401284  0.823210  0.872253  1.000000 -0.152911   \n",
       "MEI       0.352351  0.088171 -0.039836 -0.105555 -0.152911  1.000000   \n",
       "N2O      -0.353499  0.412155  0.839295  0.894409  0.981135 -0.162375   \n",
       "TSI       0.083238  0.284629  0.189270  0.146335  0.017867 -0.076826   \n",
       "Temp     -0.392069  0.380111  0.688944  0.699697  0.748505  0.135292   \n",
       "\n",
       "               N2O       TSI      Temp  \n",
       "Aerosols -0.353499  0.083238 -0.392069  \n",
       "CFC-11    0.412155  0.284629  0.380111  \n",
       "CFC-12    0.839295  0.189270  0.688944  \n",
       "CH4       0.894409  0.146335  0.699697  \n",
       "CO2       0.981135  0.017867  0.748505  \n",
       "MEI      -0.162375 -0.076826  0.135292  \n",
       "N2O       1.000000  0.039892  0.743242  \n",
       "TSI       0.039892  1.000000  0.182186  \n",
       "Temp      0.743242  0.182186  1.000000  "
      ]
     },
     "execution_count": 229,
     "metadata": {},
     "output_type": "execute_result"
    }
   ],
   "source": [
    "gw2.corr()\n"
   ]
  },
  {
   "cell_type": "code",
   "execution_count": 231,
   "metadata": {},
   "outputs": [
    {
     "data": {
      "text/html": [
       "<table class=\"simpletable\">\n",
       "<caption>OLS Regression Results</caption>\n",
       "<tr>\n",
       "  <th>Dep. Variable:</th>          <td>Temp</td>       <th>  R-squared:         </th> <td>   0.904</td> \n",
       "</tr>\n",
       "<tr>\n",
       "  <th>Model:</th>                   <td>OLS</td>       <th>  Adj. R-squared:    </th> <td>   0.901</td> \n",
       "</tr>\n",
       "<tr>\n",
       "  <th>Method:</th>             <td>Least Squares</td>  <th>  F-statistic:       </th> <td>   353.2</td> \n",
       "</tr>\n",
       "<tr>\n",
       "  <th>Date:</th>             <td>Wed, 22 Aug 2018</td> <th>  Prob (F-statistic):</th> <td>9.12e-148</td>\n",
       "</tr>\n",
       "<tr>\n",
       "  <th>Time:</th>                 <td>15:38:49</td>     <th>  Log-Likelihood:    </th> <td>  281.75</td> \n",
       "</tr>\n",
       "<tr>\n",
       "  <th>No. Observations:</th>      <td>   308</td>      <th>  AIC:               </th> <td>  -547.5</td> \n",
       "</tr>\n",
       "<tr>\n",
       "  <th>Df Residuals:</th>          <td>   300</td>      <th>  BIC:               </th> <td>  -517.7</td> \n",
       "</tr>\n",
       "<tr>\n",
       "  <th>Df Model:</th>              <td>     8</td>      <th>                     </th>     <td> </td>    \n",
       "</tr>\n",
       "<tr>\n",
       "  <th>Covariance Type:</th>      <td>nonrobust</td>    <th>                     </th>     <td> </td>    \n",
       "</tr>\n",
       "</table>\n",
       "<table class=\"simpletable\">\n",
       "<tr>\n",
       "      <td></td>        <th>coef</th>     <th>std err</th>      <th>t</th>      <th>P>|t|</th>  <th>[0.025</th>    <th>0.975]</th>  \n",
       "</tr>\n",
       "<tr>\n",
       "  <th>Aerosols</th> <td>   -1.4232</td> <td>    0.223</td> <td>   -6.379</td> <td> 0.000</td> <td>   -1.862</td> <td>   -0.984</td>\n",
       "</tr>\n",
       "<tr>\n",
       "  <th>CFC-11</th>   <td>   -0.0076</td> <td>    0.002</td> <td>   -4.882</td> <td> 0.000</td> <td>   -0.011</td> <td>   -0.005</td>\n",
       "</tr>\n",
       "<tr>\n",
       "  <th>CFC-12</th>   <td>    0.0049</td> <td>    0.001</td> <td>    5.269</td> <td> 0.000</td> <td>    0.003</td> <td>    0.007</td>\n",
       "</tr>\n",
       "<tr>\n",
       "  <th>CH4</th>      <td>-3.166e-05</td> <td>    0.001</td> <td>   -0.059</td> <td> 0.953</td> <td>   -0.001</td> <td>    0.001</td>\n",
       "</tr>\n",
       "<tr>\n",
       "  <th>CO2</th>      <td>    0.0044</td> <td>    0.002</td> <td>    1.868</td> <td> 0.063</td> <td>   -0.000</td> <td>    0.009</td>\n",
       "</tr>\n",
       "<tr>\n",
       "  <th>MEI</th>      <td>    0.0594</td> <td>    0.007</td> <td>    9.112</td> <td> 0.000</td> <td>    0.047</td> <td>    0.072</td>\n",
       "</tr>\n",
       "<tr>\n",
       "  <th>N2O</th>      <td>   -0.0193</td> <td>    0.008</td> <td>   -2.301</td> <td> 0.022</td> <td>   -0.036</td> <td>   -0.003</td>\n",
       "</tr>\n",
       "<tr>\n",
       "  <th>TSI</th>      <td>    0.0031</td> <td>    0.001</td> <td>    2.129</td> <td> 0.034</td> <td>    0.000</td> <td>    0.006</td>\n",
       "</tr>\n",
       "</table>\n",
       "<table class=\"simpletable\">\n",
       "<tr>\n",
       "  <th>Omnibus:</th>       <td> 3.175</td> <th>  Durbin-Watson:     </th> <td>   0.789</td>\n",
       "</tr>\n",
       "<tr>\n",
       "  <th>Prob(Omnibus):</th> <td> 0.204</td> <th>  Jarque-Bera (JB):  </th> <td>   3.114</td>\n",
       "</tr>\n",
       "<tr>\n",
       "  <th>Skew:</th>          <td> 0.138</td> <th>  Prob(JB):          </th> <td>   0.211</td>\n",
       "</tr>\n",
       "<tr>\n",
       "  <th>Kurtosis:</th>      <td> 3.408</td> <th>  Cond. No.          </th> <td>9.33e+04</td>\n",
       "</tr>\n",
       "</table>"
      ],
      "text/plain": [
       "<class 'statsmodels.iolib.summary.Summary'>\n",
       "\"\"\"\n",
       "                            OLS Regression Results                            \n",
       "==============================================================================\n",
       "Dep. Variable:                   Temp   R-squared:                       0.904\n",
       "Model:                            OLS   Adj. R-squared:                  0.901\n",
       "Method:                 Least Squares   F-statistic:                     353.2\n",
       "Date:                Wed, 22 Aug 2018   Prob (F-statistic):          9.12e-148\n",
       "Time:                        15:38:49   Log-Likelihood:                 281.75\n",
       "No. Observations:                 308   AIC:                            -547.5\n",
       "Df Residuals:                     300   BIC:                            -517.7\n",
       "Df Model:                           8                                         \n",
       "Covariance Type:            nonrobust                                         \n",
       "==============================================================================\n",
       "                 coef    std err          t      P>|t|      [0.025      0.975]\n",
       "------------------------------------------------------------------------------\n",
       "Aerosols      -1.4232      0.223     -6.379      0.000      -1.862      -0.984\n",
       "CFC-11        -0.0076      0.002     -4.882      0.000      -0.011      -0.005\n",
       "CFC-12         0.0049      0.001      5.269      0.000       0.003       0.007\n",
       "CH4        -3.166e-05      0.001     -0.059      0.953      -0.001       0.001\n",
       "CO2            0.0044      0.002      1.868      0.063      -0.000       0.009\n",
       "MEI            0.0594      0.007      9.112      0.000       0.047       0.072\n",
       "N2O           -0.0193      0.008     -2.301      0.022      -0.036      -0.003\n",
       "TSI            0.0031      0.001      2.129      0.034       0.000       0.006\n",
       "==============================================================================\n",
       "Omnibus:                        3.175   Durbin-Watson:                   0.789\n",
       "Prob(Omnibus):                  0.204   Jarque-Bera (JB):                3.114\n",
       "Skew:                           0.138   Prob(JB):                        0.211\n",
       "Kurtosis:                       3.408   Cond. No.                     9.33e+04\n",
       "==============================================================================\n",
       "\n",
       "Warnings:\n",
       "[1] Standard Errors assume that the covariance matrix of the errors is correctly specified.\n",
       "[2] The condition number is large, 9.33e+04. This might indicate that there are\n",
       "strong multicollinearity or other numerical problems.\n",
       "\"\"\""
      ]
     },
     "execution_count": 231,
     "metadata": {},
     "output_type": "execute_result"
    }
   ],
   "source": [
    "core.summary()"
   ]
  },
  {
   "cell_type": "code",
   "execution_count": 232,
   "metadata": {},
   "outputs": [
    {
     "data": {
      "text/plain": [
       "<matplotlib.axes._subplots.AxesSubplot at 0x1ef5ea55e10>"
      ]
     },
     "execution_count": 232,
     "metadata": {},
     "output_type": "execute_result"
    },
    {
     "data": {
      "image/png": "[encoded data removed]",
      "text/plain": [
       "<matplotlib.figure.Figure at 0x1ef5ea55898>"
      ]
     },
     "metadata": {},
     "output_type": "display_data"
    }
   ],
   "source": [
    "sns.heatmap(gw2.corr())"
   ]
  },
  {
   "cell_type": "code",
   "execution_count": 233,
   "metadata": {},
   "outputs": [],
   "source": [
    "gw3 = gw2[gw2.columns.difference(['Temp'])]"
   ]
  },
  {
   "cell_type": "code",
   "execution_count": 234,
   "metadata": {},
   "outputs": [],
   "source": [
    "# Create features\n",
    "X, y = gw3, gw2.Temp"
   ]
  },
  {
   "cell_type": "code",
   "execution_count": 235,
   "metadata": {},
   "outputs": [],
   "source": [
    "# Make test and training split\n",
    "X_train, X_test, y_train, y_test = train_test_split(X, y, test_size = 0.3)"
   ]
  },
  {
   "cell_type": "code",
   "execution_count": 236,
   "metadata": {},
   "outputs": [],
   "source": [
    "# Create a dummy regressor\n",
    "dummy_mean = DummyRegressor(strategy='mean')"
   ]
  },
  {
   "cell_type": "code",
   "execution_count": 237,
   "metadata": {},
   "outputs": [],
   "source": [
    "# \"Train\" dummy regressor\n",
    "model=dummy_mean.fit(X_train, y_train)"
   ]
  },
  {
   "cell_type": "code",
   "execution_count": 238,
   "metadata": {},
   "outputs": [],
   "source": [
    "# Create a dummy regressor\n",
    "#dummy_constant = DummyRegressor(strategy='constant', constant=20)\n",
    "\n",
    "# \"Train\" dummy regressor\n",
    "#dummy_constant.fit(X_train, y_train)"
   ]
  },
  {
   "cell_type": "code",
   "execution_count": 239,
   "metadata": {},
   "outputs": [],
   "source": [
    "# Get R-squared score\n",
    "#dummy_constant.score(X_test, y_test)  "
   ]
  },
  {
   "cell_type": "code",
   "execution_count": 240,
   "metadata": {},
   "outputs": [
    {
     "data": {
      "text/plain": [
       "-1.0771487450433881e-05"
      ]
     },
     "execution_count": 240,
     "metadata": {},
     "output_type": "execute_result"
    }
   ],
   "source": [
    "model.score(X,y)"
   ]
  },
  {
   "cell_type": "code",
   "execution_count": 442,
   "metadata": {},
   "outputs": [],
   "source": [
    "Y_base=model.predict(X_train)"
   ]
  },
  {
   "cell_type": "code",
   "execution_count": 444,
   "metadata": {},
   "outputs": [
    {
     "data": {
      "text/plain": [
       "array([ 0.25736279,  0.25736279,  0.25736279,  0.25736279,  0.25736279,\n",
       "        0.25736279,  0.25736279,  0.25736279,  0.25736279,  0.25736279,\n",
       "        0.25736279,  0.25736279,  0.25736279,  0.25736279,  0.25736279,\n",
       "        0.25736279,  0.25736279,  0.25736279,  0.25736279,  0.25736279,\n",
       "        0.25736279,  0.25736279,  0.25736279,  0.25736279,  0.25736279,\n",
       "        0.25736279,  0.25736279,  0.25736279,  0.25736279,  0.25736279,\n",
       "        0.25736279,  0.25736279,  0.25736279,  0.25736279,  0.25736279,\n",
       "        0.25736279,  0.25736279,  0.25736279,  0.25736279,  0.25736279,\n",
       "        0.25736279,  0.25736279,  0.25736279,  0.25736279,  0.25736279,\n",
       "        0.25736279,  0.25736279,  0.25736279,  0.25736279,  0.25736279,\n",
       "        0.25736279,  0.25736279,  0.25736279,  0.25736279,  0.25736279,\n",
       "        0.25736279,  0.25736279,  0.25736279,  0.25736279,  0.25736279,\n",
       "        0.25736279,  0.25736279,  0.25736279,  0.25736279,  0.25736279,\n",
       "        0.25736279,  0.25736279,  0.25736279,  0.25736279,  0.25736279,\n",
       "        0.25736279,  0.25736279,  0.25736279,  0.25736279,  0.25736279,\n",
       "        0.25736279,  0.25736279,  0.25736279,  0.25736279,  0.25736279,\n",
       "        0.25736279,  0.25736279,  0.25736279,  0.25736279,  0.25736279,\n",
       "        0.25736279,  0.25736279,  0.25736279,  0.25736279,  0.25736279,\n",
       "        0.25736279,  0.25736279,  0.25736279,  0.25736279,  0.25736279,\n",
       "        0.25736279,  0.25736279,  0.25736279,  0.25736279,  0.25736279,\n",
       "        0.25736279,  0.25736279,  0.25736279,  0.25736279,  0.25736279,\n",
       "        0.25736279,  0.25736279,  0.25736279,  0.25736279,  0.25736279,\n",
       "        0.25736279,  0.25736279,  0.25736279,  0.25736279,  0.25736279,\n",
       "        0.25736279,  0.25736279,  0.25736279,  0.25736279,  0.25736279,\n",
       "        0.25736279,  0.25736279,  0.25736279,  0.25736279,  0.25736279,\n",
       "        0.25736279,  0.25736279,  0.25736279,  0.25736279,  0.25736279,\n",
       "        0.25736279,  0.25736279,  0.25736279,  0.25736279,  0.25736279,\n",
       "        0.25736279,  0.25736279,  0.25736279,  0.25736279,  0.25736279,\n",
       "        0.25736279,  0.25736279,  0.25736279,  0.25736279,  0.25736279,\n",
       "        0.25736279,  0.25736279,  0.25736279,  0.25736279,  0.25736279,\n",
       "        0.25736279,  0.25736279,  0.25736279,  0.25736279,  0.25736279,\n",
       "        0.25736279,  0.25736279,  0.25736279,  0.25736279,  0.25736279,\n",
       "        0.25736279,  0.25736279,  0.25736279,  0.25736279,  0.25736279,\n",
       "        0.25736279,  0.25736279,  0.25736279,  0.25736279,  0.25736279,\n",
       "        0.25736279,  0.25736279,  0.25736279,  0.25736279,  0.25736279,\n",
       "        0.25736279,  0.25736279,  0.25736279,  0.25736279,  0.25736279,\n",
       "        0.25736279,  0.25736279,  0.25736279,  0.25736279,  0.25736279,\n",
       "        0.25736279,  0.25736279,  0.25736279,  0.25736279,  0.25736279,\n",
       "        0.25736279,  0.25736279,  0.25736279,  0.25736279,  0.25736279,\n",
       "        0.25736279,  0.25736279,  0.25736279,  0.25736279,  0.25736279,\n",
       "        0.25736279,  0.25736279,  0.25736279,  0.25736279,  0.25736279,\n",
       "        0.25736279,  0.25736279,  0.25736279,  0.25736279,  0.25736279,\n",
       "        0.25736279,  0.25736279,  0.25736279,  0.25736279,  0.25736279])"
      ]
     },
     "execution_count": 444,
     "metadata": {},
     "output_type": "execute_result"
    }
   ],
   "source": [
    "Y_base"
   ]
  },
  {
   "cell_type": "code",
   "execution_count": 243,
   "metadata": {},
   "outputs": [],
   "source": [
    "df=(y_train-Y)**2"
   ]
  },
  {
   "cell_type": "code",
   "execution_count": 244,
   "metadata": {},
   "outputs": [
    {
     "data": {
      "text/plain": [
       "6.5434317023255817"
      ]
     },
     "execution_count": 244,
     "metadata": {},
     "output_type": "execute_result"
    }
   ],
   "source": [
    "df.sum()"
   ]
  },
  {
   "cell_type": "code",
   "execution_count": 245,
   "metadata": {},
   "outputs": [
    {
     "data": {
      "text/html": [
       "<div>\n",
       "<style scoped>\n",
       "    .dataframe tbody tr th:only-of-type {\n",
       "        vertical-align: middle;\n",
       "    }\n",
       "\n",
       "    .dataframe tbody tr th {\n",
       "        vertical-align: top;\n",
       "    }\n",
       "\n",
       "    .dataframe thead th {\n",
       "        text-align: right;\n",
       "    }\n",
       "</style>\n",
       "<table border=\"1\" class=\"dataframe\">\n",
       "  <thead>\n",
       "    <tr style=\"text-align: right;\">\n",
       "      <th></th>\n",
       "      <th>Aerosols</th>\n",
       "      <th>CFC-11</th>\n",
       "      <th>CFC-12</th>\n",
       "      <th>CH4</th>\n",
       "      <th>CO2</th>\n",
       "      <th>MEI</th>\n",
       "      <th>N2O</th>\n",
       "      <th>TSI</th>\n",
       "    </tr>\n",
       "  </thead>\n",
       "  <tbody>\n",
       "    <tr>\n",
       "      <th>0</th>\n",
       "      <td>0.0863</td>\n",
       "      <td>191.324</td>\n",
       "      <td>350.113</td>\n",
       "      <td>1638.59</td>\n",
       "      <td>345.96</td>\n",
       "      <td>2.556</td>\n",
       "      <td>303.677</td>\n",
       "      <td>1366.1024</td>\n",
       "    </tr>\n",
       "    <tr>\n",
       "      <th>1</th>\n",
       "      <td>0.0794</td>\n",
       "      <td>192.057</td>\n",
       "      <td>351.848</td>\n",
       "      <td>1633.71</td>\n",
       "      <td>345.52</td>\n",
       "      <td>2.167</td>\n",
       "      <td>303.746</td>\n",
       "      <td>1366.1208</td>\n",
       "    </tr>\n",
       "    <tr>\n",
       "      <th>2</th>\n",
       "      <td>0.0731</td>\n",
       "      <td>192.818</td>\n",
       "      <td>353.725</td>\n",
       "      <td>1633.22</td>\n",
       "      <td>344.15</td>\n",
       "      <td>1.741</td>\n",
       "      <td>303.795</td>\n",
       "      <td>1366.2850</td>\n",
       "    </tr>\n",
       "    <tr>\n",
       "      <th>3</th>\n",
       "      <td>0.0673</td>\n",
       "      <td>193.602</td>\n",
       "      <td>355.633</td>\n",
       "      <td>1631.35</td>\n",
       "      <td>342.25</td>\n",
       "      <td>1.130</td>\n",
       "      <td>303.839</td>\n",
       "      <td>1366.4202</td>\n",
       "    </tr>\n",
       "    <tr>\n",
       "      <th>4</th>\n",
       "      <td>0.0619</td>\n",
       "      <td>194.392</td>\n",
       "      <td>357.465</td>\n",
       "      <td>1648.40</td>\n",
       "      <td>340.17</td>\n",
       "      <td>0.428</td>\n",
       "      <td>303.901</td>\n",
       "      <td>1366.2335</td>\n",
       "    </tr>\n",
       "  </tbody>\n",
       "</table>\n",
       "</div>"
      ],
      "text/plain": [
       "   Aerosols   CFC-11   CFC-12      CH4     CO2    MEI      N2O        TSI\n",
       "0    0.0863  191.324  350.113  1638.59  345.96  2.556  303.677  1366.1024\n",
       "1    0.0794  192.057  351.848  1633.71  345.52  2.167  303.746  1366.1208\n",
       "2    0.0731  192.818  353.725  1633.22  344.15  1.741  303.795  1366.2850\n",
       "3    0.0673  193.602  355.633  1631.35  342.25  1.130  303.839  1366.4202\n",
       "4    0.0619  194.392  357.465  1648.40  340.17  0.428  303.901  1366.2335"
      ]
     },
     "execution_count": 245,
     "metadata": {},
     "output_type": "execute_result"
    }
   ],
   "source": [
    "gw3.head()"
   ]
  },
  {
   "cell_type": "markdown",
   "metadata": {},
   "source": [
    "5)\tBuild a linear regression model to predict the dependent variable Temp, using CO2, N2O, CFC.12, and Aerosols as independent variables. Find the RMSE, SSE and MAPE for the above Model. What is the model R2 (the \"Multiple R-squared\" value & Adjusted R2)."
   ]
  },
  {
   "cell_type": "code",
   "execution_count": 316,
   "metadata": {},
   "outputs": [],
   "source": [
    "gw4 = gw3[['CO2', 'N2O','CFC-12','Aerosols']]"
   ]
  },
  {
   "cell_type": "code",
   "execution_count": 317,
   "metadata": {},
   "outputs": [
    {
     "data": {
      "text/html": [
       "<div>\n",
       "<style scoped>\n",
       "    .dataframe tbody tr th:only-of-type {\n",
       "        vertical-align: middle;\n",
       "    }\n",
       "\n",
       "    .dataframe tbody tr th {\n",
       "        vertical-align: top;\n",
       "    }\n",
       "\n",
       "    .dataframe thead th {\n",
       "        text-align: right;\n",
       "    }\n",
       "</style>\n",
       "<table border=\"1\" class=\"dataframe\">\n",
       "  <thead>\n",
       "    <tr style=\"text-align: right;\">\n",
       "      <th></th>\n",
       "      <th>CO2</th>\n",
       "      <th>N2O</th>\n",
       "      <th>CFC-12</th>\n",
       "      <th>Aerosols</th>\n",
       "    </tr>\n",
       "  </thead>\n",
       "  <tbody>\n",
       "    <tr>\n",
       "      <th>0</th>\n",
       "      <td>345.96</td>\n",
       "      <td>303.677</td>\n",
       "      <td>350.113</td>\n",
       "      <td>0.0863</td>\n",
       "    </tr>\n",
       "    <tr>\n",
       "      <th>1</th>\n",
       "      <td>345.52</td>\n",
       "      <td>303.746</td>\n",
       "      <td>351.848</td>\n",
       "      <td>0.0794</td>\n",
       "    </tr>\n",
       "    <tr>\n",
       "      <th>2</th>\n",
       "      <td>344.15</td>\n",
       "      <td>303.795</td>\n",
       "      <td>353.725</td>\n",
       "      <td>0.0731</td>\n",
       "    </tr>\n",
       "    <tr>\n",
       "      <th>3</th>\n",
       "      <td>342.25</td>\n",
       "      <td>303.839</td>\n",
       "      <td>355.633</td>\n",
       "      <td>0.0673</td>\n",
       "    </tr>\n",
       "    <tr>\n",
       "      <th>4</th>\n",
       "      <td>340.17</td>\n",
       "      <td>303.901</td>\n",
       "      <td>357.465</td>\n",
       "      <td>0.0619</td>\n",
       "    </tr>\n",
       "  </tbody>\n",
       "</table>\n",
       "</div>"
      ],
      "text/plain": [
       "      CO2      N2O   CFC-12  Aerosols\n",
       "0  345.96  303.677  350.113    0.0863\n",
       "1  345.52  303.746  351.848    0.0794\n",
       "2  344.15  303.795  353.725    0.0731\n",
       "3  342.25  303.839  355.633    0.0673\n",
       "4  340.17  303.901  357.465    0.0619"
      ]
     },
     "execution_count": 317,
     "metadata": {},
     "output_type": "execute_result"
    }
   ],
   "source": [
    "gw4.head()"
   ]
  },
  {
   "cell_type": "code",
   "execution_count": 318,
   "metadata": {},
   "outputs": [],
   "source": [
    "X,y=gw4,gw2.Temp"
   ]
  },
  {
   "cell_type": "code",
   "execution_count": 397,
   "metadata": {},
   "outputs": [],
   "source": []
  },
  {
   "cell_type": "code",
   "execution_count": 428,
   "metadata": {},
   "outputs": [],
   "source": [
    "np.random.seed(40)\n",
    "X_train, X_test, y_train, y_test = train_test_split(X, y, test_size = 0.3)"
   ]
  },
  {
   "cell_type": "code",
   "execution_count": 429,
   "metadata": {},
   "outputs": [],
   "source": [
    "regR = linear_model.LinearRegression()"
   ]
  },
  {
   "cell_type": "code",
   "execution_count": 430,
   "metadata": {},
   "outputs": [],
   "source": [
    "model1=regR.fit(X_train,y_train)"
   ]
  },
  {
   "cell_type": "code",
   "execution_count": 431,
   "metadata": {},
   "outputs": [],
   "source": [
    "#X_train=sm.add_constant(X_train) #for getting intercept value321"
   ]
  },
  {
   "cell_type": "code",
   "execution_count": 432,
   "metadata": {},
   "outputs": [],
   "source": [
    "#linRegModel=sm.OLS(y_train,X_train).fit()"
   ]
  },
  {
   "cell_type": "code",
   "execution_count": 433,
   "metadata": {},
   "outputs": [],
   "source": [
    "#linRegModel.summary()"
   ]
  },
  {
   "cell_type": "code",
   "execution_count": 434,
   "metadata": {},
   "outputs": [],
   "source": [
    "y_pred=model1.predict(X_train)"
   ]
  },
  {
   "cell_type": "code",
   "execution_count": 435,
   "metadata": {},
   "outputs": [
    {
     "name": "stdout",
     "output_type": "stream",
     "text": [
      "R^2: 0.596931221879\n",
      "MAE: 0.0865178766525\n",
      "RSE: 0.0125873537873\n",
      "RMSE: 0.112193376753\n"
     ]
    }
   ],
   "source": [
    "print('R^2:',metrics.r2_score(y_train, y_pred))\n",
    "print('MAE:',metrics.mean_absolute_error(y_train, y_pred))\n",
    "print('RSE:',metrics.mean_squared_error(y_train, y_pred))\n",
    "print('RMSE:',np.sqrt(metrics.mean_squared_error(y_train, y_pred)))"
   ]
  },
  {
   "cell_type": "code",
   "execution_count": 436,
   "metadata": {},
   "outputs": [],
   "source": [
    "y_pred_test=model1.predict(X_test)"
   ]
  },
  {
   "cell_type": "code",
   "execution_count": 438,
   "metadata": {},
   "outputs": [
    {
     "name": "stdout",
     "output_type": "stream",
     "text": [
      "R^2: 0.590232270295\n",
      "MAE: 0.0924943831888\n",
      "MSE: 0.0136835096292\n",
      "RMSE: 0.116976534524\n"
     ]
    }
   ],
   "source": [
    "print('R^2:',metrics.r2_score(y_test, y_pred_test))\n",
    "print('MAE:',metrics.mean_absolute_error(y_test, y_pred_test))\n",
    "print('MSE:',metrics.mean_squared_error(y_test, y_pred_test))\n",
    "print('RMSE:',np.sqrt(metrics.mean_squared_error(y_test, y_pred_test)))"
   ]
  },
  {
   "cell_type": "markdown",
   "metadata": {},
   "source": [
    "##### SSE for train"
   ]
  },
  {
   "cell_type": "code",
   "execution_count": 439,
   "metadata": {},
   "outputs": [],
   "source": [
    "se=(y_train-y_pred)**2"
   ]
  },
  {
   "cell_type": "code",
   "execution_count": 441,
   "metadata": {},
   "outputs": [
    {
     "data": {
      "text/plain": [
       "2.7062810642731749"
      ]
     },
     "execution_count": 441,
     "metadata": {},
     "output_type": "execute_result"
    }
   ],
   "source": [
    "sse=se.sum()\n",
    "sse"
   ]
  },
  {
   "cell_type": "markdown",
   "metadata": {},
   "source": [
    "##### SST for train"
   ]
  },
  {
   "cell_type": "code",
   "execution_count": 445,
   "metadata": {},
   "outputs": [],
   "source": [
    "st=(y_train-Y_base)**2"
   ]
  },
  {
   "cell_type": "code",
   "execution_count": 446,
   "metadata": {},
   "outputs": [
    {
     "data": {
      "text/plain": [
       "6.7207782604651154"
      ]
     },
     "execution_count": 446,
     "metadata": {},
     "output_type": "execute_result"
    }
   ],
   "source": [
    "sst=st.sum()\n",
    "sst"
   ]
  },
  {
   "cell_type": "markdown",
   "metadata": {},
   "source": [
    "##### SSR for train"
   ]
  },
  {
   "cell_type": "code",
   "execution_count": 447,
   "metadata": {},
   "outputs": [
    {
     "data": {
      "text/plain": [
       "4.0144971961919405"
      ]
     },
     "execution_count": 447,
     "metadata": {},
     "output_type": "execute_result"
    }
   ],
   "source": [
    "ssr=sst-sse\n",
    "ssr"
   ]
  },
  {
   "cell_type": "markdown",
   "metadata": {},
   "source": [
    "##### MAPE of model"
   ]
  },
  {
   "cell_type": "code",
   "execution_count": 448,
   "metadata": {},
   "outputs": [],
   "source": [
    "def mean_absolute_percentage_error(y_train, y_pred): \n",
    "    y_train, y_pred = np.array(y_train), np.array(y_pred)\n",
    "    return np.mean(np.abs((y_train - y_pred) / y_train)) * 100"
   ]
  },
  {
   "cell_type": "code",
   "execution_count": 454,
   "metadata": {},
   "outputs": [
    {
     "data": {
      "text/plain": [
       "157.94806425140246"
      ]
     },
     "execution_count": 454,
     "metadata": {},
     "output_type": "execute_result"
    }
   ],
   "source": [
    "mean_absolute_percentage_error(y_train, y_pred)"
   ]
  },
  {
   "cell_type": "markdown",
   "metadata": {},
   "source": [
    "##### Adjusted R2"
   ]
  },
  {
   "cell_type": "code",
   "execution_count": 463,
   "metadata": {},
   "outputs": [
    {
     "data": {
      "text/plain": [
       "0.58925372134347409"
      ]
     },
     "execution_count": 463,
     "metadata": {},
     "output_type": "execute_result"
    }
   ],
   "source": [
    "1-(1-metrics.r2_score(y_train, y_pred))*(len(y_train)-1)/(len(y_train)-4-1)"
   ]
  },
  {
   "cell_type": "markdown",
   "metadata": {},
   "source": [
    "##### MSR"
   ]
  },
  {
   "cell_type": "code",
   "execution_count": 464,
   "metadata": {},
   "outputs": [
    {
     "data": {
      "text/plain": [
       "1.0036242990479851"
      ]
     },
     "execution_count": 464,
     "metadata": {},
     "output_type": "execute_result"
    }
   ],
   "source": [
    "msr=ssr/4\n",
    "msr"
   ]
  },
  {
   "cell_type": "markdown",
   "metadata": {},
   "source": [
    "##### MSE"
   ]
  },
  {
   "cell_type": "code",
   "execution_count": 467,
   "metadata": {},
   "outputs": [
    {
     "data": {
      "text/plain": [
       "0.012887052687015118"
      ]
     },
     "execution_count": 467,
     "metadata": {},
     "output_type": "execute_result"
    }
   ],
   "source": [
    "mse=sse/(len(y_train)-4-1)\n",
    "mse\n"
   ]
  },
  {
   "cell_type": "markdown",
   "metadata": {},
   "source": [
    "##### F-Stat"
   ]
  },
  {
   "cell_type": "code",
   "execution_count": 469,
   "metadata": {},
   "outputs": [
    {
     "data": {
      "text/plain": [
       "77.878497389804906"
      ]
     },
     "execution_count": 469,
     "metadata": {},
     "output_type": "execute_result"
    }
   ],
   "source": [
    "fstat=msr/mse\n",
    "fstat"
   ]
  },
  {
   "cell_type": "markdown",
   "metadata": {},
   "source": [
    "#### Residual Analysis"
   ]
  },
  {
   "cell_type": "code",
   "execution_count": null,
   "metadata": {},
   "outputs": [],
   "source": []
  },
  {
   "cell_type": "markdown",
   "metadata": {},
   "source": [
    "##### Independence of errors"
   ]
  },
  {
   "cell_type": "code",
   "execution_count": 471,
   "metadata": {},
   "outputs": [
    {
     "data": {
      "text/plain": [
       "<matplotlib.collections.PathCollection at 0x1ef5ebf9898>"
      ]
     },
     "execution_count": 471,
     "metadata": {},
     "output_type": "execute_result"
    },
    {
     "data": {
      "image/png": "[encoded data removed]",
      "text/plain": [
       "<matplotlib.figure.Figure at 0x1ef5ea29978>"
      ]
     },
     "metadata": {},
     "output_type": "display_data"
    }
   ],
   "source": [
    "plt.scatter(y_train,y_train-y_pred)"
   ]
  },
  {
   "cell_type": "markdown",
   "metadata": {},
   "source": [
    "##### Normality"
   ]
  },
  {
   "cell_type": "code",
   "execution_count": 475,
   "metadata": {},
   "outputs": [
    {
     "data": {
      "text/plain": [
       "<matplotlib.axes._subplots.AxesSubplot at 0x1ef6046b048>"
      ]
     },
     "execution_count": 475,
     "metadata": {},
     "output_type": "execute_result"
    },
    {
     "data": {
      "image/png": "[encoded data removed]",
      "text/plain": [
       "<matplotlib.figure.Figure at 0x1ef60476e80>"
      ]
     },
     "metadata": {},
     "output_type": "display_data"
    }
   ],
   "source": [
    "sns.distplot(y_train-y_pred)"
   ]
  },
  {
   "cell_type": "markdown",
   "metadata": {},
   "source": [
    "##### Linearity"
   ]
  },
  {
   "cell_type": "code",
   "execution_count": 476,
   "metadata": {},
   "outputs": [
    {
     "data": {
      "text/plain": [
       "<matplotlib.collections.PathCollection at 0x1ef602ea358>"
      ]
     },
     "execution_count": 476,
     "metadata": {},
     "output_type": "execute_result"
    },
    {
     "data": {
      "image/png": "[encoded data removed]",
      "text/plain": [
       "<matplotlib.figure.Figure at 0x1ef60447978>"
      ]
     },
     "metadata": {},
     "output_type": "display_data"
    }
   ],
   "source": [
    "plt.scatter(X_train[[\"CO2\"]],y_train-y_pred)"
   ]
  },
  {
   "cell_type": "code",
   "execution_count": 477,
   "metadata": {},
   "outputs": [
    {
     "data": {
      "text/plain": [
       "<matplotlib.collections.PathCollection at 0x1ef602a2eb8>"
      ]
     },
     "execution_count": 477,
     "metadata": {},
     "output_type": "execute_result"
    },
    {
     "data": {
      "image/png": "[encoded data removed]",
      "text/plain": [
       "<matplotlib.figure.Figure at 0x1ef60748b00>"
      ]
     },
     "metadata": {},
     "output_type": "display_data"
    }
   ],
   "source": [
    "plt.scatter(X_train[[\"N2O\"]],y_train-y_pred)"
   ]
  },
  {
   "cell_type": "code",
   "execution_count": 478,
   "metadata": {},
   "outputs": [
    {
     "data": {
      "text/plain": [
       "<matplotlib.collections.PathCollection at 0x1ef609424a8>"
      ]
     },
     "execution_count": 478,
     "metadata": {},
     "output_type": "execute_result"
    },
    {
     "data": {
      "image/png": "[encoded data removed]",
      "text/plain": [
       "<matplotlib.figure.Figure at 0x1ef60a3a9e8>"
      ]
     },
     "metadata": {},
     "output_type": "display_data"
    }
   ],
   "source": [
    "plt.scatter(X_train[[\"CFC-12\"]],y_train-y_pred)"
   ]
  },
  {
   "cell_type": "code",
   "execution_count": 479,
   "metadata": {},
   "outputs": [
    {
     "data": {
      "text/plain": [
       "<matplotlib.collections.PathCollection at 0x1ef5ed1b898>"
      ]
     },
     "execution_count": 479,
     "metadata": {},
     "output_type": "execute_result"
    },
    {
     "data": {
      "image/png": "[encoded data removed]",
      "text/plain": [
       "<matplotlib.figure.Figure at 0x1ef5ff0ac88>"
      ]
     },
     "metadata": {},
     "output_type": "display_data"
    }
   ],
   "source": [
    "plt.scatter(X_train[[\"Aerosols\"]],y_train-y_pred)"
   ]
  },
  {
   "cell_type": "code",
   "execution_count": null,
   "metadata": {},
   "outputs": [],
   "source": []
  }
 ],
 "metadata": {
  "kernelspec": {
   "display_name": "Python 3",
   "language": "python",
   "name": "python3"
  },
  "language_info": {
   "codemirror_mode": {
    "name": "ipython",
    "version": 3
   },
   "file_extension": ".py",
   "mimetype": "text/x-python",
   "name": "python",
   "nbconvert_exporter": "python",
   "pygments_lexer": "ipython3",
   "version": "3.6.4"
  }
 },
 "nbformat": 4,
 "nbformat_minor": 2
}

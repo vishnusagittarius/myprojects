{
 "cells": [
  {
   "cell_type": "code",
   "execution_count": 415,
   "metadata": {},
   "outputs": [],
   "source": [
    "import pandas as pd\n",
    "import numpy as np\n",
    "from sklearn import preprocessing\n",
    "import matplotlib.pyplot as plt \n",
    "plt.rc(\"font\", size=14)\n",
    "from sklearn.linear_model import LogisticRegression\n",
    "from sklearn.cross_validation import train_test_split\n",
    "import seaborn as sns\n",
    "sns.set(style=\"white\")\n",
    "sns.set(style=\"whitegrid\", color_codes=True)\n",
    "import os\n",
    "import pandas as pd\n",
    "import numpy as np\n",
    "import matplotlib.pyplot as plt\n",
    "from sklearn.model_selection import train_test_split\n",
    "import statsmodels.api as sm\n",
    "import seaborn as sns\n",
    "import random \n",
    "from sklearn import metrics\n",
    "from sklearn.dummy import DummyRegressor\n",
    "sns.set(color_codes=True)"
   ]
  },
  {
   "cell_type": "code",
   "execution_count": 416,
   "metadata": {},
   "outputs": [],
   "source": [
    "loan=pd.read_csv(\"loans.csv\")"
   ]
  },
  {
   "cell_type": "code",
   "execution_count": 417,
   "metadata": {},
   "outputs": [
    {
     "data": {
      "text/html": [
       "<div>\n",
       "<style scoped>\n",
       "    .dataframe tbody tr th:only-of-type {\n",
       "        vertical-align: middle;\n",
       "    }\n",
       "\n",
       "    .dataframe tbody tr th {\n",
       "        vertical-align: top;\n",
       "    }\n",
       "\n",
       "    .dataframe thead th {\n",
       "        text-align: right;\n",
       "    }\n",
       "</style>\n",
       "<table border=\"1\" class=\"dataframe\">\n",
       "  <thead>\n",
       "    <tr style=\"text-align: right;\">\n",
       "      <th></th>\n",
       "      <th>credit.policy</th>\n",
       "      <th>purpose</th>\n",
       "      <th>int.rate</th>\n",
       "      <th>installment</th>\n",
       "      <th>log.annual.inc</th>\n",
       "      <th>dti</th>\n",
       "      <th>fico</th>\n",
       "      <th>days.with.cr.line</th>\n",
       "      <th>revol.bal</th>\n",
       "      <th>revol.util</th>\n",
       "      <th>inq.last.6mths</th>\n",
       "      <th>delinq.2yrs</th>\n",
       "      <th>pub.rec</th>\n",
       "      <th>not.fully.paid</th>\n",
       "    </tr>\n",
       "  </thead>\n",
       "  <tbody>\n",
       "    <tr>\n",
       "      <th>0</th>\n",
       "      <td>1</td>\n",
       "      <td>debt_consolidation</td>\n",
       "      <td>0.1189</td>\n",
       "      <td>829.10</td>\n",
       "      <td>11.350407</td>\n",
       "      <td>19.48</td>\n",
       "      <td>737</td>\n",
       "      <td>5639.958333</td>\n",
       "      <td>28854</td>\n",
       "      <td>52.1</td>\n",
       "      <td>0</td>\n",
       "      <td>0</td>\n",
       "      <td>0</td>\n",
       "      <td>0</td>\n",
       "    </tr>\n",
       "    <tr>\n",
       "      <th>1</th>\n",
       "      <td>1</td>\n",
       "      <td>credit_card</td>\n",
       "      <td>0.1071</td>\n",
       "      <td>228.22</td>\n",
       "      <td>11.082143</td>\n",
       "      <td>14.29</td>\n",
       "      <td>707</td>\n",
       "      <td>2760.000000</td>\n",
       "      <td>33623</td>\n",
       "      <td>76.7</td>\n",
       "      <td>0</td>\n",
       "      <td>0</td>\n",
       "      <td>0</td>\n",
       "      <td>0</td>\n",
       "    </tr>\n",
       "    <tr>\n",
       "      <th>2</th>\n",
       "      <td>1</td>\n",
       "      <td>debt_consolidation</td>\n",
       "      <td>0.1357</td>\n",
       "      <td>366.86</td>\n",
       "      <td>10.373491</td>\n",
       "      <td>11.63</td>\n",
       "      <td>682</td>\n",
       "      <td>4710.000000</td>\n",
       "      <td>3511</td>\n",
       "      <td>25.6</td>\n",
       "      <td>1</td>\n",
       "      <td>0</td>\n",
       "      <td>0</td>\n",
       "      <td>0</td>\n",
       "    </tr>\n",
       "    <tr>\n",
       "      <th>3</th>\n",
       "      <td>1</td>\n",
       "      <td>debt_consolidation</td>\n",
       "      <td>0.1008</td>\n",
       "      <td>162.34</td>\n",
       "      <td>11.350407</td>\n",
       "      <td>8.10</td>\n",
       "      <td>712</td>\n",
       "      <td>2699.958333</td>\n",
       "      <td>33667</td>\n",
       "      <td>73.2</td>\n",
       "      <td>1</td>\n",
       "      <td>0</td>\n",
       "      <td>0</td>\n",
       "      <td>0</td>\n",
       "    </tr>\n",
       "    <tr>\n",
       "      <th>4</th>\n",
       "      <td>1</td>\n",
       "      <td>credit_card</td>\n",
       "      <td>0.1426</td>\n",
       "      <td>102.92</td>\n",
       "      <td>11.299732</td>\n",
       "      <td>14.97</td>\n",
       "      <td>667</td>\n",
       "      <td>4066.000000</td>\n",
       "      <td>4740</td>\n",
       "      <td>39.5</td>\n",
       "      <td>0</td>\n",
       "      <td>1</td>\n",
       "      <td>0</td>\n",
       "      <td>0</td>\n",
       "    </tr>\n",
       "  </tbody>\n",
       "</table>\n",
       "</div>"
      ],
      "text/plain": [
       "   credit.policy             purpose  int.rate  installment  log.annual.inc  \\\n",
       "0              1  debt_consolidation    0.1189       829.10       11.350407   \n",
       "1              1         credit_card    0.1071       228.22       11.082143   \n",
       "2              1  debt_consolidation    0.1357       366.86       10.373491   \n",
       "3              1  debt_consolidation    0.1008       162.34       11.350407   \n",
       "4              1         credit_card    0.1426       102.92       11.299732   \n",
       "\n",
       "     dti  fico  days.with.cr.line  revol.bal  revol.util  inq.last.6mths  \\\n",
       "0  19.48   737        5639.958333      28854        52.1               0   \n",
       "1  14.29   707        2760.000000      33623        76.7               0   \n",
       "2  11.63   682        4710.000000       3511        25.6               1   \n",
       "3   8.10   712        2699.958333      33667        73.2               1   \n",
       "4  14.97   667        4066.000000       4740        39.5               0   \n",
       "\n",
       "   delinq.2yrs  pub.rec  not.fully.paid  \n",
       "0            0        0               0  \n",
       "1            0        0               0  \n",
       "2            0        0               0  \n",
       "3            0        0               0  \n",
       "4            1        0               0  "
      ]
     },
     "execution_count": 417,
     "metadata": {},
     "output_type": "execute_result"
    }
   ],
   "source": [
    "loan.head()"
   ]
  },
  {
   "cell_type": "code",
   "execution_count": 418,
   "metadata": {},
   "outputs": [
    {
     "name": "stdout",
     "output_type": "stream",
     "text": [
      "(9578, 14)\n"
     ]
    },
    {
     "data": {
      "text/plain": [
       "credit.policy           2\n",
       "purpose                 7\n",
       "int.rate              249\n",
       "installment          4788\n",
       "log.annual.inc       1987\n",
       "dti                  2529\n",
       "fico                   44\n",
       "days.with.cr.line    2687\n",
       "revol.bal            7869\n",
       "revol.util           1035\n",
       "inq.last.6mths         28\n",
       "delinq.2yrs            11\n",
       "pub.rec                 6\n",
       "not.fully.paid          2\n",
       "dtype: int64"
      ]
     },
     "execution_count": 418,
     "metadata": {},
     "output_type": "execute_result"
    }
   ],
   "source": [
    "print(loan.shape)\n",
    "loan.nunique()"
   ]
  },
  {
   "cell_type": "markdown",
   "metadata": {},
   "source": [
    "#### Barplot for the dependent variable"
   ]
  },
  {
   "cell_type": "code",
   "execution_count": 419,
   "metadata": {},
   "outputs": [
    {
     "data": {
      "image/png": "[encoded data removed]",
      "text/plain": [
       "<matplotlib.figure.Figure at 0x1c907a9d6a0>"
      ]
     },
     "metadata": {},
     "output_type": "display_data"
    }
   ],
   "source": [
    "sns.countplot(x='not.fully.paid',data=loan, palette='hls')\n",
    "plt.show()"
   ]
  },
  {
   "cell_type": "markdown",
   "metadata": {},
   "source": [
    "##### Check the missing values"
   ]
  },
  {
   "cell_type": "code",
   "execution_count": 420,
   "metadata": {},
   "outputs": [
    {
     "data": {
      "text/plain": [
       "0    8045\n",
       "1    1533\n",
       "Name: not.fully.paid, dtype: int64"
      ]
     },
     "execution_count": 420,
     "metadata": {},
     "output_type": "execute_result"
    }
   ],
   "source": [
    "loan['not.fully.paid'].value_counts()"
   ]
  },
  {
   "cell_type": "code",
   "execution_count": 421,
   "metadata": {},
   "outputs": [
    {
     "data": {
      "text/plain": [
       "0.8399457089162664"
      ]
     },
     "execution_count": 421,
     "metadata": {},
     "output_type": "execute_result"
    }
   ],
   "source": [
    "8045/(1533+8045)"
   ]
  },
  {
   "cell_type": "markdown",
   "metadata": {},
   "source": [
    "##### Customer purpose distribution"
   ]
  },
  {
   "cell_type": "code",
   "execution_count": 422,
   "metadata": {},
   "outputs": [
    {
     "data": {
      "image/png": "[encoded data removed]",
      "text/plain": [
       "<matplotlib.figure.Figure at 0x1c907102390>"
      ]
     },
     "metadata": {},
     "output_type": "display_data"
    }
   ],
   "source": [
    "sns.countplot(y=\"purpose\", data=loan)\n",
    "plt.show()"
   ]
  },
  {
   "cell_type": "markdown",
   "metadata": {},
   "source": [
    "##### •\tdelinq.2yrs"
   ]
  },
  {
   "cell_type": "code",
   "execution_count": 423,
   "metadata": {},
   "outputs": [
    {
     "data": {
      "image/png": "[encoded data removed]",
      "text/plain": [
       "<matplotlib.figure.Figure at 0x1c9094574a8>"
      ]
     },
     "metadata": {},
     "output_type": "display_data"
    }
   ],
   "source": [
    "sns.countplot(x=\"delinq.2yrs\", data=loan)\n",
    "plt.show()"
   ]
  },
  {
   "cell_type": "markdown",
   "metadata": {},
   "source": [
    "##### pub.rec"
   ]
  },
  {
   "cell_type": "code",
   "execution_count": 424,
   "metadata": {},
   "outputs": [
    {
     "data": {
      "image/png": "[encoded data removed]",
      "text/plain": [
       "<matplotlib.figure.Figure at 0x1c905780780>"
      ]
     },
     "metadata": {},
     "output_type": "display_data"
    }
   ],
   "source": [
    "sns.countplot(x=\"pub.rec\", data=loan)\n",
    "plt.show()"
   ]
  },
  {
   "cell_type": "markdown",
   "metadata": {},
   "source": [
    "##### debt to income ratio"
   ]
  },
  {
   "cell_type": "code",
   "execution_count": 425,
   "metadata": {},
   "outputs": [
    {
     "data": {
      "image/png": "[encoded data removed]",
      "text/plain": [
       "<matplotlib.figure.Figure at 0x1c9096ae3c8>"
      ]
     },
     "metadata": {},
     "output_type": "display_data"
    }
   ],
   "source": [
    "sns.countplot(x=\"dti\", data=loan)\n",
    "plt.show()"
   ]
  },
  {
   "cell_type": "markdown",
   "metadata": {},
   "source": [
    "##### Check the independence between the independent variables"
   ]
  },
  {
   "cell_type": "code",
   "execution_count": 426,
   "metadata": {},
   "outputs": [
    {
     "data": {
      "image/png": "[encoded data removed]",
      "text/plain": [
       "<matplotlib.figure.Figure at 0x1c9044fef28>"
      ]
     },
     "metadata": {},
     "output_type": "display_data"
    }
   ],
   "source": [
    "loan2=loan[loan.columns.difference(['not.fully.paid'])]\n",
    "sns.heatmap(loan2.corr())\n",
    "plt.show()"
   ]
  },
  {
   "cell_type": "markdown",
   "metadata": {},
   "source": [
    "##### dummies for independent variables"
   ]
  },
  {
   "cell_type": "code",
   "execution_count": 427,
   "metadata": {},
   "outputs": [],
   "source": [
    "#loan3 = pd.get_dummies(loan, columns =['purpose', 'credit.policy','not.fully.paid'])"
   ]
  },
  {
   "cell_type": "code",
   "execution_count": 428,
   "metadata": {},
   "outputs": [],
   "source": [
    "\n",
    "#loan3.drop(loan3.columns[[19,20]], axis=1, inplace=True)\n",
    "#loan3.columns\n",
    "#loan4=loan3['not.fully.paid_1']"
   ]
  },
  {
   "cell_type": "code",
   "execution_count": 429,
   "metadata": {},
   "outputs": [],
   "source": [
    "#sns.heatmap(loan3.corr())"
   ]
  },
  {
   "cell_type": "code",
   "execution_count": 430,
   "metadata": {},
   "outputs": [],
   "source": [
    "#loan3=loan3[loan3.columns.difference(['not.fully.paid_1'])]\n",
    "#X,y=loan3,loan4"
   ]
  },
  {
   "cell_type": "code",
   "execution_count": 431,
   "metadata": {},
   "outputs": [],
   "source": [
    "#X_train, X_test, y_train, y_test = train_test_split(X, y, test_size = 0.3,random_state=0)"
   ]
  },
  {
   "cell_type": "markdown",
   "metadata": {},
   "source": [
    "##### Check the independence between the independent variables"
   ]
  },
  {
   "cell_type": "code",
   "execution_count": 432,
   "metadata": {},
   "outputs": [],
   "source": [
    "#sns.heatmap(loan3.corr())\n",
    "#plt.show()"
   ]
  },
  {
   "cell_type": "code",
   "execution_count": 433,
   "metadata": {},
   "outputs": [],
   "source": [
    "#classifier = LogisticRegression(random_state=101)\n",
    "#classifier.fit(X_train, y_train)"
   ]
  },
  {
   "cell_type": "code",
   "execution_count": 434,
   "metadata": {},
   "outputs": [],
   "source": [
    "#y_pred = classifier.predict(X_test)\n",
    "#from sklearn.metrics import confusion_matrix\n",
    "#confusion_matrix = confusion_matrix(y_test, y_pred)\n",
    "#print(confusion_matrix)"
   ]
  },
  {
   "cell_type": "code",
   "execution_count": 435,
   "metadata": {},
   "outputs": [],
   "source": [
    "#print('Accuracy of logistic regression classifier on test set: {:.2f}'.format(classifier.score(X_test, y_test)))"
   ]
  },
  {
   "cell_type": "code",
   "execution_count": 436,
   "metadata": {},
   "outputs": [],
   "source": [
    "#from sklearn.metrics import classification_report\n",
    "#print(classification_report(y_test, y_pred))"
   ]
  },
  {
   "cell_type": "code",
   "execution_count": 437,
   "metadata": {},
   "outputs": [],
   "source": [
    "# Use score method to get accuracy of model\n",
    "#score = classifier.score(X_test, y_test)\n",
    "#print(score)"
   ]
  },
  {
   "cell_type": "code",
   "execution_count": 438,
   "metadata": {},
   "outputs": [
    {
     "data": {
      "text/plain": [
       "array([ 0,  1,  2,  3,  4,  5,  6,  8,  7, 33,  9, 18, 14, 15, 13, 12, 10,\n",
       "       19, 11, 16, 20, 27, 25, 28, 31, 24, 17, 32], dtype=int64)"
      ]
     },
     "execution_count": 438,
     "metadata": {},
     "output_type": "execute_result"
    }
   ],
   "source": [
    "loan['inq.last.6mths'].unique()"
   ]
  },
  {
   "cell_type": "code",
   "execution_count": 439,
   "metadata": {},
   "outputs": [],
   "source": [
    "bins_delinq = [-1,0, 7,13]\n",
    "bins_fico=[600,650,700,850]\n",
    "bins_ir=[0.0,0.1,0.15,0.2,0.25]\n",
    "bins_pr=[-1,0,3,5]\n",
    "bins_6mths=[-1,0,9,18,27,36]\n",
    "#loan['inq.last.6mths'].unique()\n"
   ]
  },
  {
   "cell_type": "code",
   "execution_count": 440,
   "metadata": {},
   "outputs": [],
   "source": [
    "loan['delinq.2yrs'] = pd.cut(loan['delinq.2yrs'], bins_delinq)\n",
    "loan['int.rate']=pd.cut(loan['int.rate'], bins_ir)\n",
    "loan['fico']=pd.cut(loan['fico'], bins_fico)\n",
    "loan['pub.rec']=pd.cut(loan['pub.rec'], bins_pr)\n",
    "loan['inq.last.6mths']=pd.cut(loan['inq.last.6mths'], bins_6mths)\n"
   ]
  },
  {
   "cell_type": "code",
   "execution_count": 441,
   "metadata": {},
   "outputs": [
    {
     "data": {
      "text/plain": [
       "[(0.1, 0.15], (0.0, 0.1], (0.15, 0.2], (0.2, 0.25]]\n",
       "Categories (4, interval[float64]): [(0.0, 0.1] < (0.1, 0.15] < (0.15, 0.2] < (0.2, 0.25]]"
      ]
     },
     "execution_count": 441,
     "metadata": {},
     "output_type": "execute_result"
    }
   ],
   "source": [
    "loan['int.rate'].unique()"
   ]
  },
  {
   "cell_type": "code",
   "execution_count": 442,
   "metadata": {},
   "outputs": [
    {
     "data": {
      "text/html": [
       "<div>\n",
       "<style scoped>\n",
       "    .dataframe tbody tr th:only-of-type {\n",
       "        vertical-align: middle;\n",
       "    }\n",
       "\n",
       "    .dataframe tbody tr th {\n",
       "        vertical-align: top;\n",
       "    }\n",
       "\n",
       "    .dataframe thead th {\n",
       "        text-align: right;\n",
       "    }\n",
       "</style>\n",
       "<table border=\"1\" class=\"dataframe\">\n",
       "  <thead>\n",
       "    <tr style=\"text-align: right;\">\n",
       "      <th></th>\n",
       "      <th>credit.policy</th>\n",
       "      <th>purpose</th>\n",
       "      <th>int.rate</th>\n",
       "      <th>installment</th>\n",
       "      <th>log.annual.inc</th>\n",
       "      <th>dti</th>\n",
       "      <th>fico</th>\n",
       "      <th>days.with.cr.line</th>\n",
       "      <th>revol.bal</th>\n",
       "      <th>revol.util</th>\n",
       "      <th>inq.last.6mths</th>\n",
       "      <th>delinq.2yrs</th>\n",
       "      <th>pub.rec</th>\n",
       "      <th>not.fully.paid</th>\n",
       "    </tr>\n",
       "  </thead>\n",
       "  <tbody>\n",
       "    <tr>\n",
       "      <th>0</th>\n",
       "      <td>1</td>\n",
       "      <td>debt_consolidation</td>\n",
       "      <td>(0.1, 0.15]</td>\n",
       "      <td>829.10</td>\n",
       "      <td>11.350407</td>\n",
       "      <td>19.48</td>\n",
       "      <td>(700, 850]</td>\n",
       "      <td>5639.958333</td>\n",
       "      <td>28854</td>\n",
       "      <td>52.1</td>\n",
       "      <td>(-1, 0]</td>\n",
       "      <td>(-1, 0]</td>\n",
       "      <td>(-1, 0]</td>\n",
       "      <td>0</td>\n",
       "    </tr>\n",
       "    <tr>\n",
       "      <th>1</th>\n",
       "      <td>1</td>\n",
       "      <td>credit_card</td>\n",
       "      <td>(0.1, 0.15]</td>\n",
       "      <td>228.22</td>\n",
       "      <td>11.082143</td>\n",
       "      <td>14.29</td>\n",
       "      <td>(700, 850]</td>\n",
       "      <td>2760.000000</td>\n",
       "      <td>33623</td>\n",
       "      <td>76.7</td>\n",
       "      <td>(-1, 0]</td>\n",
       "      <td>(-1, 0]</td>\n",
       "      <td>(-1, 0]</td>\n",
       "      <td>0</td>\n",
       "    </tr>\n",
       "    <tr>\n",
       "      <th>2</th>\n",
       "      <td>1</td>\n",
       "      <td>debt_consolidation</td>\n",
       "      <td>(0.1, 0.15]</td>\n",
       "      <td>366.86</td>\n",
       "      <td>10.373491</td>\n",
       "      <td>11.63</td>\n",
       "      <td>(650, 700]</td>\n",
       "      <td>4710.000000</td>\n",
       "      <td>3511</td>\n",
       "      <td>25.6</td>\n",
       "      <td>(0, 9]</td>\n",
       "      <td>(-1, 0]</td>\n",
       "      <td>(-1, 0]</td>\n",
       "      <td>0</td>\n",
       "    </tr>\n",
       "    <tr>\n",
       "      <th>3</th>\n",
       "      <td>1</td>\n",
       "      <td>debt_consolidation</td>\n",
       "      <td>(0.1, 0.15]</td>\n",
       "      <td>162.34</td>\n",
       "      <td>11.350407</td>\n",
       "      <td>8.10</td>\n",
       "      <td>(700, 850]</td>\n",
       "      <td>2699.958333</td>\n",
       "      <td>33667</td>\n",
       "      <td>73.2</td>\n",
       "      <td>(0, 9]</td>\n",
       "      <td>(-1, 0]</td>\n",
       "      <td>(-1, 0]</td>\n",
       "      <td>0</td>\n",
       "    </tr>\n",
       "    <tr>\n",
       "      <th>4</th>\n",
       "      <td>1</td>\n",
       "      <td>credit_card</td>\n",
       "      <td>(0.1, 0.15]</td>\n",
       "      <td>102.92</td>\n",
       "      <td>11.299732</td>\n",
       "      <td>14.97</td>\n",
       "      <td>(650, 700]</td>\n",
       "      <td>4066.000000</td>\n",
       "      <td>4740</td>\n",
       "      <td>39.5</td>\n",
       "      <td>(-1, 0]</td>\n",
       "      <td>(0, 7]</td>\n",
       "      <td>(-1, 0]</td>\n",
       "      <td>0</td>\n",
       "    </tr>\n",
       "  </tbody>\n",
       "</table>\n",
       "</div>"
      ],
      "text/plain": [
       "   credit.policy             purpose     int.rate  installment  \\\n",
       "0              1  debt_consolidation  (0.1, 0.15]       829.10   \n",
       "1              1         credit_card  (0.1, 0.15]       228.22   \n",
       "2              1  debt_consolidation  (0.1, 0.15]       366.86   \n",
       "3              1  debt_consolidation  (0.1, 0.15]       162.34   \n",
       "4              1         credit_card  (0.1, 0.15]       102.92   \n",
       "\n",
       "   log.annual.inc    dti        fico  days.with.cr.line  revol.bal  \\\n",
       "0       11.350407  19.48  (700, 850]        5639.958333      28854   \n",
       "1       11.082143  14.29  (700, 850]        2760.000000      33623   \n",
       "2       10.373491  11.63  (650, 700]        4710.000000       3511   \n",
       "3       11.350407   8.10  (700, 850]        2699.958333      33667   \n",
       "4       11.299732  14.97  (650, 700]        4066.000000       4740   \n",
       "\n",
       "   revol.util inq.last.6mths delinq.2yrs  pub.rec  not.fully.paid  \n",
       "0        52.1        (-1, 0]     (-1, 0]  (-1, 0]               0  \n",
       "1        76.7        (-1, 0]     (-1, 0]  (-1, 0]               0  \n",
       "2        25.6         (0, 9]     (-1, 0]  (-1, 0]               0  \n",
       "3        73.2         (0, 9]     (-1, 0]  (-1, 0]               0  \n",
       "4        39.5        (-1, 0]      (0, 7]  (-1, 0]               0  "
      ]
     },
     "execution_count": 442,
     "metadata": {},
     "output_type": "execute_result"
    }
   ],
   "source": [
    "loan.head()"
   ]
  },
  {
   "cell_type": "markdown",
   "metadata": {},
   "source": [
    "\n",
    "### Data exploration"
   ]
  },
  {
   "cell_type": "code",
   "execution_count": 443,
   "metadata": {},
   "outputs": [
    {
     "data": {
      "text/plain": [
       "0    8045\n",
       "1    1533\n",
       "Name: not.fully.paid, dtype: int64"
      ]
     },
     "execution_count": 443,
     "metadata": {},
     "output_type": "execute_result"
    }
   ],
   "source": [
    "loan['not.fully.paid'].value_counts()"
   ]
  },
  {
   "cell_type": "code",
   "execution_count": 444,
   "metadata": {},
   "outputs": [
    {
     "data": {
      "text/html": [
       "<div>\n",
       "<style scoped>\n",
       "    .dataframe tbody tr th:only-of-type {\n",
       "        vertical-align: middle;\n",
       "    }\n",
       "\n",
       "    .dataframe tbody tr th {\n",
       "        vertical-align: top;\n",
       "    }\n",
       "\n",
       "    .dataframe thead th {\n",
       "        text-align: right;\n",
       "    }\n",
       "</style>\n",
       "<table border=\"1\" class=\"dataframe\">\n",
       "  <thead>\n",
       "    <tr style=\"text-align: right;\">\n",
       "      <th></th>\n",
       "      <th>credit.policy</th>\n",
       "      <th>installment</th>\n",
       "      <th>log.annual.inc</th>\n",
       "      <th>dti</th>\n",
       "      <th>days.with.cr.line</th>\n",
       "      <th>revol.bal</th>\n",
       "      <th>revol.util</th>\n",
       "    </tr>\n",
       "    <tr>\n",
       "      <th>not.fully.paid</th>\n",
       "      <th></th>\n",
       "      <th></th>\n",
       "      <th></th>\n",
       "      <th></th>\n",
       "      <th></th>\n",
       "      <th></th>\n",
       "      <th></th>\n",
       "    </tr>\n",
       "  </thead>\n",
       "  <tbody>\n",
       "    <tr>\n",
       "      <th>0</th>\n",
       "      <td>0.832318</td>\n",
       "      <td>314.574123</td>\n",
       "      <td>10.941091</td>\n",
       "      <td>12.494413</td>\n",
       "      <td>4592.632624</td>\n",
       "      <td>16122.724425</td>\n",
       "      <td>45.759608</td>\n",
       "    </tr>\n",
       "    <tr>\n",
       "      <th>1</th>\n",
       "      <td>0.661448</td>\n",
       "      <td>342.785114</td>\n",
       "      <td>10.885023</td>\n",
       "      <td>13.195838</td>\n",
       "      <td>4393.541259</td>\n",
       "      <td>21066.293542</td>\n",
       "      <td>52.255075</td>\n",
       "    </tr>\n",
       "  </tbody>\n",
       "</table>\n",
       "</div>"
      ],
      "text/plain": [
       "                credit.policy  installment  log.annual.inc        dti  \\\n",
       "not.fully.paid                                                          \n",
       "0                    0.832318   314.574123       10.941091  12.494413   \n",
       "1                    0.661448   342.785114       10.885023  13.195838   \n",
       "\n",
       "                days.with.cr.line     revol.bal  revol.util  \n",
       "not.fully.paid                                               \n",
       "0                     4592.632624  16122.724425   45.759608  \n",
       "1                     4393.541259  21066.293542   52.255075  "
      ]
     },
     "execution_count": 444,
     "metadata": {},
     "output_type": "execute_result"
    }
   ],
   "source": [
    "loan.groupby('not.fully.paid').mean()"
   ]
  },
  {
   "cell_type": "code",
   "execution_count": 445,
   "metadata": {},
   "outputs": [
    {
     "data": {
      "text/html": [
       "<div>\n",
       "<style scoped>\n",
       "    .dataframe tbody tr th:only-of-type {\n",
       "        vertical-align: middle;\n",
       "    }\n",
       "\n",
       "    .dataframe tbody tr th {\n",
       "        vertical-align: top;\n",
       "    }\n",
       "\n",
       "    .dataframe thead th {\n",
       "        text-align: right;\n",
       "    }\n",
       "</style>\n",
       "<table border=\"1\" class=\"dataframe\">\n",
       "  <thead>\n",
       "    <tr style=\"text-align: right;\">\n",
       "      <th></th>\n",
       "      <th>credit.policy</th>\n",
       "      <th>installment</th>\n",
       "      <th>log.annual.inc</th>\n",
       "      <th>dti</th>\n",
       "      <th>days.with.cr.line</th>\n",
       "      <th>revol.bal</th>\n",
       "      <th>revol.util</th>\n",
       "      <th>not.fully.paid</th>\n",
       "    </tr>\n",
       "    <tr>\n",
       "      <th>purpose</th>\n",
       "      <th></th>\n",
       "      <th></th>\n",
       "      <th></th>\n",
       "      <th></th>\n",
       "      <th></th>\n",
       "      <th></th>\n",
       "      <th></th>\n",
       "      <th></th>\n",
       "    </tr>\n",
       "  </thead>\n",
       "  <tbody>\n",
       "    <tr>\n",
       "      <th>all_other</th>\n",
       "      <td>0.787216</td>\n",
       "      <td>244.937542</td>\n",
       "      <td>10.845313</td>\n",
       "      <td>11.079498</td>\n",
       "      <td>4311.706153</td>\n",
       "      <td>12883.039897</td>\n",
       "      <td>39.712321</td>\n",
       "      <td>0.166023</td>\n",
       "    </tr>\n",
       "    <tr>\n",
       "      <th>credit_card</th>\n",
       "      <td>0.808241</td>\n",
       "      <td>319.500713</td>\n",
       "      <td>11.047230</td>\n",
       "      <td>14.099398</td>\n",
       "      <td>4857.005943</td>\n",
       "      <td>23180.020602</td>\n",
       "      <td>53.600475</td>\n",
       "      <td>0.115689</td>\n",
       "    </tr>\n",
       "    <tr>\n",
       "      <th>debt_consolidation</th>\n",
       "      <td>0.814506</td>\n",
       "      <td>358.984390</td>\n",
       "      <td>10.912909</td>\n",
       "      <td>14.076462</td>\n",
       "      <td>4533.037139</td>\n",
       "      <td>17146.710639</td>\n",
       "      <td>54.125504</td>\n",
       "      <td>0.152388</td>\n",
       "    </tr>\n",
       "    <tr>\n",
       "      <th>educational</th>\n",
       "      <td>0.740525</td>\n",
       "      <td>217.547201</td>\n",
       "      <td>10.549956</td>\n",
       "      <td>11.344927</td>\n",
       "      <td>4008.595724</td>\n",
       "      <td>10828.897959</td>\n",
       "      <td>38.801166</td>\n",
       "      <td>0.201166</td>\n",
       "    </tr>\n",
       "    <tr>\n",
       "      <th>home_improvement</th>\n",
       "      <td>0.813990</td>\n",
       "      <td>337.071590</td>\n",
       "      <td>11.201979</td>\n",
       "      <td>10.197504</td>\n",
       "      <td>5201.995562</td>\n",
       "      <td>17328.756757</td>\n",
       "      <td>34.274626</td>\n",
       "      <td>0.170111</td>\n",
       "    </tr>\n",
       "    <tr>\n",
       "      <th>major_purchase</th>\n",
       "      <td>0.848970</td>\n",
       "      <td>243.483913</td>\n",
       "      <td>10.844895</td>\n",
       "      <td>10.159886</td>\n",
       "      <td>4325.969108</td>\n",
       "      <td>7281.453089</td>\n",
       "      <td>32.457895</td>\n",
       "      <td>0.112128</td>\n",
       "    </tr>\n",
       "    <tr>\n",
       "      <th>small_business</th>\n",
       "      <td>0.799677</td>\n",
       "      <td>433.826607</td>\n",
       "      <td>11.146216</td>\n",
       "      <td>10.793296</td>\n",
       "      <td>4892.115778</td>\n",
       "      <td>27581.203554</td>\n",
       "      <td>40.070436</td>\n",
       "      <td>0.277868</td>\n",
       "    </tr>\n",
       "  </tbody>\n",
       "</table>\n",
       "</div>"
      ],
      "text/plain": [
       "                    credit.policy  installment  log.annual.inc        dti  \\\n",
       "purpose                                                                     \n",
       "all_other                0.787216   244.937542       10.845313  11.079498   \n",
       "credit_card              0.808241   319.500713       11.047230  14.099398   \n",
       "debt_consolidation       0.814506   358.984390       10.912909  14.076462   \n",
       "educational              0.740525   217.547201       10.549956  11.344927   \n",
       "home_improvement         0.813990   337.071590       11.201979  10.197504   \n",
       "major_purchase           0.848970   243.483913       10.844895  10.159886   \n",
       "small_business           0.799677   433.826607       11.146216  10.793296   \n",
       "\n",
       "                    days.with.cr.line     revol.bal  revol.util  \\\n",
       "purpose                                                           \n",
       "all_other                 4311.706153  12883.039897   39.712321   \n",
       "credit_card               4857.005943  23180.020602   53.600475   \n",
       "debt_consolidation        4533.037139  17146.710639   54.125504   \n",
       "educational               4008.595724  10828.897959   38.801166   \n",
       "home_improvement          5201.995562  17328.756757   34.274626   \n",
       "major_purchase            4325.969108   7281.453089   32.457895   \n",
       "small_business            4892.115778  27581.203554   40.070436   \n",
       "\n",
       "                    not.fully.paid  \n",
       "purpose                             \n",
       "all_other                 0.166023  \n",
       "credit_card               0.115689  \n",
       "debt_consolidation        0.152388  \n",
       "educational               0.201166  \n",
       "home_improvement          0.170111  \n",
       "major_purchase            0.112128  \n",
       "small_business            0.277868  "
      ]
     },
     "execution_count": 445,
     "metadata": {},
     "output_type": "execute_result"
    }
   ],
   "source": [
    "loan.groupby('purpose').mean()"
   ]
  },
  {
   "cell_type": "code",
   "execution_count": 446,
   "metadata": {},
   "outputs": [
    {
     "data": {
      "text/html": [
       "<div>\n",
       "<style scoped>\n",
       "    .dataframe tbody tr th:only-of-type {\n",
       "        vertical-align: middle;\n",
       "    }\n",
       "\n",
       "    .dataframe tbody tr th {\n",
       "        vertical-align: top;\n",
       "    }\n",
       "\n",
       "    .dataframe thead th {\n",
       "        text-align: right;\n",
       "    }\n",
       "</style>\n",
       "<table border=\"1\" class=\"dataframe\">\n",
       "  <thead>\n",
       "    <tr style=\"text-align: right;\">\n",
       "      <th></th>\n",
       "      <th>credit.policy</th>\n",
       "      <th>installment</th>\n",
       "      <th>log.annual.inc</th>\n",
       "      <th>dti</th>\n",
       "      <th>days.with.cr.line</th>\n",
       "      <th>revol.bal</th>\n",
       "      <th>revol.util</th>\n",
       "      <th>not.fully.paid</th>\n",
       "    </tr>\n",
       "    <tr>\n",
       "      <th>fico</th>\n",
       "      <th></th>\n",
       "      <th></th>\n",
       "      <th></th>\n",
       "      <th></th>\n",
       "      <th></th>\n",
       "      <th></th>\n",
       "      <th></th>\n",
       "      <th></th>\n",
       "    </tr>\n",
       "  </thead>\n",
       "  <tbody>\n",
       "    <tr>\n",
       "      <th>(600, 650]</th>\n",
       "      <td>0.008658</td>\n",
       "      <td>220.027619</td>\n",
       "      <td>10.682010</td>\n",
       "      <td>13.296494</td>\n",
       "      <td>3281.488997</td>\n",
       "      <td>12458.683983</td>\n",
       "      <td>67.651515</td>\n",
       "      <td>0.320346</td>\n",
       "    </tr>\n",
       "    <tr>\n",
       "      <th>(650, 700]</th>\n",
       "      <td>0.726817</td>\n",
       "      <td>303.205817</td>\n",
       "      <td>10.889697</td>\n",
       "      <td>13.820922</td>\n",
       "      <td>4110.864098</td>\n",
       "      <td>17152.605013</td>\n",
       "      <td>59.768426</td>\n",
       "      <td>0.200501</td>\n",
       "    </tr>\n",
       "    <tr>\n",
       "      <th>(700, 850]</th>\n",
       "      <td>0.897517</td>\n",
       "      <td>335.191490</td>\n",
       "      <td>10.974498</td>\n",
       "      <td>11.672541</td>\n",
       "      <td>4951.027907</td>\n",
       "      <td>16928.336009</td>\n",
       "      <td>36.240351</td>\n",
       "      <td>0.123017</td>\n",
       "    </tr>\n",
       "  </tbody>\n",
       "</table>\n",
       "</div>"
      ],
      "text/plain": [
       "            credit.policy  installment  log.annual.inc        dti  \\\n",
       "fico                                                                \n",
       "(600, 650]       0.008658   220.027619       10.682010  13.296494   \n",
       "(650, 700]       0.726817   303.205817       10.889697  13.820922   \n",
       "(700, 850]       0.897517   335.191490       10.974498  11.672541   \n",
       "\n",
       "            days.with.cr.line     revol.bal  revol.util  not.fully.paid  \n",
       "fico                                                                     \n",
       "(600, 650]        3281.488997  12458.683983   67.651515        0.320346  \n",
       "(650, 700]        4110.864098  17152.605013   59.768426        0.200501  \n",
       "(700, 850]        4951.027907  16928.336009   36.240351        0.123017  "
      ]
     },
     "execution_count": 446,
     "metadata": {},
     "output_type": "execute_result"
    }
   ],
   "source": [
    "loan.groupby('fico').mean()"
   ]
  },
  {
   "cell_type": "code",
   "execution_count": 447,
   "metadata": {},
   "outputs": [
    {
     "data": {
      "text/html": [
       "<div>\n",
       "<style scoped>\n",
       "    .dataframe tbody tr th:only-of-type {\n",
       "        vertical-align: middle;\n",
       "    }\n",
       "\n",
       "    .dataframe tbody tr th {\n",
       "        vertical-align: top;\n",
       "    }\n",
       "\n",
       "    .dataframe thead th {\n",
       "        text-align: right;\n",
       "    }\n",
       "</style>\n",
       "<table border=\"1\" class=\"dataframe\">\n",
       "  <thead>\n",
       "    <tr style=\"text-align: right;\">\n",
       "      <th></th>\n",
       "      <th>credit.policy</th>\n",
       "      <th>installment</th>\n",
       "      <th>log.annual.inc</th>\n",
       "      <th>dti</th>\n",
       "      <th>days.with.cr.line</th>\n",
       "      <th>revol.bal</th>\n",
       "      <th>revol.util</th>\n",
       "      <th>not.fully.paid</th>\n",
       "    </tr>\n",
       "    <tr>\n",
       "      <th>pub.rec</th>\n",
       "      <th></th>\n",
       "      <th></th>\n",
       "      <th></th>\n",
       "      <th></th>\n",
       "      <th></th>\n",
       "      <th></th>\n",
       "      <th></th>\n",
       "      <th></th>\n",
       "    </tr>\n",
       "  </thead>\n",
       "  <tbody>\n",
       "    <tr>\n",
       "      <th>(-1, 0]</th>\n",
       "      <td>0.809735</td>\n",
       "      <td>320.694233</td>\n",
       "      <td>10.929982</td>\n",
       "      <td>12.587744</td>\n",
       "      <td>4511.601988</td>\n",
       "      <td>17168.625125</td>\n",
       "      <td>46.284453</td>\n",
       "      <td>0.154673</td>\n",
       "    </tr>\n",
       "    <tr>\n",
       "      <th>(0, 3]</th>\n",
       "      <td>0.728905</td>\n",
       "      <td>293.104434</td>\n",
       "      <td>10.965417</td>\n",
       "      <td>12.949964</td>\n",
       "      <td>5353.951227</td>\n",
       "      <td>12838.256732</td>\n",
       "      <td>55.119210</td>\n",
       "      <td>0.247756</td>\n",
       "    </tr>\n",
       "    <tr>\n",
       "      <th>(3, 5]</th>\n",
       "      <td>0.500000</td>\n",
       "      <td>318.970000</td>\n",
       "      <td>11.288119</td>\n",
       "      <td>2.390000</td>\n",
       "      <td>5369.520833</td>\n",
       "      <td>3603.500000</td>\n",
       "      <td>51.100000</td>\n",
       "      <td>0.000000</td>\n",
       "    </tr>\n",
       "  </tbody>\n",
       "</table>\n",
       "</div>"
      ],
      "text/plain": [
       "         credit.policy  installment  log.annual.inc        dti  \\\n",
       "pub.rec                                                          \n",
       "(-1, 0]       0.809735   320.694233       10.929982  12.587744   \n",
       "(0, 3]        0.728905   293.104434       10.965417  12.949964   \n",
       "(3, 5]        0.500000   318.970000       11.288119   2.390000   \n",
       "\n",
       "         days.with.cr.line     revol.bal  revol.util  not.fully.paid  \n",
       "pub.rec                                                               \n",
       "(-1, 0]        4511.601988  17168.625125   46.284453        0.154673  \n",
       "(0, 3]         5353.951227  12838.256732   55.119210        0.247756  \n",
       "(3, 5]         5369.520833   3603.500000   51.100000        0.000000  "
      ]
     },
     "execution_count": 447,
     "metadata": {},
     "output_type": "execute_result"
    }
   ],
   "source": [
    "loan.groupby('pub.rec').mean()"
   ]
  },
  {
   "cell_type": "code",
   "execution_count": 448,
   "metadata": {},
   "outputs": [
    {
     "data": {
      "text/html": [
       "<div>\n",
       "<style scoped>\n",
       "    .dataframe tbody tr th:only-of-type {\n",
       "        vertical-align: middle;\n",
       "    }\n",
       "\n",
       "    .dataframe tbody tr th {\n",
       "        vertical-align: top;\n",
       "    }\n",
       "\n",
       "    .dataframe thead th {\n",
       "        text-align: right;\n",
       "    }\n",
       "</style>\n",
       "<table border=\"1\" class=\"dataframe\">\n",
       "  <thead>\n",
       "    <tr style=\"text-align: right;\">\n",
       "      <th></th>\n",
       "      <th>credit.policy</th>\n",
       "      <th>installment</th>\n",
       "      <th>log.annual.inc</th>\n",
       "      <th>dti</th>\n",
       "      <th>days.with.cr.line</th>\n",
       "      <th>revol.bal</th>\n",
       "      <th>revol.util</th>\n",
       "      <th>not.fully.paid</th>\n",
       "    </tr>\n",
       "    <tr>\n",
       "      <th>delinq.2yrs</th>\n",
       "      <th></th>\n",
       "      <th></th>\n",
       "      <th></th>\n",
       "      <th></th>\n",
       "      <th></th>\n",
       "      <th></th>\n",
       "      <th></th>\n",
       "      <th></th>\n",
       "    </tr>\n",
       "  </thead>\n",
       "  <tbody>\n",
       "    <tr>\n",
       "      <th>(-1, 0]</th>\n",
       "      <td>0.812958</td>\n",
       "      <td>319.132963</td>\n",
       "      <td>10.926621</td>\n",
       "      <td>12.648381</td>\n",
       "      <td>4483.493290</td>\n",
       "      <td>17229.076850</td>\n",
       "      <td>47.127456</td>\n",
       "      <td>0.158075</td>\n",
       "    </tr>\n",
       "    <tr>\n",
       "      <th>(0, 7]</th>\n",
       "      <td>0.746643</td>\n",
       "      <td>318.830922</td>\n",
       "      <td>10.972291</td>\n",
       "      <td>12.315013</td>\n",
       "      <td>5147.319606</td>\n",
       "      <td>14565.709042</td>\n",
       "      <td>44.343205</td>\n",
       "      <td>0.175470</td>\n",
       "    </tr>\n",
       "    <tr>\n",
       "      <th>(7, 13]</th>\n",
       "      <td>0.000000</td>\n",
       "      <td>292.553333</td>\n",
       "      <td>11.470731</td>\n",
       "      <td>3.630000</td>\n",
       "      <td>4028.652778</td>\n",
       "      <td>2839.000000</td>\n",
       "      <td>35.900000</td>\n",
       "      <td>0.000000</td>\n",
       "    </tr>\n",
       "  </tbody>\n",
       "</table>\n",
       "</div>"
      ],
      "text/plain": [
       "             credit.policy  installment  log.annual.inc        dti  \\\n",
       "delinq.2yrs                                                          \n",
       "(-1, 0]           0.812958   319.132963       10.926621  12.648381   \n",
       "(0, 7]            0.746643   318.830922       10.972291  12.315013   \n",
       "(7, 13]           0.000000   292.553333       11.470731   3.630000   \n",
       "\n",
       "             days.with.cr.line     revol.bal  revol.util  not.fully.paid  \n",
       "delinq.2yrs                                                               \n",
       "(-1, 0]            4483.493290  17229.076850   47.127456        0.158075  \n",
       "(0, 7]             5147.319606  14565.709042   44.343205        0.175470  \n",
       "(7, 13]            4028.652778   2839.000000   35.900000        0.000000  "
      ]
     },
     "execution_count": 448,
     "metadata": {},
     "output_type": "execute_result"
    }
   ],
   "source": [
    "loan.groupby('delinq.2yrs').mean()"
   ]
  },
  {
   "cell_type": "code",
   "execution_count": 449,
   "metadata": {},
   "outputs": [
    {
     "data": {
      "text/html": [
       "<div>\n",
       "<style scoped>\n",
       "    .dataframe tbody tr th:only-of-type {\n",
       "        vertical-align: middle;\n",
       "    }\n",
       "\n",
       "    .dataframe tbody tr th {\n",
       "        vertical-align: top;\n",
       "    }\n",
       "\n",
       "    .dataframe thead th {\n",
       "        text-align: right;\n",
       "    }\n",
       "</style>\n",
       "<table border=\"1\" class=\"dataframe\">\n",
       "  <thead>\n",
       "    <tr style=\"text-align: right;\">\n",
       "      <th></th>\n",
       "      <th>credit.policy</th>\n",
       "      <th>installment</th>\n",
       "      <th>log.annual.inc</th>\n",
       "      <th>dti</th>\n",
       "      <th>days.with.cr.line</th>\n",
       "      <th>revol.bal</th>\n",
       "      <th>revol.util</th>\n",
       "      <th>not.fully.paid</th>\n",
       "    </tr>\n",
       "    <tr>\n",
       "      <th>inq.last.6mths</th>\n",
       "      <th></th>\n",
       "      <th></th>\n",
       "      <th></th>\n",
       "      <th></th>\n",
       "      <th></th>\n",
       "      <th></th>\n",
       "      <th></th>\n",
       "      <th></th>\n",
       "    </tr>\n",
       "  </thead>\n",
       "  <tbody>\n",
       "    <tr>\n",
       "      <th>(-1, 0]</th>\n",
       "      <td>0.923288</td>\n",
       "      <td>320.730883</td>\n",
       "      <td>10.913000</td>\n",
       "      <td>12.401496</td>\n",
       "      <td>4700.525593</td>\n",
       "      <td>16813.761342</td>\n",
       "      <td>47.278537</td>\n",
       "      <td>0.117404</td>\n",
       "    </tr>\n",
       "    <tr>\n",
       "      <th>(0, 9]</th>\n",
       "      <td>0.744313</td>\n",
       "      <td>318.729827</td>\n",
       "      <td>10.942678</td>\n",
       "      <td>12.726006</td>\n",
       "      <td>4486.352439</td>\n",
       "      <td>16998.001881</td>\n",
       "      <td>46.459336</td>\n",
       "      <td>0.183855</td>\n",
       "    </tr>\n",
       "    <tr>\n",
       "      <th>(9, 18]</th>\n",
       "      <td>0.000000</td>\n",
       "      <td>287.753976</td>\n",
       "      <td>11.062089</td>\n",
       "      <td>12.774578</td>\n",
       "      <td>3907.961847</td>\n",
       "      <td>15862.132530</td>\n",
       "      <td>49.646988</td>\n",
       "      <td>0.325301</td>\n",
       "    </tr>\n",
       "    <tr>\n",
       "      <th>(18, 27]</th>\n",
       "      <td>0.000000</td>\n",
       "      <td>232.394286</td>\n",
       "      <td>10.854665</td>\n",
       "      <td>16.515714</td>\n",
       "      <td>3272.440476</td>\n",
       "      <td>15003.142857</td>\n",
       "      <td>47.728571</td>\n",
       "      <td>0.285714</td>\n",
       "    </tr>\n",
       "    <tr>\n",
       "      <th>(27, 36]</th>\n",
       "      <td>0.000000</td>\n",
       "      <td>154.135000</td>\n",
       "      <td>10.316006</td>\n",
       "      <td>14.417500</td>\n",
       "      <td>2061.500000</td>\n",
       "      <td>10350.000000</td>\n",
       "      <td>47.125000</td>\n",
       "      <td>0.500000</td>\n",
       "    </tr>\n",
       "  </tbody>\n",
       "</table>\n",
       "</div>"
      ],
      "text/plain": [
       "                credit.policy  installment  log.annual.inc        dti  \\\n",
       "inq.last.6mths                                                          \n",
       "(-1, 0]              0.923288   320.730883       10.913000  12.401496   \n",
       "(0, 9]               0.744313   318.729827       10.942678  12.726006   \n",
       "(9, 18]              0.000000   287.753976       11.062089  12.774578   \n",
       "(18, 27]             0.000000   232.394286       10.854665  16.515714   \n",
       "(27, 36]             0.000000   154.135000       10.316006  14.417500   \n",
       "\n",
       "                days.with.cr.line     revol.bal  revol.util  not.fully.paid  \n",
       "inq.last.6mths                                                               \n",
       "(-1, 0]               4700.525593  16813.761342   47.278537        0.117404  \n",
       "(0, 9]                4486.352439  16998.001881   46.459336        0.183855  \n",
       "(9, 18]               3907.961847  15862.132530   49.646988        0.325301  \n",
       "(18, 27]              3272.440476  15003.142857   47.728571        0.285714  \n",
       "(27, 36]              2061.500000  10350.000000   47.125000        0.500000  "
      ]
     },
     "execution_count": 449,
     "metadata": {},
     "output_type": "execute_result"
    }
   ],
   "source": [
    "loan.groupby('inq.last.6mths').mean()"
   ]
  },
  {
   "cell_type": "code",
   "execution_count": 450,
   "metadata": {},
   "outputs": [
    {
     "data": {
      "text/html": [
       "<div>\n",
       "<style scoped>\n",
       "    .dataframe tbody tr th:only-of-type {\n",
       "        vertical-align: middle;\n",
       "    }\n",
       "\n",
       "    .dataframe tbody tr th {\n",
       "        vertical-align: top;\n",
       "    }\n",
       "\n",
       "    .dataframe thead th {\n",
       "        text-align: right;\n",
       "    }\n",
       "</style>\n",
       "<table border=\"1\" class=\"dataframe\">\n",
       "  <thead>\n",
       "    <tr style=\"text-align: right;\">\n",
       "      <th></th>\n",
       "      <th>credit.policy</th>\n",
       "      <th>installment</th>\n",
       "      <th>log.annual.inc</th>\n",
       "      <th>dti</th>\n",
       "      <th>days.with.cr.line</th>\n",
       "      <th>revol.bal</th>\n",
       "      <th>revol.util</th>\n",
       "      <th>not.fully.paid</th>\n",
       "    </tr>\n",
       "    <tr>\n",
       "      <th>int.rate</th>\n",
       "      <th></th>\n",
       "      <th></th>\n",
       "      <th></th>\n",
       "      <th></th>\n",
       "      <th></th>\n",
       "      <th></th>\n",
       "      <th></th>\n",
       "      <th></th>\n",
       "    </tr>\n",
       "  </thead>\n",
       "  <tbody>\n",
       "    <tr>\n",
       "      <th>(0.0, 0.1]</th>\n",
       "      <td>0.931808</td>\n",
       "      <td>231.392838</td>\n",
       "      <td>10.902795</td>\n",
       "      <td>10.047529</td>\n",
       "      <td>5134.200019</td>\n",
       "      <td>12522.308924</td>\n",
       "      <td>24.986270</td>\n",
       "      <td>0.074142</td>\n",
       "    </tr>\n",
       "    <tr>\n",
       "      <th>(0.1, 0.15]</th>\n",
       "      <td>0.810838</td>\n",
       "      <td>329.475732</td>\n",
       "      <td>10.921195</td>\n",
       "      <td>13.103134</td>\n",
       "      <td>4428.065389</td>\n",
       "      <td>17394.979428</td>\n",
       "      <td>50.708373</td>\n",
       "      <td>0.170764</td>\n",
       "    </tr>\n",
       "    <tr>\n",
       "      <th>(0.15, 0.2]</th>\n",
       "      <td>0.588962</td>\n",
       "      <td>408.061176</td>\n",
       "      <td>11.014904</td>\n",
       "      <td>14.539223</td>\n",
       "      <td>4239.745189</td>\n",
       "      <td>21056.506899</td>\n",
       "      <td>64.205316</td>\n",
       "      <td>0.244735</td>\n",
       "    </tr>\n",
       "    <tr>\n",
       "      <th>(0.2, 0.25]</th>\n",
       "      <td>0.405405</td>\n",
       "      <td>508.362432</td>\n",
       "      <td>11.347677</td>\n",
       "      <td>11.588378</td>\n",
       "      <td>4088.353604</td>\n",
       "      <td>44359.702703</td>\n",
       "      <td>55.459459</td>\n",
       "      <td>0.351351</td>\n",
       "    </tr>\n",
       "  </tbody>\n",
       "</table>\n",
       "</div>"
      ],
      "text/plain": [
       "             credit.policy  installment  log.annual.inc        dti  \\\n",
       "int.rate                                                             \n",
       "(0.0, 0.1]        0.931808   231.392838       10.902795  10.047529   \n",
       "(0.1, 0.15]       0.810838   329.475732       10.921195  13.103134   \n",
       "(0.15, 0.2]       0.588962   408.061176       11.014904  14.539223   \n",
       "(0.2, 0.25]       0.405405   508.362432       11.347677  11.588378   \n",
       "\n",
       "             days.with.cr.line     revol.bal  revol.util  not.fully.paid  \n",
       "int.rate                                                                  \n",
       "(0.0, 0.1]         5134.200019  12522.308924   24.986270        0.074142  \n",
       "(0.1, 0.15]        4428.065389  17394.979428   50.708373        0.170764  \n",
       "(0.15, 0.2]        4239.745189  21056.506899   64.205316        0.244735  \n",
       "(0.2, 0.25]        4088.353604  44359.702703   55.459459        0.351351  "
      ]
     },
     "execution_count": 450,
     "metadata": {},
     "output_type": "execute_result"
    }
   ],
   "source": [
    "loan.groupby('int.rate').mean()"
   ]
  },
  {
   "cell_type": "code",
   "execution_count": 451,
   "metadata": {},
   "outputs": [
    {
     "data": {
      "image/png": "[encoded data removed]",
      "text/plain": [
       "<matplotlib.figure.Figure at 0x1c9045ee358>"
      ]
     },
     "metadata": {},
     "output_type": "display_data"
    }
   ],
   "source": [
    "%matplotlib inline\n",
    "pd.crosstab(loan.purpose,loan['not.fully.paid']).plot(kind='bar')\n",
    "plt.title('Payment  based on Purpose')\n",
    "plt.xlabel('Purpose')\n",
    "plt.ylabel('Frequency of Payment')\n",
    "plt.savefig('purpose_not_paid')"
   ]
  },
  {
   "cell_type": "code",
   "execution_count": 452,
   "metadata": {},
   "outputs": [
    {
     "data": {
      "image/png": "[encoded data removed]",
      "text/plain": [
       "<matplotlib.figure.Figure at 0x1c90487e240>"
      ]
     },
     "metadata": {},
     "output_type": "display_data"
    }
   ],
   "source": [
    "%matplotlib inline\n",
    "pd.crosstab(loan['pub.rec'],loan['not.fully.paid']).plot(kind='bar')\n",
    "plt.title('Payment  based on Public Records')\n",
    "plt.xlabel('Public Records')\n",
    "plt.ylabel('Frequency of Payment')\n",
    "plt.savefig('pr_not_paid')"
   ]
  },
  {
   "cell_type": "code",
   "execution_count": 453,
   "metadata": {},
   "outputs": [
    {
     "data": {
      "image/png": "[encoded data removed]",
      "text/plain": [
       "<matplotlib.figure.Figure at 0x1c904e99c18>"
      ]
     },
     "metadata": {},
     "output_type": "display_data"
    }
   ],
   "source": [
    "%matplotlib inline\n",
    "pd.crosstab(loan['credit.policy'],loan['not.fully.paid']).plot(kind='bar')\n",
    "plt.title('Payment  based on Credit Policy')\n",
    "plt.xlabel('Credit Policy')\n",
    "plt.ylabel('Frequency of Payment')\n",
    "plt.savefig('Credit_Policy_not_paid')"
   ]
  },
  {
   "cell_type": "code",
   "execution_count": 454,
   "metadata": {},
   "outputs": [
    {
     "data": {
      "image/png": "[encoded data removed]",
      "text/plain": [
       "<matplotlib.figure.Figure at 0x1c90770f0f0>"
      ]
     },
     "metadata": {},
     "output_type": "display_data"
    }
   ],
   "source": [
    "%matplotlib inline\n",
    "pd.crosstab(loan['fico'],loan['not.fully.paid']).plot(kind='bar')\n",
    "plt.title('Payment  based on fico score')\n",
    "plt.xlabel('fico score')\n",
    "plt.ylabel('Frequency of Payment')\n",
    "plt.savefig('fico_score_not_paid')"
   ]
  },
  {
   "cell_type": "code",
   "execution_count": 455,
   "metadata": {},
   "outputs": [
    {
     "data": {
      "image/png": "[encoded data removed]",
      "text/plain": [
       "<matplotlib.figure.Figure at 0x1c9079cc198>"
      ]
     },
     "metadata": {},
     "output_type": "display_data"
    }
   ],
   "source": [
    "%matplotlib inline\n",
    "pd.crosstab(loan['delinq.2yrs'],loan['not.fully.paid']).plot(kind='bar')\n",
    "plt.title('Payment  based on delinq.2yrs')\n",
    "plt.xlabel('delinq.2yrs')\n",
    "plt.ylabel('Frequency of Payment')\n",
    "plt.savefig('delinq_2yrs_not_paid')"
   ]
  },
  {
   "cell_type": "code",
   "execution_count": 456,
   "metadata": {},
   "outputs": [
    {
     "data": {
      "image/png": "[encoded data removed]",
      "text/plain": [
       "<matplotlib.figure.Figure at 0x1c90727cb70>"
      ]
     },
     "metadata": {},
     "output_type": "display_data"
    }
   ],
   "source": [
    "%matplotlib inline\n",
    "pd.crosstab(loan['inq.last.6mths'],loan['not.fully.paid']).plot(kind='bar')\n",
    "plt.title('Payment  based on inq.last.6mths')\n",
    "plt.xlabel('inq.last.6mths')\n",
    "plt.ylabel('Frequency of Payment')\n",
    "plt.savefig('inq_last_6mths_not_paid')"
   ]
  },
  {
   "cell_type": "markdown",
   "metadata": {},
   "source": [
    "##### Create dummy variables"
   ]
  },
  {
   "cell_type": "code",
   "execution_count": 457,
   "metadata": {},
   "outputs": [
    {
     "data": {
      "text/plain": [
       "['credit.policy',\n",
       " 'purpose',\n",
       " 'int.rate',\n",
       " 'installment',\n",
       " 'log.annual.inc',\n",
       " 'dti',\n",
       " 'fico',\n",
       " 'days.with.cr.line',\n",
       " 'revol.bal',\n",
       " 'revol.util',\n",
       " 'inq.last.6mths',\n",
       " 'delinq.2yrs',\n",
       " 'pub.rec',\n",
       " 'not.fully.paid']"
      ]
     },
     "execution_count": 457,
     "metadata": {},
     "output_type": "execute_result"
    }
   ],
   "source": [
    "X_features = list(loan.columns )\n",
    "X_features"
   ]
  },
  {
   "cell_type": "code",
   "execution_count": 458,
   "metadata": {},
   "outputs": [],
   "source": [
    "loan_complete = pd.get_dummies(loan[X_features], drop_first = True)"
   ]
  },
  {
   "cell_type": "code",
   "execution_count": 459,
   "metadata": {},
   "outputs": [
    {
     "data": {
      "text/html": [
       "<div>\n",
       "<style scoped>\n",
       "    .dataframe tbody tr th:only-of-type {\n",
       "        vertical-align: middle;\n",
       "    }\n",
       "\n",
       "    .dataframe tbody tr th {\n",
       "        vertical-align: top;\n",
       "    }\n",
       "\n",
       "    .dataframe thead th {\n",
       "        text-align: right;\n",
       "    }\n",
       "</style>\n",
       "<table border=\"1\" class=\"dataframe\">\n",
       "  <thead>\n",
       "    <tr style=\"text-align: right;\">\n",
       "      <th></th>\n",
       "      <th>0</th>\n",
       "      <th>1</th>\n",
       "      <th>2</th>\n",
       "      <th>3</th>\n",
       "      <th>4</th>\n",
       "    </tr>\n",
       "  </thead>\n",
       "  <tbody>\n",
       "    <tr>\n",
       "      <th>credit.policy</th>\n",
       "      <td>1.000000</td>\n",
       "      <td>1.000000</td>\n",
       "      <td>1.000000</td>\n",
       "      <td>1.000000</td>\n",
       "      <td>1.000000</td>\n",
       "    </tr>\n",
       "    <tr>\n",
       "      <th>installment</th>\n",
       "      <td>829.100000</td>\n",
       "      <td>228.220000</td>\n",
       "      <td>366.860000</td>\n",
       "      <td>162.340000</td>\n",
       "      <td>102.920000</td>\n",
       "    </tr>\n",
       "    <tr>\n",
       "      <th>log.annual.inc</th>\n",
       "      <td>11.350407</td>\n",
       "      <td>11.082143</td>\n",
       "      <td>10.373491</td>\n",
       "      <td>11.350407</td>\n",
       "      <td>11.299732</td>\n",
       "    </tr>\n",
       "    <tr>\n",
       "      <th>dti</th>\n",
       "      <td>19.480000</td>\n",
       "      <td>14.290000</td>\n",
       "      <td>11.630000</td>\n",
       "      <td>8.100000</td>\n",
       "      <td>14.970000</td>\n",
       "    </tr>\n",
       "    <tr>\n",
       "      <th>days.with.cr.line</th>\n",
       "      <td>5639.958333</td>\n",
       "      <td>2760.000000</td>\n",
       "      <td>4710.000000</td>\n",
       "      <td>2699.958333</td>\n",
       "      <td>4066.000000</td>\n",
       "    </tr>\n",
       "    <tr>\n",
       "      <th>revol.bal</th>\n",
       "      <td>28854.000000</td>\n",
       "      <td>33623.000000</td>\n",
       "      <td>3511.000000</td>\n",
       "      <td>33667.000000</td>\n",
       "      <td>4740.000000</td>\n",
       "    </tr>\n",
       "    <tr>\n",
       "      <th>revol.util</th>\n",
       "      <td>52.100000</td>\n",
       "      <td>76.700000</td>\n",
       "      <td>25.600000</td>\n",
       "      <td>73.200000</td>\n",
       "      <td>39.500000</td>\n",
       "    </tr>\n",
       "    <tr>\n",
       "      <th>not.fully.paid</th>\n",
       "      <td>0.000000</td>\n",
       "      <td>0.000000</td>\n",
       "      <td>0.000000</td>\n",
       "      <td>0.000000</td>\n",
       "      <td>0.000000</td>\n",
       "    </tr>\n",
       "    <tr>\n",
       "      <th>purpose_credit_card</th>\n",
       "      <td>0.000000</td>\n",
       "      <td>1.000000</td>\n",
       "      <td>0.000000</td>\n",
       "      <td>0.000000</td>\n",
       "      <td>1.000000</td>\n",
       "    </tr>\n",
       "    <tr>\n",
       "      <th>purpose_debt_consolidation</th>\n",
       "      <td>1.000000</td>\n",
       "      <td>0.000000</td>\n",
       "      <td>1.000000</td>\n",
       "      <td>1.000000</td>\n",
       "      <td>0.000000</td>\n",
       "    </tr>\n",
       "    <tr>\n",
       "      <th>purpose_educational</th>\n",
       "      <td>0.000000</td>\n",
       "      <td>0.000000</td>\n",
       "      <td>0.000000</td>\n",
       "      <td>0.000000</td>\n",
       "      <td>0.000000</td>\n",
       "    </tr>\n",
       "    <tr>\n",
       "      <th>purpose_home_improvement</th>\n",
       "      <td>0.000000</td>\n",
       "      <td>0.000000</td>\n",
       "      <td>0.000000</td>\n",
       "      <td>0.000000</td>\n",
       "      <td>0.000000</td>\n",
       "    </tr>\n",
       "    <tr>\n",
       "      <th>purpose_major_purchase</th>\n",
       "      <td>0.000000</td>\n",
       "      <td>0.000000</td>\n",
       "      <td>0.000000</td>\n",
       "      <td>0.000000</td>\n",
       "      <td>0.000000</td>\n",
       "    </tr>\n",
       "    <tr>\n",
       "      <th>purpose_small_business</th>\n",
       "      <td>0.000000</td>\n",
       "      <td>0.000000</td>\n",
       "      <td>0.000000</td>\n",
       "      <td>0.000000</td>\n",
       "      <td>0.000000</td>\n",
       "    </tr>\n",
       "    <tr>\n",
       "      <th>int.rate_(0.1, 0.15]</th>\n",
       "      <td>1.000000</td>\n",
       "      <td>1.000000</td>\n",
       "      <td>1.000000</td>\n",
       "      <td>1.000000</td>\n",
       "      <td>1.000000</td>\n",
       "    </tr>\n",
       "    <tr>\n",
       "      <th>int.rate_(0.15, 0.2]</th>\n",
       "      <td>0.000000</td>\n",
       "      <td>0.000000</td>\n",
       "      <td>0.000000</td>\n",
       "      <td>0.000000</td>\n",
       "      <td>0.000000</td>\n",
       "    </tr>\n",
       "    <tr>\n",
       "      <th>int.rate_(0.2, 0.25]</th>\n",
       "      <td>0.000000</td>\n",
       "      <td>0.000000</td>\n",
       "      <td>0.000000</td>\n",
       "      <td>0.000000</td>\n",
       "      <td>0.000000</td>\n",
       "    </tr>\n",
       "    <tr>\n",
       "      <th>fico_(650, 700]</th>\n",
       "      <td>0.000000</td>\n",
       "      <td>0.000000</td>\n",
       "      <td>1.000000</td>\n",
       "      <td>0.000000</td>\n",
       "      <td>1.000000</td>\n",
       "    </tr>\n",
       "    <tr>\n",
       "      <th>fico_(700, 850]</th>\n",
       "      <td>1.000000</td>\n",
       "      <td>1.000000</td>\n",
       "      <td>0.000000</td>\n",
       "      <td>1.000000</td>\n",
       "      <td>0.000000</td>\n",
       "    </tr>\n",
       "    <tr>\n",
       "      <th>inq.last.6mths_(0, 9]</th>\n",
       "      <td>0.000000</td>\n",
       "      <td>0.000000</td>\n",
       "      <td>1.000000</td>\n",
       "      <td>1.000000</td>\n",
       "      <td>0.000000</td>\n",
       "    </tr>\n",
       "    <tr>\n",
       "      <th>inq.last.6mths_(9, 18]</th>\n",
       "      <td>0.000000</td>\n",
       "      <td>0.000000</td>\n",
       "      <td>0.000000</td>\n",
       "      <td>0.000000</td>\n",
       "      <td>0.000000</td>\n",
       "    </tr>\n",
       "    <tr>\n",
       "      <th>inq.last.6mths_(18, 27]</th>\n",
       "      <td>0.000000</td>\n",
       "      <td>0.000000</td>\n",
       "      <td>0.000000</td>\n",
       "      <td>0.000000</td>\n",
       "      <td>0.000000</td>\n",
       "    </tr>\n",
       "    <tr>\n",
       "      <th>inq.last.6mths_(27, 36]</th>\n",
       "      <td>0.000000</td>\n",
       "      <td>0.000000</td>\n",
       "      <td>0.000000</td>\n",
       "      <td>0.000000</td>\n",
       "      <td>0.000000</td>\n",
       "    </tr>\n",
       "    <tr>\n",
       "      <th>delinq.2yrs_(0, 7]</th>\n",
       "      <td>0.000000</td>\n",
       "      <td>0.000000</td>\n",
       "      <td>0.000000</td>\n",
       "      <td>0.000000</td>\n",
       "      <td>1.000000</td>\n",
       "    </tr>\n",
       "    <tr>\n",
       "      <th>delinq.2yrs_(7, 13]</th>\n",
       "      <td>0.000000</td>\n",
       "      <td>0.000000</td>\n",
       "      <td>0.000000</td>\n",
       "      <td>0.000000</td>\n",
       "      <td>0.000000</td>\n",
       "    </tr>\n",
       "    <tr>\n",
       "      <th>pub.rec_(0, 3]</th>\n",
       "      <td>0.000000</td>\n",
       "      <td>0.000000</td>\n",
       "      <td>0.000000</td>\n",
       "      <td>0.000000</td>\n",
       "      <td>0.000000</td>\n",
       "    </tr>\n",
       "    <tr>\n",
       "      <th>pub.rec_(3, 5]</th>\n",
       "      <td>0.000000</td>\n",
       "      <td>0.000000</td>\n",
       "      <td>0.000000</td>\n",
       "      <td>0.000000</td>\n",
       "      <td>0.000000</td>\n",
       "    </tr>\n",
       "  </tbody>\n",
       "</table>\n",
       "</div>"
      ],
      "text/plain": [
       "                                       0             1            2  \\\n",
       "credit.policy                   1.000000      1.000000     1.000000   \n",
       "installment                   829.100000    228.220000   366.860000   \n",
       "log.annual.inc                 11.350407     11.082143    10.373491   \n",
       "dti                            19.480000     14.290000    11.630000   \n",
       "days.with.cr.line            5639.958333   2760.000000  4710.000000   \n",
       "revol.bal                   28854.000000  33623.000000  3511.000000   \n",
       "revol.util                     52.100000     76.700000    25.600000   \n",
       "not.fully.paid                  0.000000      0.000000     0.000000   \n",
       "purpose_credit_card             0.000000      1.000000     0.000000   \n",
       "purpose_debt_consolidation      1.000000      0.000000     1.000000   \n",
       "purpose_educational             0.000000      0.000000     0.000000   \n",
       "purpose_home_improvement        0.000000      0.000000     0.000000   \n",
       "purpose_major_purchase          0.000000      0.000000     0.000000   \n",
       "purpose_small_business          0.000000      0.000000     0.000000   \n",
       "int.rate_(0.1, 0.15]            1.000000      1.000000     1.000000   \n",
       "int.rate_(0.15, 0.2]            0.000000      0.000000     0.000000   \n",
       "int.rate_(0.2, 0.25]            0.000000      0.000000     0.000000   \n",
       "fico_(650, 700]                 0.000000      0.000000     1.000000   \n",
       "fico_(700, 850]                 1.000000      1.000000     0.000000   \n",
       "inq.last.6mths_(0, 9]           0.000000      0.000000     1.000000   \n",
       "inq.last.6mths_(9, 18]          0.000000      0.000000     0.000000   \n",
       "inq.last.6mths_(18, 27]         0.000000      0.000000     0.000000   \n",
       "inq.last.6mths_(27, 36]         0.000000      0.000000     0.000000   \n",
       "delinq.2yrs_(0, 7]              0.000000      0.000000     0.000000   \n",
       "delinq.2yrs_(7, 13]             0.000000      0.000000     0.000000   \n",
       "pub.rec_(0, 3]                  0.000000      0.000000     0.000000   \n",
       "pub.rec_(3, 5]                  0.000000      0.000000     0.000000   \n",
       "\n",
       "                                       3            4  \n",
       "credit.policy                   1.000000     1.000000  \n",
       "installment                   162.340000   102.920000  \n",
       "log.annual.inc                 11.350407    11.299732  \n",
       "dti                             8.100000    14.970000  \n",
       "days.with.cr.line            2699.958333  4066.000000  \n",
       "revol.bal                   33667.000000  4740.000000  \n",
       "revol.util                     73.200000    39.500000  \n",
       "not.fully.paid                  0.000000     0.000000  \n",
       "purpose_credit_card             0.000000     1.000000  \n",
       "purpose_debt_consolidation      1.000000     0.000000  \n",
       "purpose_educational             0.000000     0.000000  \n",
       "purpose_home_improvement        0.000000     0.000000  \n",
       "purpose_major_purchase          0.000000     0.000000  \n",
       "purpose_small_business          0.000000     0.000000  \n",
       "int.rate_(0.1, 0.15]            1.000000     1.000000  \n",
       "int.rate_(0.15, 0.2]            0.000000     0.000000  \n",
       "int.rate_(0.2, 0.25]            0.000000     0.000000  \n",
       "fico_(650, 700]                 0.000000     1.000000  \n",
       "fico_(700, 850]                 1.000000     0.000000  \n",
       "inq.last.6mths_(0, 9]           1.000000     0.000000  \n",
       "inq.last.6mths_(9, 18]          0.000000     0.000000  \n",
       "inq.last.6mths_(18, 27]         0.000000     0.000000  \n",
       "inq.last.6mths_(27, 36]         0.000000     0.000000  \n",
       "delinq.2yrs_(0, 7]              0.000000     1.000000  \n",
       "delinq.2yrs_(7, 13]             0.000000     0.000000  \n",
       "pub.rec_(0, 3]                  0.000000     0.000000  \n",
       "pub.rec_(3, 5]                  0.000000     0.000000  "
      ]
     },
     "execution_count": 459,
     "metadata": {},
     "output_type": "execute_result"
    }
   ],
   "source": [
    "loan_complete.head().T"
   ]
  },
  {
   "cell_type": "code",
   "execution_count": 460,
   "metadata": {},
   "outputs": [],
   "source": [
    "loan_complete2=loan_complete[loan_complete.columns.difference(['not.fully.paid'])]"
   ]
  },
  {
   "cell_type": "code",
   "execution_count": 461,
   "metadata": {},
   "outputs": [],
   "source": [
    "X,y=loan_complete2,loan_complete['not.fully.paid']"
   ]
  },
  {
   "cell_type": "code",
   "execution_count": 462,
   "metadata": {},
   "outputs": [],
   "source": [
    "X_train, X_test, y_train, y_test = train_test_split(X, y, test_size = 0.3)"
   ]
  },
  {
   "cell_type": "code",
   "execution_count": 463,
   "metadata": {},
   "outputs": [],
   "source": [
    "logit = sm.Logit( y_train, sm.add_constant( X_train ) )"
   ]
  },
  {
   "cell_type": "code",
   "execution_count": 464,
   "metadata": {},
   "outputs": [
    {
     "name": "stdout",
     "output_type": "stream",
     "text": [
      "Warning: Maximum number of iterations has been exceeded.\n",
      "         Current function value: 0.413039\n",
      "         Iterations: 35\n"
     ]
    },
    {
     "name": "stderr",
     "output_type": "stream",
     "text": [
      "C:\\Users\\hp\\Anaconda3\\lib\\site-packages\\statsmodels\\base\\model.py:496: ConvergenceWarning: Maximum Likelihood optimization failed to converge. Check mle_retvals\n",
      "  \"Check mle_retvals\", ConvergenceWarning)\n"
     ]
    }
   ],
   "source": [
    "lg = logit.fit()"
   ]
  },
  {
   "cell_type": "code",
   "execution_count": 465,
   "metadata": {},
   "outputs": [
    {
     "data": {
      "text/html": [
       "<table class=\"simpletable\">\n",
       "<caption>Logit Regression Results</caption>\n",
       "<tr>\n",
       "  <th>Dep. Variable:</th>  <td>not.fully.paid</td>  <th>  No. Observations:  </th>  <td>  6704</td>  \n",
       "</tr>\n",
       "<tr>\n",
       "  <th>Model:</th>               <td>Logit</td>      <th>  Df Residuals:      </th>  <td>  6677</td>  \n",
       "</tr>\n",
       "<tr>\n",
       "  <th>Method:</th>               <td>MLE</td>       <th>  Df Model:          </th>  <td>    26</td>  \n",
       "</tr>\n",
       "<tr>\n",
       "  <th>Date:</th>          <td>Thu, 23 Aug 2018</td> <th>  Pseudo R-squ.:     </th>  <td>0.06806</td> \n",
       "</tr>\n",
       "<tr>\n",
       "  <th>Time:</th>              <td>18:34:15</td>     <th>  Log-Likelihood:    </th> <td> -2769.0</td> \n",
       "</tr>\n",
       "<tr>\n",
       "  <th>converged:</th>           <td>False</td>      <th>  LL-Null:           </th> <td> -2971.2</td> \n",
       "</tr>\n",
       "<tr>\n",
       "  <th> </th>                      <td> </td>        <th>  LLR p-value:       </th> <td>1.547e-69</td>\n",
       "</tr>\n",
       "</table>\n",
       "<table class=\"simpletable\">\n",
       "<tr>\n",
       "               <td></td>                 <th>coef</th>     <th>std err</th>      <th>z</th>      <th>P>|z|</th>  <th>[0.025</th>    <th>0.975]</th>  \n",
       "</tr>\n",
       "<tr>\n",
       "  <th>const</th>                      <td>    1.2211</td> <td>    0.763</td> <td>    1.601</td> <td> 0.109</td> <td>   -0.274</td> <td>    2.716</td>\n",
       "</tr>\n",
       "<tr>\n",
       "  <th>credit.policy</th>              <td>   -0.5572</td> <td>    0.088</td> <td>   -6.312</td> <td> 0.000</td> <td>   -0.730</td> <td>   -0.384</td>\n",
       "</tr>\n",
       "<tr>\n",
       "  <th>days.with.cr.line</th>          <td>-1.242e-05</td> <td>  1.6e-05</td> <td>   -0.776</td> <td> 0.438</td> <td>-4.38e-05</td> <td> 1.89e-05</td>\n",
       "</tr>\n",
       "<tr>\n",
       "  <th>delinq.2yrs_(0, 7]</th>         <td>   -0.0631</td> <td>    0.109</td> <td>   -0.580</td> <td> 0.562</td> <td>   -0.276</td> <td>    0.150</td>\n",
       "</tr>\n",
       "<tr>\n",
       "  <th>delinq.2yrs_(7, 13]</th>        <td> -180.7063</td> <td> 1.67e+39</td> <td>-1.08e-37</td> <td> 1.000</td> <td>-3.28e+39</td> <td> 3.28e+39</td>\n",
       "</tr>\n",
       "<tr>\n",
       "  <th>dti</th>                        <td>   -0.0008</td> <td>    0.005</td> <td>   -0.141</td> <td> 0.888</td> <td>   -0.011</td> <td>    0.010</td>\n",
       "</tr>\n",
       "<tr>\n",
       "  <th>fico_(650, 700]</th>            <td>   -0.2949</td> <td>    0.190</td> <td>   -1.551</td> <td> 0.121</td> <td>   -0.668</td> <td>    0.078</td>\n",
       "</tr>\n",
       "<tr>\n",
       "  <th>fico_(700, 850]</th>            <td>   -0.5320</td> <td>    0.207</td> <td>   -2.570</td> <td> 0.010</td> <td>   -0.938</td> <td>   -0.126</td>\n",
       "</tr>\n",
       "<tr>\n",
       "  <th>inq.last.6mths_(0, 9]</th>      <td>    0.4421</td> <td>    0.079</td> <td>    5.593</td> <td> 0.000</td> <td>    0.287</td> <td>    0.597</td>\n",
       "</tr>\n",
       "<tr>\n",
       "  <th>inq.last.6mths_(18, 27]</th>    <td>    1.0177</td> <td>    0.942</td> <td>    1.080</td> <td> 0.280</td> <td>   -0.830</td> <td>    2.865</td>\n",
       "</tr>\n",
       "<tr>\n",
       "  <th>inq.last.6mths_(27, 36]</th>    <td>    0.5314</td> <td>    1.237</td> <td>    0.430</td> <td> 0.667</td> <td>   -1.893</td> <td>    2.956</td>\n",
       "</tr>\n",
       "<tr>\n",
       "  <th>inq.last.6mths_(9, 18]</th>     <td>    0.4571</td> <td>    0.316</td> <td>    1.447</td> <td> 0.148</td> <td>   -0.162</td> <td>    1.076</td>\n",
       "</tr>\n",
       "<tr>\n",
       "  <th>installment</th>                <td>    0.0009</td> <td>    0.000</td> <td>    4.588</td> <td> 0.000</td> <td>    0.001</td> <td>    0.001</td>\n",
       "</tr>\n",
       "<tr>\n",
       "  <th>int.rate_(0.1, 0.15]</th>       <td>    0.4772</td> <td>    0.122</td> <td>    3.906</td> <td> 0.000</td> <td>    0.238</td> <td>    0.717</td>\n",
       "</tr>\n",
       "<tr>\n",
       "  <th>int.rate_(0.15, 0.2]</th>       <td>    0.5239</td> <td>    0.159</td> <td>    3.286</td> <td> 0.001</td> <td>    0.211</td> <td>    0.836</td>\n",
       "</tr>\n",
       "<tr>\n",
       "  <th>int.rate_(0.2, 0.25]</th>       <td>    0.7022</td> <td>    0.410</td> <td>    1.713</td> <td> 0.087</td> <td>   -0.101</td> <td>    1.505</td>\n",
       "</tr>\n",
       "<tr>\n",
       "  <th>log.annual.inc</th>             <td>   -0.2853</td> <td>    0.071</td> <td>   -4.030</td> <td> 0.000</td> <td>   -0.424</td> <td>   -0.147</td>\n",
       "</tr>\n",
       "<tr>\n",
       "  <th>pub.rec_(0, 3]</th>             <td>    0.4757</td> <td>    0.129</td> <td>    3.683</td> <td> 0.000</td> <td>    0.223</td> <td>    0.729</td>\n",
       "</tr>\n",
       "<tr>\n",
       "  <th>pub.rec_(3, 5]</th>             <td>  -22.7035</td> <td> 1.93e+05</td> <td>   -0.000</td> <td> 1.000</td> <td>-3.78e+05</td> <td> 3.78e+05</td>\n",
       "</tr>\n",
       "<tr>\n",
       "  <th>purpose_credit_card</th>        <td>   -0.5471</td> <td>    0.129</td> <td>   -4.240</td> <td> 0.000</td> <td>   -0.800</td> <td>   -0.294</td>\n",
       "</tr>\n",
       "<tr>\n",
       "  <th>purpose_debt_consolidation</th> <td>   -0.3315</td> <td>    0.091</td> <td>   -3.629</td> <td> 0.000</td> <td>   -0.511</td> <td>   -0.152</td>\n",
       "</tr>\n",
       "<tr>\n",
       "  <th>purpose_educational</th>        <td>    0.1292</td> <td>    0.182</td> <td>    0.711</td> <td> 0.477</td> <td>   -0.227</td> <td>    0.485</td>\n",
       "</tr>\n",
       "<tr>\n",
       "  <th>purpose_home_improvement</th>   <td>    0.0139</td> <td>    0.153</td> <td>    0.091</td> <td> 0.928</td> <td>   -0.287</td> <td>    0.314</td>\n",
       "</tr>\n",
       "<tr>\n",
       "  <th>purpose_major_purchase</th>     <td>   -0.5077</td> <td>    0.209</td> <td>   -2.432</td> <td> 0.015</td> <td>   -0.917</td> <td>   -0.098</td>\n",
       "</tr>\n",
       "<tr>\n",
       "  <th>purpose_small_business</th>     <td>    0.5332</td> <td>    0.137</td> <td>    3.897</td> <td> 0.000</td> <td>    0.265</td> <td>    0.801</td>\n",
       "</tr>\n",
       "<tr>\n",
       "  <th>revol.bal</th>                  <td> 2.554e-06</td> <td> 1.05e-06</td> <td>    2.439</td> <td> 0.015</td> <td> 5.02e-07</td> <td> 4.61e-06</td>\n",
       "</tr>\n",
       "<tr>\n",
       "  <th>revol.util</th>                 <td>    0.0047</td> <td>    0.001</td> <td>    3.295</td> <td> 0.001</td> <td>    0.002</td> <td>    0.008</td>\n",
       "</tr>\n",
       "</table>"
      ],
      "text/plain": [
       "<class 'statsmodels.iolib.summary.Summary'>\n",
       "\"\"\"\n",
       "                           Logit Regression Results                           \n",
       "==============================================================================\n",
       "Dep. Variable:         not.fully.paid   No. Observations:                 6704\n",
       "Model:                          Logit   Df Residuals:                     6677\n",
       "Method:                           MLE   Df Model:                           26\n",
       "Date:                Thu, 23 Aug 2018   Pseudo R-squ.:                 0.06806\n",
       "Time:                        18:34:15   Log-Likelihood:                -2769.0\n",
       "converged:                      False   LL-Null:                       -2971.2\n",
       "                                        LLR p-value:                 1.547e-69\n",
       "==============================================================================================\n",
       "                                 coef    std err          z      P>|z|      [0.025      0.975]\n",
       "----------------------------------------------------------------------------------------------\n",
       "const                          1.2211      0.763      1.601      0.109      -0.274       2.716\n",
       "credit.policy                 -0.5572      0.088     -6.312      0.000      -0.730      -0.384\n",
       "days.with.cr.line          -1.242e-05    1.6e-05     -0.776      0.438   -4.38e-05    1.89e-05\n",
       "delinq.2yrs_(0, 7]            -0.0631      0.109     -0.580      0.562      -0.276       0.150\n",
       "delinq.2yrs_(7, 13]         -180.7063   1.67e+39  -1.08e-37      1.000   -3.28e+39    3.28e+39\n",
       "dti                           -0.0008      0.005     -0.141      0.888      -0.011       0.010\n",
       "fico_(650, 700]               -0.2949      0.190     -1.551      0.121      -0.668       0.078\n",
       "fico_(700, 850]               -0.5320      0.207     -2.570      0.010      -0.938      -0.126\n",
       "inq.last.6mths_(0, 9]          0.4421      0.079      5.593      0.000       0.287       0.597\n",
       "inq.last.6mths_(18, 27]        1.0177      0.942      1.080      0.280      -0.830       2.865\n",
       "inq.last.6mths_(27, 36]        0.5314      1.237      0.430      0.667      -1.893       2.956\n",
       "inq.last.6mths_(9, 18]         0.4571      0.316      1.447      0.148      -0.162       1.076\n",
       "installment                    0.0009      0.000      4.588      0.000       0.001       0.001\n",
       "int.rate_(0.1, 0.15]           0.4772      0.122      3.906      0.000       0.238       0.717\n",
       "int.rate_(0.15, 0.2]           0.5239      0.159      3.286      0.001       0.211       0.836\n",
       "int.rate_(0.2, 0.25]           0.7022      0.410      1.713      0.087      -0.101       1.505\n",
       "log.annual.inc                -0.2853      0.071     -4.030      0.000      -0.424      -0.147\n",
       "pub.rec_(0, 3]                 0.4757      0.129      3.683      0.000       0.223       0.729\n",
       "pub.rec_(3, 5]               -22.7035   1.93e+05     -0.000      1.000   -3.78e+05    3.78e+05\n",
       "purpose_credit_card           -0.5471      0.129     -4.240      0.000      -0.800      -0.294\n",
       "purpose_debt_consolidation    -0.3315      0.091     -3.629      0.000      -0.511      -0.152\n",
       "purpose_educational            0.1292      0.182      0.711      0.477      -0.227       0.485\n",
       "purpose_home_improvement       0.0139      0.153      0.091      0.928      -0.287       0.314\n",
       "purpose_major_purchase        -0.5077      0.209     -2.432      0.015      -0.917      -0.098\n",
       "purpose_small_business         0.5332      0.137      3.897      0.000       0.265       0.801\n",
       "revol.bal                   2.554e-06   1.05e-06      2.439      0.015    5.02e-07    4.61e-06\n",
       "revol.util                     0.0047      0.001      3.295      0.001       0.002       0.008\n",
       "==============================================================================================\n",
       "\"\"\""
      ]
     },
     "execution_count": 465,
     "metadata": {},
     "output_type": "execute_result"
    }
   ],
   "source": [
    "lg.summary()"
   ]
  },
  {
   "cell_type": "markdown",
   "metadata": {},
   "source": [
    "#### Significant Variables"
   ]
  },
  {
   "cell_type": "code",
   "execution_count": 466,
   "metadata": {},
   "outputs": [],
   "source": [
    "def get_significant_vars( lm ):\n",
    "    var_p_vals_df = pd.DataFrame( lm.pvalues )\n",
    "    var_p_vals_df['vars'] = var_p_vals_df.index\n",
    "    var_p_vals_df.columns = ['pvals', 'vars']\n",
    "    return list( var_p_vals_df[var_p_vals_df.pvals <= 0.05]['vars'] )"
   ]
  },
  {
   "cell_type": "code",
   "execution_count": 467,
   "metadata": {},
   "outputs": [],
   "source": [
    "significant_vars = get_significant_vars( lg )"
   ]
  },
  {
   "cell_type": "code",
   "execution_count": 468,
   "metadata": {},
   "outputs": [
    {
     "data": {
      "text/plain": [
       "['credit.policy',\n",
       " 'fico_(700, 850]',\n",
       " 'inq.last.6mths_(0, 9]',\n",
       " 'installment',\n",
       " 'int.rate_(0.1, 0.15]',\n",
       " 'int.rate_(0.15, 0.2]',\n",
       " 'log.annual.inc',\n",
       " 'pub.rec_(0, 3]',\n",
       " 'purpose_credit_card',\n",
       " 'purpose_debt_consolidation',\n",
       " 'purpose_major_purchase',\n",
       " 'purpose_small_business',\n",
       " 'revol.bal',\n",
       " 'revol.util']"
      ]
     },
     "execution_count": 468,
     "metadata": {},
     "output_type": "execute_result"
    }
   ],
   "source": [
    "significant_vars"
   ]
  },
  {
   "cell_type": "code",
   "execution_count": 469,
   "metadata": {},
   "outputs": [],
   "source": [
    "from sklearn import metrics\n",
    "from scipy import stats\n",
    "stats.chisqprob = lambda chisq, df: stats.chi2.sf(chisq, df)"
   ]
  },
  {
   "cell_type": "code",
   "execution_count": 470,
   "metadata": {},
   "outputs": [],
   "source": [
    "def get_predictions( y_test, model ):\n",
    "    y_pred_df = pd.DataFrame( { 'actual': y_test,\n",
    "                               'predicted_prob': lg.predict( sm.add_constant( X_test ) ) } )\n",
    "    return y_pred_df"
   ]
  },
  {
   "cell_type": "code",
   "execution_count": 471,
   "metadata": {},
   "outputs": [],
   "source": [
    "y_pred_df = get_predictions( y_test, lg )"
   ]
  },
  {
   "cell_type": "code",
   "execution_count": 472,
   "metadata": {},
   "outputs": [
    {
     "data": {
      "text/plain": [
       "2291    0\n",
       "5324    0\n",
       "1843    0\n",
       "4076    0\n",
       "4618    0\n",
       "Name: not.fully.paid, dtype: int64"
      ]
     },
     "execution_count": 472,
     "metadata": {},
     "output_type": "execute_result"
    }
   ],
   "source": [
    "#y_pred_df[0:10]\n",
    "y_test.head()"
   ]
  },
  {
   "cell_type": "code",
   "execution_count": 473,
   "metadata": {},
   "outputs": [],
   "source": [
    "y_pred_df['predicted'] = y_pred_df.predicted_prob.map( lambda x: 1 if x > 0.5 else 0)"
   ]
  },
  {
   "cell_type": "code",
   "execution_count": 474,
   "metadata": {},
   "outputs": [
    {
     "data": {
      "text/html": [
       "<div>\n",
       "<style scoped>\n",
       "    .dataframe tbody tr th:only-of-type {\n",
       "        vertical-align: middle;\n",
       "    }\n",
       "\n",
       "    .dataframe tbody tr th {\n",
       "        vertical-align: top;\n",
       "    }\n",
       "\n",
       "    .dataframe thead th {\n",
       "        text-align: right;\n",
       "    }\n",
       "</style>\n",
       "<table border=\"1\" class=\"dataframe\">\n",
       "  <thead>\n",
       "    <tr style=\"text-align: right;\">\n",
       "      <th></th>\n",
       "      <th>actual</th>\n",
       "      <th>predicted_prob</th>\n",
       "      <th>predicted</th>\n",
       "    </tr>\n",
       "  </thead>\n",
       "  <tbody>\n",
       "    <tr>\n",
       "      <th>2291</th>\n",
       "      <td>0</td>\n",
       "      <td>0.151030</td>\n",
       "      <td>0</td>\n",
       "    </tr>\n",
       "    <tr>\n",
       "      <th>5324</th>\n",
       "      <td>0</td>\n",
       "      <td>0.120778</td>\n",
       "      <td>0</td>\n",
       "    </tr>\n",
       "    <tr>\n",
       "      <th>1843</th>\n",
       "      <td>0</td>\n",
       "      <td>0.094297</td>\n",
       "      <td>0</td>\n",
       "    </tr>\n",
       "    <tr>\n",
       "      <th>4076</th>\n",
       "      <td>0</td>\n",
       "      <td>0.098080</td>\n",
       "      <td>0</td>\n",
       "    </tr>\n",
       "    <tr>\n",
       "      <th>4618</th>\n",
       "      <td>0</td>\n",
       "      <td>0.168705</td>\n",
       "      <td>0</td>\n",
       "    </tr>\n",
       "    <tr>\n",
       "      <th>7182</th>\n",
       "      <td>1</td>\n",
       "      <td>0.121589</td>\n",
       "      <td>0</td>\n",
       "    </tr>\n",
       "    <tr>\n",
       "      <th>3868</th>\n",
       "      <td>1</td>\n",
       "      <td>0.105670</td>\n",
       "      <td>0</td>\n",
       "    </tr>\n",
       "    <tr>\n",
       "      <th>9483</th>\n",
       "      <td>0</td>\n",
       "      <td>0.557953</td>\n",
       "      <td>1</td>\n",
       "    </tr>\n",
       "    <tr>\n",
       "      <th>4489</th>\n",
       "      <td>0</td>\n",
       "      <td>0.059146</td>\n",
       "      <td>0</td>\n",
       "    </tr>\n",
       "    <tr>\n",
       "      <th>2773</th>\n",
       "      <td>0</td>\n",
       "      <td>0.057428</td>\n",
       "      <td>0</td>\n",
       "    </tr>\n",
       "  </tbody>\n",
       "</table>\n",
       "</div>"
      ],
      "text/plain": [
       "      actual  predicted_prob  predicted\n",
       "2291       0        0.151030          0\n",
       "5324       0        0.120778          0\n",
       "1843       0        0.094297          0\n",
       "4076       0        0.098080          0\n",
       "4618       0        0.168705          0\n",
       "7182       1        0.121589          0\n",
       "3868       1        0.105670          0\n",
       "9483       0        0.557953          1\n",
       "4489       0        0.059146          0\n",
       "2773       0        0.057428          0"
      ]
     },
     "execution_count": 474,
     "metadata": {},
     "output_type": "execute_result"
    }
   ],
   "source": [
    "y_pred_df[0:10]"
   ]
  },
  {
   "cell_type": "code",
   "execution_count": 475,
   "metadata": {},
   "outputs": [],
   "source": [
    "import matplotlib.pylab as plt\n",
    "import seaborn as sn\n",
    "%matplotlib inline "
   ]
  },
  {
   "cell_type": "code",
   "execution_count": 476,
   "metadata": {},
   "outputs": [],
   "source": [
    "def draw_cm( actual, predicted ):\n",
    "    cm = metrics.confusion_matrix( actual, predicted, [1,0] )\n",
    "    sn.heatmap(cm, annot=True,  fmt='.2f', xticklabels = [\"Yes\", \"No\"] , yticklabels = [\"Yes\", \"No\"] )\n",
    "    plt.ylabel('True label')\n",
    "    plt.xlabel('Predicted label')\n",
    "    plt.show()"
   ]
  },
  {
   "cell_type": "code",
   "execution_count": 477,
   "metadata": {},
   "outputs": [
    {
     "data": {
      "image/png": "[encoded data removed]",
      "text/plain": [
       "<matplotlib.figure.Figure at 0x1c907fe3128>"
      ]
     },
     "metadata": {},
     "output_type": "display_data"
    }
   ],
   "source": [
    "draw_cm( y_pred_df.actual, y_pred_df.predicted )"
   ]
  },
  {
   "cell_type": "code",
   "execution_count": 478,
   "metadata": {},
   "outputs": [
    {
     "name": "stdout",
     "output_type": "stream",
     "text": [
      "Total Accuracy :  0.84\n"
     ]
    }
   ],
   "source": [
    "print( 'Total Accuracy : ',np.round( metrics.accuracy_score( y_test, y_pred_df.predicted ), 2 ) )"
   ]
  },
  {
   "cell_type": "code",
   "execution_count": 479,
   "metadata": {},
   "outputs": [
    {
     "name": "stdout",
     "output_type": "stream",
     "text": [
      "Precision :  0.39\n"
     ]
    }
   ],
   "source": [
    "print( 'Precision : ',np.round( metrics.precision_score( y_test, y_pred_df.predicted ), 2 ) )"
   ]
  },
  {
   "cell_type": "code",
   "execution_count": 480,
   "metadata": {},
   "outputs": [
    {
     "name": "stdout",
     "output_type": "stream",
     "text": [
      "Recall :  0.02\n"
     ]
    }
   ],
   "source": [
    "print( 'Recall : ',np.round( metrics.recall_score( y_test, y_pred_df.predicted ), 2 ) )"
   ]
  },
  {
   "cell_type": "code",
   "execution_count": 481,
   "metadata": {},
   "outputs": [],
   "source": [
    "cm1 = metrics.confusion_matrix( y_pred_df.actual, y_pred_df.predicted, [1,0] )"
   ]
  },
  {
   "cell_type": "code",
   "execution_count": 482,
   "metadata": {},
   "outputs": [],
   "source": [
    "sensitivity = cm1[0,0]/(cm1[0,0]+cm1[0,1])"
   ]
  },
  {
   "cell_type": "code",
   "execution_count": 483,
   "metadata": {},
   "outputs": [
    {
     "name": "stdout",
     "output_type": "stream",
     "text": [
      "Sensitivity :  0.02\n"
     ]
    }
   ],
   "source": [
    "print('Sensitivity : ', round( sensitivity, 2) )"
   ]
  },
  {
   "cell_type": "code",
   "execution_count": 484,
   "metadata": {},
   "outputs": [],
   "source": [
    "specificity = cm1[1,1]/(cm1[1,0]+cm1[1,1])"
   ]
  },
  {
   "cell_type": "code",
   "execution_count": 486,
   "metadata": {},
   "outputs": [
    {
     "name": "stdout",
     "output_type": "stream",
     "text": [
      "Specificity :  1.0\n"
     ]
    }
   ],
   "source": [
    "print('Specificity : ', round( specificity, 2 ) )"
   ]
  },
  {
   "cell_type": "code",
   "execution_count": 487,
   "metadata": {},
   "outputs": [
    {
     "data": {
      "text/plain": [
       "<matplotlib.axes._subplots.AxesSubplot at 0x1c907fe3208>"
      ]
     },
     "execution_count": 487,
     "metadata": {},
     "output_type": "execute_result"
    },
    {
     "data": {
      "image/png": "[encoded data removed]",
      "text/plain": [
       "<matplotlib.figure.Figure at 0x1c907134e10>"
      ]
     },
     "metadata": {},
     "output_type": "display_data"
    }
   ],
   "source": [
    "sn.distplot( y_pred_df[y_pred_df.actual == 1][\"predicted_prob\"], kde=False, color = 'b' )\n",
    "sn.distplot( y_pred_df[y_pred_df.actual == 0][\"predicted_prob\"], kde=False, color = 'g' )"
   ]
  },
  {
   "cell_type": "code",
   "execution_count": 488,
   "metadata": {},
   "outputs": [
    {
     "data": {
      "text/plain": [
       "0.67"
      ]
     },
     "execution_count": 488,
     "metadata": {},
     "output_type": "execute_result"
    }
   ],
   "source": [
    "auc_score = metrics.roc_auc_score( y_pred_df.actual, y_pred_df.predicted_prob  )\n",
    "round( float( auc_score ), 2 )"
   ]
  },
  {
   "cell_type": "code",
   "execution_count": 489,
   "metadata": {},
   "outputs": [],
   "source": [
    "def draw_roc( actual, probs ):\n",
    "    fpr, tpr, thresholds = metrics.roc_curve( actual, probs,\n",
    "                                              drop_intermediate = False )\n",
    "    auc_score = metrics.roc_auc_score( actual, probs )\n",
    "    plt.figure(figsize=(6, 4))\n",
    "    plt.plot( fpr, tpr, label='ROC curve (area = %0.2f)' % auc_score )\n",
    "    plt.plot([0, 1], [0, 1], 'k--')\n",
    "    plt.xlim([0.0, 1.0])\n",
    "    plt.ylim([0.0, 1.05])\n",
    "    plt.xlabel('False Positive Rate or [1 - True Negative Rate]')\n",
    "    plt.ylabel('True Positive Rate')\n",
    "    plt.title('Receiver operating characteristic example')\n",
    "    plt.legend(loc=\"lower right\")\n",
    "    plt.show()\n",
    "\n",
    "    return fpr, tpr, thresholds"
   ]
  },
  {
   "cell_type": "code",
   "execution_count": 490,
   "metadata": {},
   "outputs": [
    {
     "data": {
      "image/png": "[encoded data removed]",
      "text/plain": [
       "<matplotlib.figure.Figure at 0x1c9053f4278>"
      ]
     },
     "metadata": {},
     "output_type": "display_data"
    }
   ],
   "source": [
    "fpr, tpr, thresholds = draw_roc( y_pred_df.actual, y_pred_df.predicted_prob )"
   ]
  },
  {
   "cell_type": "code",
   "execution_count": 491,
   "metadata": {},
   "outputs": [
    {
     "data": {
      "text/plain": [
       "array([ 1.60458241,  0.60458241,  0.60455779,  0.60106532,  0.60088569,\n",
       "        0.59405303,  0.56194609,  0.5617731 ,  0.56038411,  0.55795255])"
      ]
     },
     "execution_count": 491,
     "metadata": {},
     "output_type": "execute_result"
    }
   ],
   "source": [
    "thresholds[0:10]"
   ]
  },
  {
   "cell_type": "code",
   "execution_count": 492,
   "metadata": {},
   "outputs": [],
   "source": [
    "tpr_fpr = pd.DataFrame( { 'tpr': tpr, 'fpr': fpr, 'thresholds': thresholds } )"
   ]
  },
  {
   "cell_type": "code",
   "execution_count": 493,
   "metadata": {},
   "outputs": [],
   "source": [
    "tpr_fpr['diff'] = tpr_fpr.tpr - tpr_fpr.fpr"
   ]
  },
  {
   "cell_type": "code",
   "execution_count": 494,
   "metadata": {},
   "outputs": [
    {
     "data": {
      "text/html": [
       "<div>\n",
       "<style scoped>\n",
       "    .dataframe tbody tr th:only-of-type {\n",
       "        vertical-align: middle;\n",
       "    }\n",
       "\n",
       "    .dataframe tbody tr th {\n",
       "        vertical-align: top;\n",
       "    }\n",
       "\n",
       "    .dataframe thead th {\n",
       "        text-align: right;\n",
       "    }\n",
       "</style>\n",
       "<table border=\"1\" class=\"dataframe\">\n",
       "  <thead>\n",
       "    <tr style=\"text-align: right;\">\n",
       "      <th></th>\n",
       "      <th>fpr</th>\n",
       "      <th>thresholds</th>\n",
       "      <th>tpr</th>\n",
       "      <th>diff</th>\n",
       "    </tr>\n",
       "  </thead>\n",
       "  <tbody>\n",
       "    <tr>\n",
       "      <th>1206</th>\n",
       "      <td>0.383443</td>\n",
       "      <td>0.157974</td>\n",
       "      <td>0.616592</td>\n",
       "      <td>0.233149</td>\n",
       "    </tr>\n",
       "    <tr>\n",
       "      <th>1065</th>\n",
       "      <td>0.334432</td>\n",
       "      <td>0.169554</td>\n",
       "      <td>0.567265</td>\n",
       "      <td>0.232833</td>\n",
       "    </tr>\n",
       "    <tr>\n",
       "      <th>1239</th>\n",
       "      <td>0.394975</td>\n",
       "      <td>0.155705</td>\n",
       "      <td>0.627803</td>\n",
       "      <td>0.232827</td>\n",
       "    </tr>\n",
       "    <tr>\n",
       "      <th>1207</th>\n",
       "      <td>0.383855</td>\n",
       "      <td>0.157805</td>\n",
       "      <td>0.616592</td>\n",
       "      <td>0.232737</td>\n",
       "    </tr>\n",
       "    <tr>\n",
       "      <th>1233</th>\n",
       "      <td>0.392916</td>\n",
       "      <td>0.156311</td>\n",
       "      <td>0.625561</td>\n",
       "      <td>0.232645</td>\n",
       "    </tr>\n",
       "    <tr>\n",
       "      <th>1072</th>\n",
       "      <td>0.336903</td>\n",
       "      <td>0.169105</td>\n",
       "      <td>0.569507</td>\n",
       "      <td>0.232604</td>\n",
       "    </tr>\n",
       "    <tr>\n",
       "      <th>1201</th>\n",
       "      <td>0.381796</td>\n",
       "      <td>0.158269</td>\n",
       "      <td>0.614350</td>\n",
       "      <td>0.232554</td>\n",
       "    </tr>\n",
       "    <tr>\n",
       "      <th>1066</th>\n",
       "      <td>0.334843</td>\n",
       "      <td>0.169452</td>\n",
       "      <td>0.567265</td>\n",
       "      <td>0.232421</td>\n",
       "    </tr>\n",
       "    <tr>\n",
       "      <th>1240</th>\n",
       "      <td>0.395387</td>\n",
       "      <td>0.155602</td>\n",
       "      <td>0.627803</td>\n",
       "      <td>0.232416</td>\n",
       "    </tr>\n",
       "    <tr>\n",
       "      <th>1208</th>\n",
       "      <td>0.384267</td>\n",
       "      <td>0.157752</td>\n",
       "      <td>0.616592</td>\n",
       "      <td>0.232325</td>\n",
       "    </tr>\n",
       "  </tbody>\n",
       "</table>\n",
       "</div>"
      ],
      "text/plain": [
       "           fpr  thresholds       tpr      diff\n",
       "1206  0.383443    0.157974  0.616592  0.233149\n",
       "1065  0.334432    0.169554  0.567265  0.232833\n",
       "1239  0.394975    0.155705  0.627803  0.232827\n",
       "1207  0.383855    0.157805  0.616592  0.232737\n",
       "1233  0.392916    0.156311  0.625561  0.232645\n",
       "1072  0.336903    0.169105  0.569507  0.232604\n",
       "1201  0.381796    0.158269  0.614350  0.232554\n",
       "1066  0.334843    0.169452  0.567265  0.232421\n",
       "1240  0.395387    0.155602  0.627803  0.232416\n",
       "1208  0.384267    0.157752  0.616592  0.232325"
      ]
     },
     "execution_count": 494,
     "metadata": {},
     "output_type": "execute_result"
    }
   ],
   "source": [
    "tpr_fpr.sort_values( 'diff', ascending = False )[0:10]"
   ]
  },
  {
   "cell_type": "code",
   "execution_count": 495,
   "metadata": {},
   "outputs": [],
   "source": [
    "y_pred_df['predicted_new'] = y_pred_df.predicted_prob.map( lambda x: 1 if x > 0.299 else 0)"
   ]
  },
  {
   "cell_type": "code",
   "execution_count": 496,
   "metadata": {},
   "outputs": [
    {
     "data": {
      "image/png": "[encoded data removed]",
      "text/plain": [
       "<matplotlib.figure.Figure at 0x1c9055c7ba8>"
      ]
     },
     "metadata": {},
     "output_type": "display_data"
    }
   ],
   "source": [
    "draw_cm( y_pred_df.actual, y_pred_df.predicted_new )"
   ]
  },
  {
   "cell_type": "code",
   "execution_count": 497,
   "metadata": {},
   "outputs": [],
   "source": [
    "y_pred_df['predicted_final'] = y_pred_df.predicted_prob.map( lambda x: 1 if x > 0.299 else 0)"
   ]
  },
  {
   "cell_type": "code",
   "execution_count": 498,
   "metadata": {},
   "outputs": [
    {
     "data": {
      "image/png": "[encoded data removed]",
      "text/plain": [
       "<matplotlib.figure.Figure at 0x1c90b1541d0>"
      ]
     },
     "metadata": {},
     "output_type": "display_data"
    }
   ],
   "source": [
    "draw_cm( y_pred_df.actual, y_pred_df.predicted_final )"
   ]
  },
  {
   "cell_type": "code",
   "execution_count": 499,
   "metadata": {},
   "outputs": [
    {
     "name": "stdout",
     "output_type": "stream",
     "text": [
      "Total Accuracy :  0.82\n",
      "Precision :  0.34\n",
      "Recall :  0.2\n",
      "Sensitivity :  0.2\n",
      "Specificity :  0.93\n"
     ]
    }
   ],
   "source": [
    "print( 'Total Accuracy : ',np.round( metrics.accuracy_score( y_test, y_pred_df.predicted_final ), 2 ) )\n",
    "print( 'Precision : ',np.round( metrics.precision_score( y_test, y_pred_df.predicted_final ), 2 ) )\n",
    "print( 'Recall : ',np.round( metrics.recall_score( y_test, y_pred_df.predicted_final ), 2 ) )\n",
    "\n",
    "cm1 = metrics.confusion_matrix( y_pred_df.actual, y_pred_df.predicted_final, [1,0] )\n",
    "\n",
    "sensitivity = cm1[0,0]/(cm1[0,0]+cm1[0,1])\n",
    "print('Sensitivity : ', round( sensitivity, 2) )\n",
    "\n",
    "specificity = cm1[1,1]/(cm1[1,0]+cm1[1,1])\n",
    "print('Specificity : ', round( specificity, 2 ) )"
   ]
  },
  {
   "cell_type": "markdown",
   "metadata": {},
   "source": [
    "##### Logistic Regression Model Fitting"
   ]
  },
  {
   "cell_type": "code",
   "execution_count": 500,
   "metadata": {},
   "outputs": [
    {
     "data": {
      "text/plain": [
       "LogisticRegression(C=1.0, class_weight=None, dual=False, fit_intercept=True,\n",
       "          intercept_scaling=1, max_iter=100, multi_class='ovr', n_jobs=1,\n",
       "          penalty='l2', random_state=None, solver='liblinear', tol=0.0001,\n",
       "          verbose=0, warm_start=False)"
      ]
     },
     "execution_count": 500,
     "metadata": {},
     "output_type": "execute_result"
    }
   ],
   "source": [
    "\n",
    "X_train,X_test,y_train,y_test  =  train_test_split(X, y, test_size=0.3, random_state=0)\n",
    "from sklearn.linear_model import LogisticRegression\n",
    "from sklearn import metrics\n",
    "logreg = LogisticRegression()\n",
    "logreg.fit(X_train, y_train)"
   ]
  },
  {
   "cell_type": "markdown",
   "metadata": {},
   "source": [
    "##### Predicting the test set results and caculating the accuracy"
   ]
  },
  {
   "cell_type": "code",
   "execution_count": 501,
   "metadata": {},
   "outputs": [],
   "source": [
    "y_predy_pred  =  logreg.predict((X_test))"
   ]
  },
  {
   "cell_type": "code",
   "execution_count": 502,
   "metadata": {},
   "outputs": [
    {
     "name": "stdout",
     "output_type": "stream",
     "text": [
      "Accuracy of logistic regression classifier on test set: 0.84\n"
     ]
    }
   ],
   "source": [
    "print('Accuracy of logistic regression classifier on test set: {:.2f}'.format(logreg.score(X_test, y_test)))"
   ]
  },
  {
   "cell_type": "code",
   "execution_count": 503,
   "metadata": {},
   "outputs": [
    {
     "name": "stdout",
     "output_type": "stream",
     "text": [
      "10-fold cross validation average accuracy: 0.841\n"
     ]
    }
   ],
   "source": [
    "from sklearn import model_selection\n",
    "from sklearn.model_selection import cross_val_score\n",
    "kfold = model_selection.KFold(n_splits=10, random_state=7)\n",
    "modelCV = LogisticRegression()\n",
    "scoring = 'accuracy'\n",
    "results = model_selection.cross_val_score(modelCV, X_train, y_train, cv=kfold, scoring=scoring)\n",
    "print(\"10-fold cross validation average accuracy: %.3f\" % (results.mean()))"
   ]
  },
  {
   "cell_type": "markdown",
   "metadata": {},
   "source": [
    "##### Confusion Matrix"
   ]
  },
  {
   "cell_type": "code",
   "execution_count": 504,
   "metadata": {},
   "outputs": [
    {
     "name": "stdout",
     "output_type": "stream",
     "text": [
      "[[2395   11]\n",
      " [ 461    7]]\n"
     ]
    }
   ],
   "source": [
    "from  sklearn.metrics  import confusion_matrix\n",
    "confusion_matrix = confusion_matrix(y_test, y_pred)\n",
    "print(confusion_matrix)"
   ]
  },
  {
   "cell_type": "markdown",
   "metadata": {},
   "source": [
    "The result is telling us that we have 2395+7 correct predictions and 461+11 incorrect predictions."
   ]
  },
  {
   "cell_type": "markdown",
   "metadata": {},
   "source": [
    "##### Compute precision, recall, F-measure and support"
   ]
  },
  {
   "cell_type": "markdown",
   "metadata": {},
   "source": [
    "The precision is the ratio tp / (tp + fp) where tp is the number of true positives and fp the number of false positives. The precision is intuitively the ability of the classifier not to label as positive a sample that is negative.\n",
    "\n",
    "The recall is the ratio tp / (tp + fn) where tp is the number of true positives and fn the number of false negatives. The recall is intuitively the ability of the classifier to find all the positive samples.\n",
    "\n",
    "The F-beta score can be interpreted as a weighted harmonic mean of the precision and recall, where an F-beta score reaches its best value at 1 and worst score at 0.\n",
    "\n",
    "The F-beta score weights recall more than precision by a factor of beta. beta == 1.0 means recall and precision are equally important.\n",
    "\n",
    "The support is the number of occurrences of each class in y_test."
   ]
  },
  {
   "cell_type": "code",
   "execution_count": 505,
   "metadata": {},
   "outputs": [
    {
     "name": "stdout",
     "output_type": "stream",
     "text": [
      "             precision    recall  f1-score   support\n",
      "\n",
      "          0       0.84      1.00      0.91      2406\n",
      "          1       0.39      0.01      0.03       468\n",
      "\n",
      "avg / total       0.77      0.84      0.77      2874\n",
      "\n"
     ]
    }
   ],
   "source": [
    "from sklearn.metrics import classification_report\n",
    "print(classification_report(y_test, y_pred))"
   ]
  },
  {
   "cell_type": "code",
   "execution_count": 508,
   "metadata": {},
   "outputs": [
    {
     "data": {
      "text/html": [
       "<div>\n",
       "<style scoped>\n",
       "    .dataframe tbody tr th:only-of-type {\n",
       "        vertical-align: middle;\n",
       "    }\n",
       "\n",
       "    .dataframe tbody tr th {\n",
       "        vertical-align: top;\n",
       "    }\n",
       "\n",
       "    .dataframe thead th {\n",
       "        text-align: right;\n",
       "    }\n",
       "</style>\n",
       "<table border=\"1\" class=\"dataframe\">\n",
       "  <thead>\n",
       "    <tr style=\"text-align: right;\">\n",
       "      <th></th>\n",
       "      <th>credit.policy</th>\n",
       "      <th>days.with.cr.line</th>\n",
       "      <th>delinq.2yrs_(0, 7]</th>\n",
       "      <th>delinq.2yrs_(7, 13]</th>\n",
       "      <th>dti</th>\n",
       "      <th>fico_(650, 700]</th>\n",
       "      <th>fico_(700, 850]</th>\n",
       "      <th>inq.last.6mths_(0, 9]</th>\n",
       "      <th>inq.last.6mths_(18, 27]</th>\n",
       "      <th>inq.last.6mths_(27, 36]</th>\n",
       "      <th>...</th>\n",
       "      <th>pub.rec_(0, 3]</th>\n",
       "      <th>pub.rec_(3, 5]</th>\n",
       "      <th>purpose_credit_card</th>\n",
       "      <th>purpose_debt_consolidation</th>\n",
       "      <th>purpose_educational</th>\n",
       "      <th>purpose_home_improvement</th>\n",
       "      <th>purpose_major_purchase</th>\n",
       "      <th>purpose_small_business</th>\n",
       "      <th>revol.bal</th>\n",
       "      <th>revol.util</th>\n",
       "    </tr>\n",
       "  </thead>\n",
       "  <tbody>\n",
       "    <tr>\n",
       "      <th>credit.policy</th>\n",
       "      <td>1.000000</td>\n",
       "      <td>0.099026</td>\n",
       "      <td>-0.053486</td>\n",
       "      <td>-0.035961</td>\n",
       "      <td>-0.090901</td>\n",
       "      <td>-0.166671</td>\n",
       "      <td>0.263134</td>\n",
       "      <td>-0.191642</td>\n",
       "      <td>-0.054943</td>\n",
       "      <td>-0.041526</td>\n",
       "      <td>...</td>\n",
       "      <td>-0.047703</td>\n",
       "      <td>-0.011123</td>\n",
       "      <td>0.003216</td>\n",
       "      <td>0.020193</td>\n",
       "      <td>-0.031346</td>\n",
       "      <td>0.006036</td>\n",
       "      <td>0.024281</td>\n",
       "      <td>-0.003511</td>\n",
       "      <td>-0.187518</td>\n",
       "      <td>-0.104095</td>\n",
       "    </tr>\n",
       "    <tr>\n",
       "      <th>days.with.cr.line</th>\n",
       "      <td>0.099026</td>\n",
       "      <td>1.000000</td>\n",
       "      <td>0.085357</td>\n",
       "      <td>-0.003772</td>\n",
       "      <td>0.060101</td>\n",
       "      <td>-0.152263</td>\n",
       "      <td>0.176086</td>\n",
       "      <td>-0.037310</td>\n",
       "      <td>-0.013954</td>\n",
       "      <td>-0.020460</td>\n",
       "      <td>...</td>\n",
       "      <td>0.078939</td>\n",
       "      <td>0.004681</td>\n",
       "      <td>0.046220</td>\n",
       "      <td>-0.009318</td>\n",
       "      <td>-0.042621</td>\n",
       "      <td>0.068087</td>\n",
       "      <td>-0.020561</td>\n",
       "      <td>0.034883</td>\n",
       "      <td>0.229344</td>\n",
       "      <td>-0.024239</td>\n",
       "    </tr>\n",
       "    <tr>\n",
       "      <th>delinq.2yrs_(0, 7]</th>\n",
       "      <td>-0.053486</td>\n",
       "      <td>0.085357</td>\n",
       "      <td>1.000000</td>\n",
       "      <td>-0.006431</td>\n",
       "      <td>-0.015395</td>\n",
       "      <td>0.185857</td>\n",
       "      <td>-0.201630</td>\n",
       "      <td>0.018087</td>\n",
       "      <td>-0.009826</td>\n",
       "      <td>-0.007427</td>\n",
       "      <td>...</td>\n",
       "      <td>0.000058</td>\n",
       "      <td>-0.005251</td>\n",
       "      <td>-0.011710</td>\n",
       "      <td>-0.001632</td>\n",
       "      <td>0.007000</td>\n",
       "      <td>-0.009658</td>\n",
       "      <td>-0.003061</td>\n",
       "      <td>0.001073</td>\n",
       "      <td>-0.025277</td>\n",
       "      <td>-0.030758</td>\n",
       "    </tr>\n",
       "    <tr>\n",
       "      <th>delinq.2yrs_(7, 13]</th>\n",
       "      <td>-0.035961</td>\n",
       "      <td>-0.003772</td>\n",
       "      <td>-0.006431</td>\n",
       "      <td>1.000000</td>\n",
       "      <td>-0.023083</td>\n",
       "      <td>-0.002989</td>\n",
       "      <td>-0.019941</td>\n",
       "      <td>-0.010059</td>\n",
       "      <td>-0.000479</td>\n",
       "      <td>-0.000362</td>\n",
       "      <td>...</td>\n",
       "      <td>0.020813</td>\n",
       "      <td>-0.000256</td>\n",
       "      <td>-0.006895</td>\n",
       "      <td>0.009114</td>\n",
       "      <td>-0.003411</td>\n",
       "      <td>-0.004693</td>\n",
       "      <td>-0.003870</td>\n",
       "      <td>-0.004653</td>\n",
       "      <td>-0.007381</td>\n",
       "      <td>-0.006650</td>\n",
       "    </tr>\n",
       "    <tr>\n",
       "      <th>dti</th>\n",
       "      <td>-0.090901</td>\n",
       "      <td>0.060101</td>\n",
       "      <td>-0.015395</td>\n",
       "      <td>-0.023083</td>\n",
       "      <td>1.000000</td>\n",
       "      <td>0.149055</td>\n",
       "      <td>-0.152879</td>\n",
       "      <td>0.021701</td>\n",
       "      <td>0.015358</td>\n",
       "      <td>0.005377</td>\n",
       "      <td>...</td>\n",
       "      <td>0.012392</td>\n",
       "      <td>-0.021449</td>\n",
       "      <td>0.084476</td>\n",
       "      <td>0.179149</td>\n",
       "      <td>-0.035325</td>\n",
       "      <td>-0.092788</td>\n",
       "      <td>-0.077719</td>\n",
       "      <td>-0.069245</td>\n",
       "      <td>0.188748</td>\n",
       "      <td>0.337109</td>\n",
       "    </tr>\n",
       "    <tr>\n",
       "      <th>fico_(650, 700]</th>\n",
       "      <td>-0.166671</td>\n",
       "      <td>-0.152263</td>\n",
       "      <td>0.185857</td>\n",
       "      <td>-0.002989</td>\n",
       "      <td>0.149055</td>\n",
       "      <td>1.000000</td>\n",
       "      <td>-0.951944</td>\n",
       "      <td>0.074376</td>\n",
       "      <td>0.016331</td>\n",
       "      <td>0.013824</td>\n",
       "      <td>...</td>\n",
       "      <td>0.118512</td>\n",
       "      <td>0.017103</td>\n",
       "      <td>-0.011724</td>\n",
       "      <td>0.112512</td>\n",
       "      <td>0.006967</td>\n",
       "      <td>-0.063292</td>\n",
       "      <td>-0.025418</td>\n",
       "      <td>-0.049841</td>\n",
       "      <td>0.005974</td>\n",
       "      <td>0.377729</td>\n",
       "    </tr>\n",
       "    <tr>\n",
       "      <th>fico_(700, 850]</th>\n",
       "      <td>0.263134</td>\n",
       "      <td>0.176086</td>\n",
       "      <td>-0.201630</td>\n",
       "      <td>-0.019941</td>\n",
       "      <td>-0.152879</td>\n",
       "      <td>-0.951944</td>\n",
       "      <td>1.000000</td>\n",
       "      <td>-0.085060</td>\n",
       "      <td>-0.030467</td>\n",
       "      <td>-0.023027</td>\n",
       "      <td>...</td>\n",
       "      <td>-0.121784</td>\n",
       "      <td>-0.016281</td>\n",
       "      <td>0.008804</td>\n",
       "      <td>-0.117517</td>\n",
       "      <td>-0.008874</td>\n",
       "      <td>0.062144</td>\n",
       "      <td>0.033846</td>\n",
       "      <td>0.057129</td>\n",
       "      <td>0.000480</td>\n",
       "      <td>-0.409996</td>\n",
       "    </tr>\n",
       "    <tr>\n",
       "      <th>inq.last.6mths_(0, 9]</th>\n",
       "      <td>-0.191642</td>\n",
       "      <td>-0.037310</td>\n",
       "      <td>0.018087</td>\n",
       "      <td>-0.010059</td>\n",
       "      <td>0.021701</td>\n",
       "      <td>0.074376</td>\n",
       "      <td>-0.085060</td>\n",
       "      <td>1.000000</td>\n",
       "      <td>-0.033855</td>\n",
       "      <td>-0.025588</td>\n",
       "      <td>...</td>\n",
       "      <td>0.031080</td>\n",
       "      <td>-0.018092</td>\n",
       "      <td>-0.036969</td>\n",
       "      <td>-0.022870</td>\n",
       "      <td>0.011075</td>\n",
       "      <td>0.038912</td>\n",
       "      <td>0.011521</td>\n",
       "      <td>0.026232</td>\n",
       "      <td>0.003117</td>\n",
       "      <td>-0.014666</td>\n",
       "    </tr>\n",
       "    <tr>\n",
       "      <th>inq.last.6mths_(18, 27]</th>\n",
       "      <td>-0.054943</td>\n",
       "      <td>-0.013954</td>\n",
       "      <td>-0.009826</td>\n",
       "      <td>-0.000479</td>\n",
       "      <td>0.015358</td>\n",
       "      <td>0.016331</td>\n",
       "      <td>-0.030467</td>\n",
       "      <td>-0.033855</td>\n",
       "      <td>1.000000</td>\n",
       "      <td>-0.000553</td>\n",
       "      <td>...</td>\n",
       "      <td>-0.006720</td>\n",
       "      <td>-0.000391</td>\n",
       "      <td>0.000887</td>\n",
       "      <td>-0.006998</td>\n",
       "      <td>-0.005212</td>\n",
       "      <td>-0.007170</td>\n",
       "      <td>0.012601</td>\n",
       "      <td>0.008605</td>\n",
       "      <td>-0.001531</td>\n",
       "      <td>0.000866</td>\n",
       "    </tr>\n",
       "    <tr>\n",
       "      <th>inq.last.6mths_(27, 36]</th>\n",
       "      <td>-0.041526</td>\n",
       "      <td>-0.020460</td>\n",
       "      <td>-0.007427</td>\n",
       "      <td>-0.000362</td>\n",
       "      <td>0.005377</td>\n",
       "      <td>0.013824</td>\n",
       "      <td>-0.023027</td>\n",
       "      <td>-0.025588</td>\n",
       "      <td>-0.000553</td>\n",
       "      <td>1.000000</td>\n",
       "      <td>...</td>\n",
       "      <td>0.016755</td>\n",
       "      <td>-0.000295</td>\n",
       "      <td>0.007146</td>\n",
       "      <td>0.003606</td>\n",
       "      <td>-0.003939</td>\n",
       "      <td>-0.005419</td>\n",
       "      <td>-0.004469</td>\n",
       "      <td>-0.005373</td>\n",
       "      <td>-0.003975</td>\n",
       "      <td>0.000230</td>\n",
       "    </tr>\n",
       "    <tr>\n",
       "      <th>inq.last.6mths_(9, 18]</th>\n",
       "      <td>-0.189946</td>\n",
       "      <td>-0.024445</td>\n",
       "      <td>0.008144</td>\n",
       "      <td>0.062004</td>\n",
       "      <td>0.002280</td>\n",
       "      <td>0.032958</td>\n",
       "      <td>-0.064488</td>\n",
       "      <td>-0.117043</td>\n",
       "      <td>-0.002528</td>\n",
       "      <td>-0.001911</td>\n",
       "      <td>...</td>\n",
       "      <td>0.034526</td>\n",
       "      <td>0.076611</td>\n",
       "      <td>-0.009779</td>\n",
       "      <td>-0.014390</td>\n",
       "      <td>0.012292</td>\n",
       "      <td>0.020688</td>\n",
       "      <td>0.001150</td>\n",
       "      <td>0.002914</td>\n",
       "      <td>-0.002913</td>\n",
       "      <td>0.009177</td>\n",
       "    </tr>\n",
       "    <tr>\n",
       "      <th>installment</th>\n",
       "      <td>0.058770</td>\n",
       "      <td>0.183297</td>\n",
       "      <td>-0.000454</td>\n",
       "      <td>-0.002268</td>\n",
       "      <td>0.050202</td>\n",
       "      <td>-0.064820</td>\n",
       "      <td>0.087607</td>\n",
       "      <td>-0.002174</td>\n",
       "      <td>-0.011323</td>\n",
       "      <td>-0.016284</td>\n",
       "      <td>...</td>\n",
       "      <td>-0.031184</td>\n",
       "      <td>-0.000008</td>\n",
       "      <td>0.000774</td>\n",
       "      <td>0.161658</td>\n",
       "      <td>-0.094510</td>\n",
       "      <td>0.023024</td>\n",
       "      <td>-0.079836</td>\n",
       "      <td>0.145654</td>\n",
       "      <td>0.233625</td>\n",
       "      <td>0.081356</td>\n",
       "    </tr>\n",
       "    <tr>\n",
       "      <th>int.rate_(0.1, 0.15]</th>\n",
       "      <td>0.019089</td>\n",
       "      <td>-0.068504</td>\n",
       "      <td>0.057573</td>\n",
       "      <td>0.001550</td>\n",
       "      <td>0.092958</td>\n",
       "      <td>0.165846</td>\n",
       "      <td>-0.152439</td>\n",
       "      <td>0.036272</td>\n",
       "      <td>0.013005</td>\n",
       "      <td>0.015858</td>\n",
       "      <td>...</td>\n",
       "      <td>0.052777</td>\n",
       "      <td>-0.003707</td>\n",
       "      <td>0.020526</td>\n",
       "      <td>0.094071</td>\n",
       "      <td>-0.004774</td>\n",
       "      <td>-0.028414</td>\n",
       "      <td>-0.027680</td>\n",
       "      <td>-0.075760</td>\n",
       "      <td>0.018368</td>\n",
       "      <td>0.173665</td>\n",
       "    </tr>\n",
       "    <tr>\n",
       "      <th>int.rate_(0.15, 0.2]</th>\n",
       "      <td>-0.223390</td>\n",
       "      <td>-0.052685</td>\n",
       "      <td>0.070844</td>\n",
       "      <td>0.009564</td>\n",
       "      <td>0.115039</td>\n",
       "      <td>0.294184</td>\n",
       "      <td>-0.340546</td>\n",
       "      <td>0.062484</td>\n",
       "      <td>-0.000070</td>\n",
       "      <td>-0.008376</td>\n",
       "      <td>...</td>\n",
       "      <td>0.044403</td>\n",
       "      <td>0.014673</td>\n",
       "      <td>-0.045252</td>\n",
       "      <td>0.037538</td>\n",
       "      <td>-0.011710</td>\n",
       "      <td>-0.023341</td>\n",
       "      <td>-0.035404</td>\n",
       "      <td>0.156141</td>\n",
       "      <td>0.050289</td>\n",
       "      <td>0.245835</td>\n",
       "    </tr>\n",
       "    <tr>\n",
       "      <th>int.rate_(0.2, 0.25]</th>\n",
       "      <td>-0.062799</td>\n",
       "      <td>-0.011783</td>\n",
       "      <td>0.029811</td>\n",
       "      <td>-0.001102</td>\n",
       "      <td>-0.009212</td>\n",
       "      <td>0.066868</td>\n",
       "      <td>-0.063375</td>\n",
       "      <td>0.015231</td>\n",
       "      <td>-0.001684</td>\n",
       "      <td>-0.001273</td>\n",
       "      <td>...</td>\n",
       "      <td>0.013292</td>\n",
       "      <td>-0.000900</td>\n",
       "      <td>-0.014307</td>\n",
       "      <td>-0.014650</td>\n",
       "      <td>-0.002944</td>\n",
       "      <td>0.003874</td>\n",
       "      <td>0.002515</td>\n",
       "      <td>0.079467</td>\n",
       "      <td>0.050635</td>\n",
       "      <td>0.018588</td>\n",
       "    </tr>\n",
       "    <tr>\n",
       "      <th>log.annual.inc</th>\n",
       "      <td>0.034906</td>\n",
       "      <td>0.336896</td>\n",
       "      <td>0.023743</td>\n",
       "      <td>0.015508</td>\n",
       "      <td>-0.054065</td>\n",
       "      <td>-0.058306</td>\n",
       "      <td>0.077660</td>\n",
       "      <td>0.021504</td>\n",
       "      <td>-0.003407</td>\n",
       "      <td>-0.020484</td>\n",
       "      <td>...</td>\n",
       "      <td>0.013459</td>\n",
       "      <td>0.008369</td>\n",
       "      <td>0.072942</td>\n",
       "      <td>-0.026214</td>\n",
       "      <td>-0.119799</td>\n",
       "      <td>0.116375</td>\n",
       "      <td>-0.031020</td>\n",
       "      <td>0.091540</td>\n",
       "      <td>0.372140</td>\n",
       "      <td>0.054881</td>\n",
       "    </tr>\n",
       "    <tr>\n",
       "      <th>pub.rec_(0, 3]</th>\n",
       "      <td>-0.047703</td>\n",
       "      <td>0.078939</td>\n",
       "      <td>0.000058</td>\n",
       "      <td>0.020813</td>\n",
       "      <td>0.012392</td>\n",
       "      <td>0.118512</td>\n",
       "      <td>-0.121784</td>\n",
       "      <td>0.031080</td>\n",
       "      <td>-0.006720</td>\n",
       "      <td>0.016755</td>\n",
       "      <td>...</td>\n",
       "      <td>1.000000</td>\n",
       "      <td>-0.003591</td>\n",
       "      <td>0.006080</td>\n",
       "      <td>0.038853</td>\n",
       "      <td>-0.011876</td>\n",
       "      <td>0.002559</td>\n",
       "      <td>-0.024400</td>\n",
       "      <td>-0.003624</td>\n",
       "      <td>-0.030004</td>\n",
       "      <td>0.071258</td>\n",
       "    </tr>\n",
       "    <tr>\n",
       "      <th>pub.rec_(3, 5]</th>\n",
       "      <td>-0.011123</td>\n",
       "      <td>0.004681</td>\n",
       "      <td>-0.005251</td>\n",
       "      <td>-0.000256</td>\n",
       "      <td>-0.021449</td>\n",
       "      <td>0.017103</td>\n",
       "      <td>-0.016281</td>\n",
       "      <td>-0.018092</td>\n",
       "      <td>-0.000391</td>\n",
       "      <td>-0.000295</td>\n",
       "      <td>...</td>\n",
       "      <td>-0.003591</td>\n",
       "      <td>1.000000</td>\n",
       "      <td>0.015734</td>\n",
       "      <td>-0.012125</td>\n",
       "      <td>-0.002785</td>\n",
       "      <td>-0.003831</td>\n",
       "      <td>0.031468</td>\n",
       "      <td>-0.003799</td>\n",
       "      <td>-0.005699</td>\n",
       "      <td>0.002142</td>\n",
       "    </tr>\n",
       "    <tr>\n",
       "      <th>purpose_credit_card</th>\n",
       "      <td>0.003216</td>\n",
       "      <td>0.046220</td>\n",
       "      <td>-0.011710</td>\n",
       "      <td>-0.006895</td>\n",
       "      <td>0.084476</td>\n",
       "      <td>-0.011724</td>\n",
       "      <td>0.008804</td>\n",
       "      <td>-0.036969</td>\n",
       "      <td>0.000887</td>\n",
       "      <td>0.007146</td>\n",
       "      <td>...</td>\n",
       "      <td>0.006080</td>\n",
       "      <td>0.015734</td>\n",
       "      <td>1.000000</td>\n",
       "      <td>-0.326850</td>\n",
       "      <td>-0.075076</td>\n",
       "      <td>-0.103279</td>\n",
       "      <td>-0.085176</td>\n",
       "      <td>-0.102397</td>\n",
       "      <td>0.072316</td>\n",
       "      <td>0.091321</td>\n",
       "    </tr>\n",
       "    <tr>\n",
       "      <th>purpose_debt_consolidation</th>\n",
       "      <td>0.020193</td>\n",
       "      <td>-0.009318</td>\n",
       "      <td>-0.001632</td>\n",
       "      <td>0.009114</td>\n",
       "      <td>0.179149</td>\n",
       "      <td>0.112512</td>\n",
       "      <td>-0.117517</td>\n",
       "      <td>-0.022870</td>\n",
       "      <td>-0.006998</td>\n",
       "      <td>0.003606</td>\n",
       "      <td>...</td>\n",
       "      <td>0.038853</td>\n",
       "      <td>-0.012125</td>\n",
       "      <td>-0.326850</td>\n",
       "      <td>1.000000</td>\n",
       "      <td>-0.161698</td>\n",
       "      <td>-0.222441</td>\n",
       "      <td>-0.183451</td>\n",
       "      <td>-0.220542</td>\n",
       "      <td>0.005785</td>\n",
       "      <td>0.211869</td>\n",
       "    </tr>\n",
       "    <tr>\n",
       "      <th>purpose_educational</th>\n",
       "      <td>-0.031346</td>\n",
       "      <td>-0.042621</td>\n",
       "      <td>0.007000</td>\n",
       "      <td>-0.003411</td>\n",
       "      <td>-0.035325</td>\n",
       "      <td>0.006967</td>\n",
       "      <td>-0.008874</td>\n",
       "      <td>0.011075</td>\n",
       "      <td>-0.005212</td>\n",
       "      <td>-0.003939</td>\n",
       "      <td>...</td>\n",
       "      <td>-0.011876</td>\n",
       "      <td>-0.002785</td>\n",
       "      <td>-0.075076</td>\n",
       "      <td>-0.161698</td>\n",
       "      <td>1.000000</td>\n",
       "      <td>-0.051094</td>\n",
       "      <td>-0.042138</td>\n",
       "      <td>-0.050658</td>\n",
       "      <td>-0.034743</td>\n",
       "      <td>-0.053128</td>\n",
       "    </tr>\n",
       "    <tr>\n",
       "      <th>purpose_home_improvement</th>\n",
       "      <td>0.006036</td>\n",
       "      <td>0.068087</td>\n",
       "      <td>-0.009658</td>\n",
       "      <td>-0.004693</td>\n",
       "      <td>-0.092788</td>\n",
       "      <td>-0.063292</td>\n",
       "      <td>0.062144</td>\n",
       "      <td>0.038912</td>\n",
       "      <td>-0.007170</td>\n",
       "      <td>-0.005419</td>\n",
       "      <td>...</td>\n",
       "      <td>0.002559</td>\n",
       "      <td>-0.003831</td>\n",
       "      <td>-0.103279</td>\n",
       "      <td>-0.222441</td>\n",
       "      <td>-0.051094</td>\n",
       "      <td>1.000000</td>\n",
       "      <td>-0.057967</td>\n",
       "      <td>-0.069687</td>\n",
       "      <td>0.003258</td>\n",
       "      <td>-0.114449</td>\n",
       "    </tr>\n",
       "    <tr>\n",
       "      <th>purpose_major_purchase</th>\n",
       "      <td>0.024281</td>\n",
       "      <td>-0.020561</td>\n",
       "      <td>-0.003061</td>\n",
       "      <td>-0.003870</td>\n",
       "      <td>-0.077719</td>\n",
       "      <td>-0.025418</td>\n",
       "      <td>0.033846</td>\n",
       "      <td>0.011521</td>\n",
       "      <td>0.012601</td>\n",
       "      <td>-0.004469</td>\n",
       "      <td>...</td>\n",
       "      <td>-0.024400</td>\n",
       "      <td>0.031468</td>\n",
       "      <td>-0.085176</td>\n",
       "      <td>-0.183451</td>\n",
       "      <td>-0.042138</td>\n",
       "      <td>-0.057967</td>\n",
       "      <td>1.000000</td>\n",
       "      <td>-0.057472</td>\n",
       "      <td>-0.062395</td>\n",
       "      <td>-0.108079</td>\n",
       "    </tr>\n",
       "    <tr>\n",
       "      <th>purpose_small_business</th>\n",
       "      <td>-0.003511</td>\n",
       "      <td>0.034883</td>\n",
       "      <td>0.001073</td>\n",
       "      <td>-0.004653</td>\n",
       "      <td>-0.069245</td>\n",
       "      <td>-0.049841</td>\n",
       "      <td>0.057129</td>\n",
       "      <td>0.026232</td>\n",
       "      <td>0.008605</td>\n",
       "      <td>-0.005373</td>\n",
       "      <td>...</td>\n",
       "      <td>-0.003624</td>\n",
       "      <td>-0.003799</td>\n",
       "      <td>-0.102397</td>\n",
       "      <td>-0.220542</td>\n",
       "      <td>-0.050658</td>\n",
       "      <td>-0.069687</td>\n",
       "      <td>-0.057472</td>\n",
       "      <td>1.000000</td>\n",
       "      <td>0.083069</td>\n",
       "      <td>-0.060962</td>\n",
       "    </tr>\n",
       "    <tr>\n",
       "      <th>revol.bal</th>\n",
       "      <td>-0.187518</td>\n",
       "      <td>0.229344</td>\n",
       "      <td>-0.025277</td>\n",
       "      <td>-0.007381</td>\n",
       "      <td>0.188748</td>\n",
       "      <td>0.005974</td>\n",
       "      <td>0.000480</td>\n",
       "      <td>0.003117</td>\n",
       "      <td>-0.001531</td>\n",
       "      <td>-0.003975</td>\n",
       "      <td>...</td>\n",
       "      <td>-0.030004</td>\n",
       "      <td>-0.005699</td>\n",
       "      <td>0.072316</td>\n",
       "      <td>0.005785</td>\n",
       "      <td>-0.034743</td>\n",
       "      <td>0.003258</td>\n",
       "      <td>-0.062395</td>\n",
       "      <td>0.083069</td>\n",
       "      <td>1.000000</td>\n",
       "      <td>0.203779</td>\n",
       "    </tr>\n",
       "    <tr>\n",
       "      <th>revol.util</th>\n",
       "      <td>-0.104095</td>\n",
       "      <td>-0.024239</td>\n",
       "      <td>-0.030758</td>\n",
       "      <td>-0.006650</td>\n",
       "      <td>0.337109</td>\n",
       "      <td>0.377729</td>\n",
       "      <td>-0.409996</td>\n",
       "      <td>-0.014666</td>\n",
       "      <td>0.000866</td>\n",
       "      <td>0.000230</td>\n",
       "      <td>...</td>\n",
       "      <td>0.071258</td>\n",
       "      <td>0.002142</td>\n",
       "      <td>0.091321</td>\n",
       "      <td>0.211869</td>\n",
       "      <td>-0.053128</td>\n",
       "      <td>-0.114449</td>\n",
       "      <td>-0.108079</td>\n",
       "      <td>-0.060962</td>\n",
       "      <td>0.203779</td>\n",
       "      <td>1.000000</td>\n",
       "    </tr>\n",
       "  </tbody>\n",
       "</table>\n",
       "<p>26 rows × 26 columns</p>\n",
       "</div>"
      ],
      "text/plain": [
       "                            credit.policy  days.with.cr.line  \\\n",
       "credit.policy                    1.000000           0.099026   \n",
       "days.with.cr.line                0.099026           1.000000   \n",
       "delinq.2yrs_(0, 7]              -0.053486           0.085357   \n",
       "delinq.2yrs_(7, 13]             -0.035961          -0.003772   \n",
       "dti                             -0.090901           0.060101   \n",
       "fico_(650, 700]                 -0.166671          -0.152263   \n",
       "fico_(700, 850]                  0.263134           0.176086   \n",
       "inq.last.6mths_(0, 9]           -0.191642          -0.037310   \n",
       "inq.last.6mths_(18, 27]         -0.054943          -0.013954   \n",
       "inq.last.6mths_(27, 36]         -0.041526          -0.020460   \n",
       "inq.last.6mths_(9, 18]          -0.189946          -0.024445   \n",
       "installment                      0.058770           0.183297   \n",
       "int.rate_(0.1, 0.15]             0.019089          -0.068504   \n",
       "int.rate_(0.15, 0.2]            -0.223390          -0.052685   \n",
       "int.rate_(0.2, 0.25]            -0.062799          -0.011783   \n",
       "log.annual.inc                   0.034906           0.336896   \n",
       "pub.rec_(0, 3]                  -0.047703           0.078939   \n",
       "pub.rec_(3, 5]                  -0.011123           0.004681   \n",
       "purpose_credit_card              0.003216           0.046220   \n",
       "purpose_debt_consolidation       0.020193          -0.009318   \n",
       "purpose_educational             -0.031346          -0.042621   \n",
       "purpose_home_improvement         0.006036           0.068087   \n",
       "purpose_major_purchase           0.024281          -0.020561   \n",
       "purpose_small_business          -0.003511           0.034883   \n",
       "revol.bal                       -0.187518           0.229344   \n",
       "revol.util                      -0.104095          -0.024239   \n",
       "\n",
       "                            delinq.2yrs_(0, 7]  delinq.2yrs_(7, 13]       dti  \\\n",
       "credit.policy                        -0.053486            -0.035961 -0.090901   \n",
       "days.with.cr.line                     0.085357            -0.003772  0.060101   \n",
       "delinq.2yrs_(0, 7]                    1.000000            -0.006431 -0.015395   \n",
       "delinq.2yrs_(7, 13]                  -0.006431             1.000000 -0.023083   \n",
       "dti                                  -0.015395            -0.023083  1.000000   \n",
       "fico_(650, 700]                       0.185857            -0.002989  0.149055   \n",
       "fico_(700, 850]                      -0.201630            -0.019941 -0.152879   \n",
       "inq.last.6mths_(0, 9]                 0.018087            -0.010059  0.021701   \n",
       "inq.last.6mths_(18, 27]              -0.009826            -0.000479  0.015358   \n",
       "inq.last.6mths_(27, 36]              -0.007427            -0.000362  0.005377   \n",
       "inq.last.6mths_(9, 18]                0.008144             0.062004  0.002280   \n",
       "installment                          -0.000454            -0.002268  0.050202   \n",
       "int.rate_(0.1, 0.15]                  0.057573             0.001550  0.092958   \n",
       "int.rate_(0.15, 0.2]                  0.070844             0.009564  0.115039   \n",
       "int.rate_(0.2, 0.25]                  0.029811            -0.001102 -0.009212   \n",
       "log.annual.inc                        0.023743             0.015508 -0.054065   \n",
       "pub.rec_(0, 3]                        0.000058             0.020813  0.012392   \n",
       "pub.rec_(3, 5]                       -0.005251            -0.000256 -0.021449   \n",
       "purpose_credit_card                  -0.011710            -0.006895  0.084476   \n",
       "purpose_debt_consolidation           -0.001632             0.009114  0.179149   \n",
       "purpose_educational                   0.007000            -0.003411 -0.035325   \n",
       "purpose_home_improvement             -0.009658            -0.004693 -0.092788   \n",
       "purpose_major_purchase               -0.003061            -0.003870 -0.077719   \n",
       "purpose_small_business                0.001073            -0.004653 -0.069245   \n",
       "revol.bal                            -0.025277            -0.007381  0.188748   \n",
       "revol.util                           -0.030758            -0.006650  0.337109   \n",
       "\n",
       "                            fico_(650, 700]  fico_(700, 850]  \\\n",
       "credit.policy                     -0.166671         0.263134   \n",
       "days.with.cr.line                 -0.152263         0.176086   \n",
       "delinq.2yrs_(0, 7]                 0.185857        -0.201630   \n",
       "delinq.2yrs_(7, 13]               -0.002989        -0.019941   \n",
       "dti                                0.149055        -0.152879   \n",
       "fico_(650, 700]                    1.000000        -0.951944   \n",
       "fico_(700, 850]                   -0.951944         1.000000   \n",
       "inq.last.6mths_(0, 9]              0.074376        -0.085060   \n",
       "inq.last.6mths_(18, 27]            0.016331        -0.030467   \n",
       "inq.last.6mths_(27, 36]            0.013824        -0.023027   \n",
       "inq.last.6mths_(9, 18]             0.032958        -0.064488   \n",
       "installment                       -0.064820         0.087607   \n",
       "int.rate_(0.1, 0.15]               0.165846        -0.152439   \n",
       "int.rate_(0.15, 0.2]               0.294184        -0.340546   \n",
       "int.rate_(0.2, 0.25]               0.066868        -0.063375   \n",
       "log.annual.inc                    -0.058306         0.077660   \n",
       "pub.rec_(0, 3]                     0.118512        -0.121784   \n",
       "pub.rec_(3, 5]                     0.017103        -0.016281   \n",
       "purpose_credit_card               -0.011724         0.008804   \n",
       "purpose_debt_consolidation         0.112512        -0.117517   \n",
       "purpose_educational                0.006967        -0.008874   \n",
       "purpose_home_improvement          -0.063292         0.062144   \n",
       "purpose_major_purchase            -0.025418         0.033846   \n",
       "purpose_small_business            -0.049841         0.057129   \n",
       "revol.bal                          0.005974         0.000480   \n",
       "revol.util                         0.377729        -0.409996   \n",
       "\n",
       "                            inq.last.6mths_(0, 9]  inq.last.6mths_(18, 27]  \\\n",
       "credit.policy                           -0.191642                -0.054943   \n",
       "days.with.cr.line                       -0.037310                -0.013954   \n",
       "delinq.2yrs_(0, 7]                       0.018087                -0.009826   \n",
       "delinq.2yrs_(7, 13]                     -0.010059                -0.000479   \n",
       "dti                                      0.021701                 0.015358   \n",
       "fico_(650, 700]                          0.074376                 0.016331   \n",
       "fico_(700, 850]                         -0.085060                -0.030467   \n",
       "inq.last.6mths_(0, 9]                    1.000000                -0.033855   \n",
       "inq.last.6mths_(18, 27]                 -0.033855                 1.000000   \n",
       "inq.last.6mths_(27, 36]                 -0.025588                -0.000553   \n",
       "inq.last.6mths_(9, 18]                  -0.117043                -0.002528   \n",
       "installment                             -0.002174                -0.011323   \n",
       "int.rate_(0.1, 0.15]                     0.036272                 0.013005   \n",
       "int.rate_(0.15, 0.2]                     0.062484                -0.000070   \n",
       "int.rate_(0.2, 0.25]                     0.015231                -0.001684   \n",
       "log.annual.inc                           0.021504                -0.003407   \n",
       "pub.rec_(0, 3]                           0.031080                -0.006720   \n",
       "pub.rec_(3, 5]                          -0.018092                -0.000391   \n",
       "purpose_credit_card                     -0.036969                 0.000887   \n",
       "purpose_debt_consolidation              -0.022870                -0.006998   \n",
       "purpose_educational                      0.011075                -0.005212   \n",
       "purpose_home_improvement                 0.038912                -0.007170   \n",
       "purpose_major_purchase                   0.011521                 0.012601   \n",
       "purpose_small_business                   0.026232                 0.008605   \n",
       "revol.bal                                0.003117                -0.001531   \n",
       "revol.util                              -0.014666                 0.000866   \n",
       "\n",
       "                            inq.last.6mths_(27, 36]     ...      \\\n",
       "credit.policy                             -0.041526     ...       \n",
       "days.with.cr.line                         -0.020460     ...       \n",
       "delinq.2yrs_(0, 7]                        -0.007427     ...       \n",
       "delinq.2yrs_(7, 13]                       -0.000362     ...       \n",
       "dti                                        0.005377     ...       \n",
       "fico_(650, 700]                            0.013824     ...       \n",
       "fico_(700, 850]                           -0.023027     ...       \n",
       "inq.last.6mths_(0, 9]                     -0.025588     ...       \n",
       "inq.last.6mths_(18, 27]                   -0.000553     ...       \n",
       "inq.last.6mths_(27, 36]                    1.000000     ...       \n",
       "inq.last.6mths_(9, 18]                    -0.001911     ...       \n",
       "installment                               -0.016284     ...       \n",
       "int.rate_(0.1, 0.15]                       0.015858     ...       \n",
       "int.rate_(0.15, 0.2]                      -0.008376     ...       \n",
       "int.rate_(0.2, 0.25]                      -0.001273     ...       \n",
       "log.annual.inc                            -0.020484     ...       \n",
       "pub.rec_(0, 3]                             0.016755     ...       \n",
       "pub.rec_(3, 5]                            -0.000295     ...       \n",
       "purpose_credit_card                        0.007146     ...       \n",
       "purpose_debt_consolidation                 0.003606     ...       \n",
       "purpose_educational                       -0.003939     ...       \n",
       "purpose_home_improvement                  -0.005419     ...       \n",
       "purpose_major_purchase                    -0.004469     ...       \n",
       "purpose_small_business                    -0.005373     ...       \n",
       "revol.bal                                 -0.003975     ...       \n",
       "revol.util                                 0.000230     ...       \n",
       "\n",
       "                            pub.rec_(0, 3]  pub.rec_(3, 5]  \\\n",
       "credit.policy                    -0.047703       -0.011123   \n",
       "days.with.cr.line                 0.078939        0.004681   \n",
       "delinq.2yrs_(0, 7]                0.000058       -0.005251   \n",
       "delinq.2yrs_(7, 13]               0.020813       -0.000256   \n",
       "dti                               0.012392       -0.021449   \n",
       "fico_(650, 700]                   0.118512        0.017103   \n",
       "fico_(700, 850]                  -0.121784       -0.016281   \n",
       "inq.last.6mths_(0, 9]             0.031080       -0.018092   \n",
       "inq.last.6mths_(18, 27]          -0.006720       -0.000391   \n",
       "inq.last.6mths_(27, 36]           0.016755       -0.000295   \n",
       "inq.last.6mths_(9, 18]            0.034526        0.076611   \n",
       "installment                      -0.031184       -0.000008   \n",
       "int.rate_(0.1, 0.15]              0.052777       -0.003707   \n",
       "int.rate_(0.15, 0.2]              0.044403        0.014673   \n",
       "int.rate_(0.2, 0.25]              0.013292       -0.000900   \n",
       "log.annual.inc                    0.013459        0.008369   \n",
       "pub.rec_(0, 3]                    1.000000       -0.003591   \n",
       "pub.rec_(3, 5]                   -0.003591        1.000000   \n",
       "purpose_credit_card               0.006080        0.015734   \n",
       "purpose_debt_consolidation        0.038853       -0.012125   \n",
       "purpose_educational              -0.011876       -0.002785   \n",
       "purpose_home_improvement          0.002559       -0.003831   \n",
       "purpose_major_purchase           -0.024400        0.031468   \n",
       "purpose_small_business           -0.003624       -0.003799   \n",
       "revol.bal                        -0.030004       -0.005699   \n",
       "revol.util                        0.071258        0.002142   \n",
       "\n",
       "                            purpose_credit_card  purpose_debt_consolidation  \\\n",
       "credit.policy                          0.003216                    0.020193   \n",
       "days.with.cr.line                      0.046220                   -0.009318   \n",
       "delinq.2yrs_(0, 7]                    -0.011710                   -0.001632   \n",
       "delinq.2yrs_(7, 13]                   -0.006895                    0.009114   \n",
       "dti                                    0.084476                    0.179149   \n",
       "fico_(650, 700]                       -0.011724                    0.112512   \n",
       "fico_(700, 850]                        0.008804                   -0.117517   \n",
       "inq.last.6mths_(0, 9]                 -0.036969                   -0.022870   \n",
       "inq.last.6mths_(18, 27]                0.000887                   -0.006998   \n",
       "inq.last.6mths_(27, 36]                0.007146                    0.003606   \n",
       "inq.last.6mths_(9, 18]                -0.009779                   -0.014390   \n",
       "installment                            0.000774                    0.161658   \n",
       "int.rate_(0.1, 0.15]                   0.020526                    0.094071   \n",
       "int.rate_(0.15, 0.2]                  -0.045252                    0.037538   \n",
       "int.rate_(0.2, 0.25]                  -0.014307                   -0.014650   \n",
       "log.annual.inc                         0.072942                   -0.026214   \n",
       "pub.rec_(0, 3]                         0.006080                    0.038853   \n",
       "pub.rec_(3, 5]                         0.015734                   -0.012125   \n",
       "purpose_credit_card                    1.000000                   -0.326850   \n",
       "purpose_debt_consolidation            -0.326850                    1.000000   \n",
       "purpose_educational                   -0.075076                   -0.161698   \n",
       "purpose_home_improvement              -0.103279                   -0.222441   \n",
       "purpose_major_purchase                -0.085176                   -0.183451   \n",
       "purpose_small_business                -0.102397                   -0.220542   \n",
       "revol.bal                              0.072316                    0.005785   \n",
       "revol.util                             0.091321                    0.211869   \n",
       "\n",
       "                            purpose_educational  purpose_home_improvement  \\\n",
       "credit.policy                         -0.031346                  0.006036   \n",
       "days.with.cr.line                     -0.042621                  0.068087   \n",
       "delinq.2yrs_(0, 7]                     0.007000                 -0.009658   \n",
       "delinq.2yrs_(7, 13]                   -0.003411                 -0.004693   \n",
       "dti                                   -0.035325                 -0.092788   \n",
       "fico_(650, 700]                        0.006967                 -0.063292   \n",
       "fico_(700, 850]                       -0.008874                  0.062144   \n",
       "inq.last.6mths_(0, 9]                  0.011075                  0.038912   \n",
       "inq.last.6mths_(18, 27]               -0.005212                 -0.007170   \n",
       "inq.last.6mths_(27, 36]               -0.003939                 -0.005419   \n",
       "inq.last.6mths_(9, 18]                 0.012292                  0.020688   \n",
       "installment                           -0.094510                  0.023024   \n",
       "int.rate_(0.1, 0.15]                  -0.004774                 -0.028414   \n",
       "int.rate_(0.15, 0.2]                  -0.011710                 -0.023341   \n",
       "int.rate_(0.2, 0.25]                  -0.002944                  0.003874   \n",
       "log.annual.inc                        -0.119799                  0.116375   \n",
       "pub.rec_(0, 3]                        -0.011876                  0.002559   \n",
       "pub.rec_(3, 5]                        -0.002785                 -0.003831   \n",
       "purpose_credit_card                   -0.075076                 -0.103279   \n",
       "purpose_debt_consolidation            -0.161698                 -0.222441   \n",
       "purpose_educational                    1.000000                 -0.051094   \n",
       "purpose_home_improvement              -0.051094                  1.000000   \n",
       "purpose_major_purchase                -0.042138                 -0.057967   \n",
       "purpose_small_business                -0.050658                 -0.069687   \n",
       "revol.bal                             -0.034743                  0.003258   \n",
       "revol.util                            -0.053128                 -0.114449   \n",
       "\n",
       "                            purpose_major_purchase  purpose_small_business  \\\n",
       "credit.policy                             0.024281               -0.003511   \n",
       "days.with.cr.line                        -0.020561                0.034883   \n",
       "delinq.2yrs_(0, 7]                       -0.003061                0.001073   \n",
       "delinq.2yrs_(7, 13]                      -0.003870               -0.004653   \n",
       "dti                                      -0.077719               -0.069245   \n",
       "fico_(650, 700]                          -0.025418               -0.049841   \n",
       "fico_(700, 850]                           0.033846                0.057129   \n",
       "inq.last.6mths_(0, 9]                     0.011521                0.026232   \n",
       "inq.last.6mths_(18, 27]                   0.012601                0.008605   \n",
       "inq.last.6mths_(27, 36]                  -0.004469               -0.005373   \n",
       "inq.last.6mths_(9, 18]                    0.001150                0.002914   \n",
       "installment                              -0.079836                0.145654   \n",
       "int.rate_(0.1, 0.15]                     -0.027680               -0.075760   \n",
       "int.rate_(0.15, 0.2]                     -0.035404                0.156141   \n",
       "int.rate_(0.2, 0.25]                      0.002515                0.079467   \n",
       "log.annual.inc                           -0.031020                0.091540   \n",
       "pub.rec_(0, 3]                           -0.024400               -0.003624   \n",
       "pub.rec_(3, 5]                            0.031468               -0.003799   \n",
       "purpose_credit_card                      -0.085176               -0.102397   \n",
       "purpose_debt_consolidation               -0.183451               -0.220542   \n",
       "purpose_educational                      -0.042138               -0.050658   \n",
       "purpose_home_improvement                 -0.057967               -0.069687   \n",
       "purpose_major_purchase                    1.000000               -0.057472   \n",
       "purpose_small_business                   -0.057472                1.000000   \n",
       "revol.bal                                -0.062395                0.083069   \n",
       "revol.util                               -0.108079               -0.060962   \n",
       "\n",
       "                            revol.bal  revol.util  \n",
       "credit.policy               -0.187518   -0.104095  \n",
       "days.with.cr.line            0.229344   -0.024239  \n",
       "delinq.2yrs_(0, 7]          -0.025277   -0.030758  \n",
       "delinq.2yrs_(7, 13]         -0.007381   -0.006650  \n",
       "dti                          0.188748    0.337109  \n",
       "fico_(650, 700]              0.005974    0.377729  \n",
       "fico_(700, 850]              0.000480   -0.409996  \n",
       "inq.last.6mths_(0, 9]        0.003117   -0.014666  \n",
       "inq.last.6mths_(18, 27]     -0.001531    0.000866  \n",
       "inq.last.6mths_(27, 36]     -0.003975    0.000230  \n",
       "inq.last.6mths_(9, 18]      -0.002913    0.009177  \n",
       "installment                  0.233625    0.081356  \n",
       "int.rate_(0.1, 0.15]         0.018368    0.173665  \n",
       "int.rate_(0.15, 0.2]         0.050289    0.245835  \n",
       "int.rate_(0.2, 0.25]         0.050635    0.018588  \n",
       "log.annual.inc               0.372140    0.054881  \n",
       "pub.rec_(0, 3]              -0.030004    0.071258  \n",
       "pub.rec_(3, 5]              -0.005699    0.002142  \n",
       "purpose_credit_card          0.072316    0.091321  \n",
       "purpose_debt_consolidation   0.005785    0.211869  \n",
       "purpose_educational         -0.034743   -0.053128  \n",
       "purpose_home_improvement     0.003258   -0.114449  \n",
       "purpose_major_purchase      -0.062395   -0.108079  \n",
       "purpose_small_business       0.083069   -0.060962  \n",
       "revol.bal                    1.000000    0.203779  \n",
       "revol.util                   0.203779    1.000000  \n",
       "\n",
       "[26 rows x 26 columns]"
      ]
     },
     "execution_count": 508,
     "metadata": {},
     "output_type": "execute_result"
    }
   ],
   "source": [
    "loan_complete2.corr()"
   ]
  },
  {
   "cell_type": "markdown",
   "metadata": {},
   "source": [
    "#### Variance Inflation Factor to check Multicolinearity"
   ]
  },
  {
   "cell_type": "code",
   "execution_count": 509,
   "metadata": {},
   "outputs": [],
   "source": [
    "from statsmodels.stats.outliers_influence import variance_inflation_factor"
   ]
  },
  {
   "cell_type": "code",
   "execution_count": 510,
   "metadata": {},
   "outputs": [],
   "source": [
    "vif = pd.DataFrame()\n",
    "vif[\"VIF Factor\"] = [variance_inflation_factor(X_train.values, i) for i in range(X_train.shape[1])]\n",
    "vif[\"features\"] = X_train.columns"
   ]
  },
  {
   "cell_type": "code",
   "execution_count": 511,
   "metadata": {},
   "outputs": [
    {
     "data": {
      "text/html": [
       "<div>\n",
       "<style scoped>\n",
       "    .dataframe tbody tr th:only-of-type {\n",
       "        vertical-align: middle;\n",
       "    }\n",
       "\n",
       "    .dataframe tbody tr th {\n",
       "        vertical-align: top;\n",
       "    }\n",
       "\n",
       "    .dataframe thead th {\n",
       "        text-align: right;\n",
       "    }\n",
       "</style>\n",
       "<table border=\"1\" class=\"dataframe\">\n",
       "  <thead>\n",
       "    <tr style=\"text-align: right;\">\n",
       "      <th></th>\n",
       "      <th>VIF Factor</th>\n",
       "      <th>features</th>\n",
       "    </tr>\n",
       "  </thead>\n",
       "  <tbody>\n",
       "    <tr>\n",
       "      <th>0</th>\n",
       "      <td>7.2</td>\n",
       "      <td>credit.policy</td>\n",
       "    </tr>\n",
       "    <tr>\n",
       "      <th>1</th>\n",
       "      <td>5.2</td>\n",
       "      <td>days.with.cr.line</td>\n",
       "    </tr>\n",
       "    <tr>\n",
       "      <th>2</th>\n",
       "      <td>1.2</td>\n",
       "      <td>delinq.2yrs_(0, 7]</td>\n",
       "    </tr>\n",
       "    <tr>\n",
       "      <th>3</th>\n",
       "      <td>1.0</td>\n",
       "      <td>delinq.2yrs_(7, 13]</td>\n",
       "    </tr>\n",
       "    <tr>\n",
       "      <th>4</th>\n",
       "      <td>5.1</td>\n",
       "      <td>dti</td>\n",
       "    </tr>\n",
       "    <tr>\n",
       "      <th>5</th>\n",
       "      <td>18.8</td>\n",
       "      <td>fico_(650, 700]</td>\n",
       "    </tr>\n",
       "    <tr>\n",
       "      <th>6</th>\n",
       "      <td>28.1</td>\n",
       "      <td>fico_(700, 850]</td>\n",
       "    </tr>\n",
       "    <tr>\n",
       "      <th>7</th>\n",
       "      <td>2.8</td>\n",
       "      <td>inq.last.6mths_(0, 9]</td>\n",
       "    </tr>\n",
       "    <tr>\n",
       "      <th>8</th>\n",
       "      <td>1.0</td>\n",
       "      <td>inq.last.6mths_(18, 27]</td>\n",
       "    </tr>\n",
       "    <tr>\n",
       "      <th>9</th>\n",
       "      <td>1.0</td>\n",
       "      <td>inq.last.6mths_(27, 36]</td>\n",
       "    </tr>\n",
       "    <tr>\n",
       "      <th>10</th>\n",
       "      <td>1.1</td>\n",
       "      <td>inq.last.6mths_(9, 18]</td>\n",
       "    </tr>\n",
       "    <tr>\n",
       "      <th>11</th>\n",
       "      <td>4.7</td>\n",
       "      <td>installment</td>\n",
       "    </tr>\n",
       "    <tr>\n",
       "      <th>12</th>\n",
       "      <td>5.6</td>\n",
       "      <td>int.rate_(0.1, 0.15]</td>\n",
       "    </tr>\n",
       "    <tr>\n",
       "      <th>13</th>\n",
       "      <td>2.9</td>\n",
       "      <td>int.rate_(0.15, 0.2]</td>\n",
       "    </tr>\n",
       "    <tr>\n",
       "      <th>14</th>\n",
       "      <td>1.1</td>\n",
       "      <td>int.rate_(0.2, 0.25]</td>\n",
       "    </tr>\n",
       "    <tr>\n",
       "      <th>15</th>\n",
       "      <td>61.0</td>\n",
       "      <td>log.annual.inc</td>\n",
       "    </tr>\n",
       "    <tr>\n",
       "      <th>16</th>\n",
       "      <td>1.1</td>\n",
       "      <td>pub.rec_(0, 3]</td>\n",
       "    </tr>\n",
       "    <tr>\n",
       "      <th>17</th>\n",
       "      <td>1.0</td>\n",
       "      <td>pub.rec_(3, 5]</td>\n",
       "    </tr>\n",
       "    <tr>\n",
       "      <th>18</th>\n",
       "      <td>1.6</td>\n",
       "      <td>purpose_credit_card</td>\n",
       "    </tr>\n",
       "    <tr>\n",
       "      <th>19</th>\n",
       "      <td>3.0</td>\n",
       "      <td>purpose_debt_consolidation</td>\n",
       "    </tr>\n",
       "    <tr>\n",
       "      <th>20</th>\n",
       "      <td>1.1</td>\n",
       "      <td>purpose_educational</td>\n",
       "    </tr>\n",
       "    <tr>\n",
       "      <th>21</th>\n",
       "      <td>1.3</td>\n",
       "      <td>purpose_home_improvement</td>\n",
       "    </tr>\n",
       "    <tr>\n",
       "      <th>22</th>\n",
       "      <td>1.2</td>\n",
       "      <td>purpose_major_purchase</td>\n",
       "    </tr>\n",
       "    <tr>\n",
       "      <th>23</th>\n",
       "      <td>1.4</td>\n",
       "      <td>purpose_small_business</td>\n",
       "    </tr>\n",
       "    <tr>\n",
       "      <th>24</th>\n",
       "      <td>1.6</td>\n",
       "      <td>revol.bal</td>\n",
       "    </tr>\n",
       "    <tr>\n",
       "      <th>25</th>\n",
       "      <td>5.6</td>\n",
       "      <td>revol.util</td>\n",
       "    </tr>\n",
       "  </tbody>\n",
       "</table>\n",
       "</div>"
      ],
      "text/plain": [
       "    VIF Factor                    features\n",
       "0          7.2               credit.policy\n",
       "1          5.2           days.with.cr.line\n",
       "2          1.2          delinq.2yrs_(0, 7]\n",
       "3          1.0         delinq.2yrs_(7, 13]\n",
       "4          5.1                         dti\n",
       "5         18.8             fico_(650, 700]\n",
       "6         28.1             fico_(700, 850]\n",
       "7          2.8       inq.last.6mths_(0, 9]\n",
       "8          1.0     inq.last.6mths_(18, 27]\n",
       "9          1.0     inq.last.6mths_(27, 36]\n",
       "10         1.1      inq.last.6mths_(9, 18]\n",
       "11         4.7                 installment\n",
       "12         5.6        int.rate_(0.1, 0.15]\n",
       "13         2.9        int.rate_(0.15, 0.2]\n",
       "14         1.1        int.rate_(0.2, 0.25]\n",
       "15        61.0              log.annual.inc\n",
       "16         1.1              pub.rec_(0, 3]\n",
       "17         1.0              pub.rec_(3, 5]\n",
       "18         1.6         purpose_credit_card\n",
       "19         3.0  purpose_debt_consolidation\n",
       "20         1.1         purpose_educational\n",
       "21         1.3    purpose_home_improvement\n",
       "22         1.2      purpose_major_purchase\n",
       "23         1.4      purpose_small_business\n",
       "24         1.6                   revol.bal\n",
       "25         5.6                  revol.util"
      ]
     },
     "execution_count": 511,
     "metadata": {},
     "output_type": "execute_result"
    }
   ],
   "source": [
    "vif.round(1)"
   ]
  }
 ],
 "metadata": {
  "kernelspec": {
   "display_name": "Python 3",
   "language": "python",
   "name": "python3"
  },
  "language_info": {
   "codemirror_mode": {
    "name": "ipython",
    "version": 3
   },
   "file_extension": ".py",
   "mimetype": "text/x-python",
   "name": "python",
   "nbconvert_exporter": "python",
   "pygments_lexer": "ipython3",
   "version": "3.6.4"
  }
 },
 "nbformat": 4,
 "nbformat_minor": 2
}

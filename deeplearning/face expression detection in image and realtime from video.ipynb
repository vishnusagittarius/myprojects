{
 "cells": [
  {
   "cell_type": "code",
   "execution_count": null,
   "metadata": {},
   "outputs": [],
   "source": []
  },
  {
   "cell_type": "markdown",
   "metadata": {},
   "source": []
  },
  {
   "cell_type": "code",
   "execution_count": null,
   "metadata": {},
   "outputs": [],
   "source": [
    "\n",
    "import numpy as np\n",
    "import cv2\n",
    "from keras.preprocessing import image\n",
    "from keras.preprocessing.image import load_img"
   ]
  },
  {
   "cell_type": "code",
   "execution_count": null,
   "metadata": {},
   "outputs": [],
   "source": [
    "\n",
    "face_cascade = cv2.CascadeClassifier('haarcascade_frontalface_default.xml')\n"
   ]
  },
  {
   "cell_type": "code",
   "execution_count": null,
   "metadata": {},
   "outputs": [],
   "source": [
    "\n",
    "from keras.models import model_from_json\n",
    "model = model_from_json(open(\"data/facial_expression_model_structure.json\", \"r\").read())\n",
    "model.load_weights('data/facial_expression_model_weights.h5')\n"
   ]
  },
  {
   "cell_type": "code",
   "execution_count": null,
   "metadata": {},
   "outputs": [],
   "source": [
    "emotions = ('angry', 'disgust', 'fear', 'happy', 'sad', 'surprise', 'neutral')\n"
   ]
  },
  {
   "cell_type": "code",
   "execution_count": null,
   "metadata": {},
   "outputs": [],
   "source": [
    "\n",
    "def detect(image_loader):\n",
    "    image_load = cv2.imread(image_loader) \n",
    "    gray = cv2.cvtColor(image_load, cv2.COLOR_BGR2GRAY) \n",
    "    faces = face_cascade.detectMultiScale(gray, 1.3, 5)\n",
    "    pred_list= [] \n",
    "    for (x,y,w,h) in faces:\n",
    "        cv2.rectangle(image_load,(x,y),(x+w,y+h),(255,0,0),2) \n",
    "    \n",
    "        detected_face = image_load[int(y):int(y+h), int(x):int(x+w)] \n",
    "        detected_face = cv2.cvtColor(detected_face, cv2.COLOR_BGR2GRAY) \n",
    "        detected_face = cv2.resize(detected_face, (48, 48)) \n",
    "    \n",
    "        img_pixels = image.img_to_array(detected_face) \n",
    "\n",
    "        img_pixels = np.expand_dims(img_pixels, axis = 0) \n",
    "    \n",
    "        img_pixels /= 255 \n",
    "    \n",
    "        predictions = model.predict(img_pixels) \n",
    "    \n",
    "        \n",
    "        max_index = np.argmax(predictions[0])\n",
    "        \n",
    "        emotion = emotions[max_index] \n",
    "    \n",
    "        percentage = round(predictions[0][max_index]*100, 2) \n",
    "        \n",
    "        pred_list = [emotion,percentage] \n",
    "        \n",
    "        cv2.putText(image_load, emotion, (int(x), int(y)), cv2.FONT_HERSHEY_SIMPLEX, 1, (255,255,255), 2)\n",
    "        \n",
    "    cv2.imshow('image prediction',image_load)\n",
    "    cv2.waitKey(0)      \n",
    "    cv2.destroyAllWindows()\n",
    "    return pred_list \n"
   ]
  },
  {
   "cell_type": "code",
   "execution_count": null,
   "metadata": {},
   "outputs": [],
   "source": [
    "\n",
    "preds = detect('jlo.jpg')\n",
    "print(preds)"
   ]
  },
  {
   "cell_type": "code",
   "execution_count": null,
   "metadata": {},
   "outputs": [],
   "source": []
  },
  {
   "cell_type": "code",
   "execution_count": null,
   "metadata": {},
   "outputs": [],
   "source": []
  },
  {
   "cell_type": "code",
   "execution_count": null,
   "metadata": {},
   "outputs": [],
   "source": []
  },
  {
   "cell_type": "code",
   "execution_count": null,
   "metadata": {},
   "outputs": [],
   "source": []
  },
  {
   "cell_type": "code",
   "execution_count": 1,
   "metadata": {},
   "outputs": [
    {
     "name": "stderr",
     "output_type": "stream",
     "text": [
      "Using TensorFlow backend.\n"
     ]
    }
   ],
   "source": [
    "\n",
    "import numpy as np\n",
    "import cv2\n",
    "from keras.preprocessing import image\n"
   ]
  },
  {
   "cell_type": "code",
   "execution_count": 2,
   "metadata": {},
   "outputs": [],
   "source": [
    "\n",
    "face_cascade = cv2.CascadeClassifier('haarcascade_frontalface_default.xml')\n"
   ]
  },
  {
   "cell_type": "code",
   "execution_count": 3,
   "metadata": {},
   "outputs": [],
   "source": [
    "\n",
    "from keras.models import model_from_json\n",
    "model = model_from_json(open(\"data/facial_expression_model_structure.json\", \"r\").read())\n",
    "model.load_weights('data/facial_expression_model_weights.h5') \n"
   ]
  },
  {
   "cell_type": "code",
   "execution_count": 4,
   "metadata": {},
   "outputs": [],
   "source": [
    "emotions = ('angry', 'disgust', 'fear', 'happy', 'sad', 'surprise', 'neutral')\n"
   ]
  },
  {
   "cell_type": "code",
   "execution_count": 6,
   "metadata": {},
   "outputs": [],
   "source": [
    "\n",
    "cap = cv2.VideoCapture('gadot_sm.mp4')\n",
    "frame = 0\n",
    "\n",
    "while(True):\n",
    "    \n",
    "    ret, img = cap.read()\n",
    "\n",
    "    img = cv2.resize(img, (640, 360))\n",
    "    img = img[0:308,:] \n",
    "\n",
    "    gray = cv2.cvtColor(img, cv2.COLOR_BGR2GRAY)\n",
    "\n",
    "    faces = face_cascade.detectMultiScale(gray, 1.3, 5) \n",
    "\n",
    "    for (x,y,w,h) in faces:\n",
    "        if w > 130: \n",
    "            detected_face = img[int(y):int(y+h), int(x):int(x+w)] \n",
    "            detected_face = cv2.cvtColor(detected_face, cv2.COLOR_BGR2GRAY) \n",
    "            detected_face = cv2.resize(detected_face, (48, 48)) \n",
    "\n",
    "            img_pixels = image.img_to_array(detected_face)\n",
    "            img_pixels = np.expand_dims(img_pixels, axis = 0) \n",
    "\n",
    "            img_pixels /= 255 \n",
    "\n",
    "            predictions = model.predict(img_pixels) \n",
    "            max_index = np.argmax(predictions[0])  \n",
    "\n",
    "            overlay = img.copy() \n",
    "            opacity = 0.4 \n",
    "            cv2.rectangle(img,(x+w+10,y-25),(x+w+150,y+115),(64,64,64),cv2.FILLED) \n",
    "            cv2.addWeighted(overlay, opacity, img, 1 - opacity, 0, img) \n",
    "\n",
    "            cv2.line(img,(int((x+x+w)/2),y+15),(x+w,y-20),(255,255,255),1)\n",
    "            cv2.line(img,(x+w,y-20),(x+w+10,y-20),(255,255,255),1)\n",
    "\n",
    "            emotion = \"\" \n",
    "            for i in range(len(predictions[0])): \n",
    "                emotion = \"%s %s%s\" % (emotions[i], round(predictions[0][i]*100, 2), '%')\n",
    "\n",
    "                if i != max_index:\n",
    "                    color = (255,0,0)\n",
    "\n",
    "                color = (255,255,255)\n",
    "\n",
    "                cv2.putText(img, emotion, (int(x+w+15), int(y-12+i*20)), cv2.FONT_HERSHEY_SIMPLEX, 0.5, color, 1)\n",
    "\n",
    "\n",
    "    cv2.imshow('img',img)\n",
    "\n",
    "    frame = frame + 1\n",
    "\n",
    "    if cv2.waitKey(1) & 0xFF == ord('q'): #press q to quit\n",
    "        break\n",
    "\n",
    "\n",
    "cap.release()\n",
    "cv2.destroyAllWindows()\n"
   ]
  },
  {
   "cell_type": "code",
   "execution_count": null,
   "metadata": {},
   "outputs": [],
   "source": []
  }
 ],
 "metadata": {
  "kernelspec": {
   "display_name": "Python 3",
   "language": "python",
   "name": "python3"
  },
  "language_info": {
   "codemirror_mode": {
    "name": "ipython",
    "version": 3
   },
   "file_extension": ".py",
   "mimetype": "text/x-python",
   "name": "python",
   "nbconvert_exporter": "python",
   "pygments_lexer": "ipython3",
   "version": "3.6.4"
  }
 },
 "nbformat": 4,
 "nbformat_minor": 2
}

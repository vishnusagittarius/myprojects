{
 "cells": [
  {
   "cell_type": "code",
   "execution_count": 2,
   "metadata": {},
   "outputs": [],
   "source": [
    "import sys\n",
    "import os\n",
    "\n",
    "from keras.preprocessing.image import ImageDataGenerator\n",
    "from keras.models import Sequential \n",
    "from keras import optimizers\n",
    "\n",
    "from keras.layers import Dropout, Flatten, Dense, Activation\n",
    "\n",
    "from keras.layers.convolutional import Conv2D, MaxPooling2D"
   ]
  },
  {
   "cell_type": "code",
   "execution_count": 3,
   "metadata": {},
   "outputs": [],
   "source": [
    "epochs = 8\n",
    "img_width, img_height = 160, 160\n",
    "\n",
    "batch_size = 32\n",
    "nb_filters1 = 32\n",
    "nb_filters2 = 64\n",
    "\n",
    "conv1_size = 3\n",
    "conv2_size = 2\n",
    "\n",
    "num_classes = 5\n",
    "lr = 0.0004"
   ]
  },
  {
   "cell_type": "code",
   "execution_count": 4,
   "metadata": {},
   "outputs": [],
   "source": [
    "train_data_path = 'training_set'\n",
    "validation_data_path = 'test_set'"
   ]
  },
  {
   "cell_type": "code",
   "execution_count": 6,
   "metadata": {},
   "outputs": [],
   "source": [
    "model = Sequential()\n",
    "\n",
    "model.add(Conv2D(filters=nb_filters1, kernel_size=(conv1_size, conv1_size), padding='same', input_shape=(img_width,img_height,3)\n",
    "                ,activation= 'relu'))\n",
    "model.add(MaxPooling2D(pool_size=(2,2)))\n",
    "\n",
    "model.add(Conv2D(filters=nb_filters2, kernel_size=(conv2_size, conv2_size), padding='same',activation= 'relu'))\n",
    "model.add(MaxPooling2D(pool_size=(2,2)))\n",
    "\n",
    "model.add(Flatten())\n",
    "\n",
    "model.add(Dense(units=256, activation = 'relu'))\n",
    "model.add(Dropout(0.2))\n",
    "\n",
    "model.add(Dense(units=num_classes, activation='softmax'))"
   ]
  },
  {
   "cell_type": "code",
   "execution_count": 9,
   "metadata": {},
   "outputs": [],
   "source": [
    "model.compile(loss='categorical_crossentropy', \n",
    "             optimizer=optimizers.RMSprop(lr=lr),\n",
    "             metrics = ['accuracy'])"
   ]
  },
  {
   "cell_type": "code",
   "execution_count": 11,
   "metadata": {},
   "outputs": [],
   "source": [
    "train_datagen = ImageDataGenerator(\n",
    "           rescale = 1./255,\n",
    "           shear_range=0.2,\n",
    "           zoom_range= 0.2,\n",
    "           horizontal_flip= True)"
   ]
  },
  {
   "cell_type": "code",
   "execution_count": 12,
   "metadata": {},
   "outputs": [],
   "source": [
    "test_datagen = ImageDataGenerator(rescale= 1./255)"
   ]
  },
  {
   "cell_type": "code",
   "execution_count": 15,
   "metadata": {},
   "outputs": [
    {
     "name": "stdout",
     "output_type": "stream",
     "text": [
      "Found 1432 images belonging to 5 classes.\n",
      "Found 115 images belonging to 5 classes.\n"
     ]
    }
   ],
   "source": [
    "train_generator = train_datagen.flow_from_directory(\n",
    "                  train_data_path,\n",
    "                  target_size=(img_height, img_width),\n",
    "                  batch_size=batch_size,\n",
    "                  class_mode='categorical')\n",
    "\n",
    "validation_generator = test_datagen.flow_from_directory(\n",
    "                 validation_data_path,\n",
    "                 target_size=(img_height,img_width),\n",
    "                 batch_size=batch_size,\n",
    "                 class_mode='categorical')"
   ]
  },
  {
   "cell_type": "code",
   "execution_count": 16,
   "metadata": {},
   "outputs": [],
   "source": [
    "samples_per_epoch = 1432\n",
    "validation_steps = 115"
   ]
  },
  {
   "cell_type": "code",
   "execution_count": 17,
   "metadata": {},
   "outputs": [
    {
     "name": "stdout",
     "output_type": "stream",
     "text": [
      "Epoch 1/8\n",
      "44/44 [==============================] - 159s 4s/step - loss: 2.0901 - acc: 0.3253 - val_loss: 1.3386 - val_acc: 0.4867\n",
      "Epoch 2/8\n",
      "44/44 [==============================] - 167s 4s/step - loss: 1.2655 - acc: 0.4555 - val_loss: 1.1891 - val_acc: 0.5486\n",
      "Epoch 3/8\n",
      "44/44 [==============================] - 172s 4s/step - loss: 1.1361 - acc: 0.5291 - val_loss: 1.0544 - val_acc: 0.5740\n",
      "Epoch 4/8\n",
      "44/44 [==============================] - 160s 4s/step - loss: 1.0258 - acc: 0.5845 - val_loss: 1.0423 - val_acc: 0.5313\n",
      "Epoch 5/8\n",
      "44/44 [==============================] - 161s 4s/step - loss: 0.9472 - acc: 0.6236 - val_loss: 0.9772 - val_acc: 0.5917\n",
      "Epoch 6/8\n",
      "44/44 [==============================] - 158s 4s/step - loss: 0.9230 - acc: 0.6499 - val_loss: 1.0162 - val_acc: 0.6261\n",
      "Epoch 7/8\n",
      "44/44 [==============================] - 155s 4s/step - loss: 0.8505 - acc: 0.6638 - val_loss: 0.8903 - val_acc: 0.6509\n",
      "Epoch 8/8\n",
      "44/44 [==============================] - 156s 4s/step - loss: 0.7889 - acc: 0.6920 - val_loss: 0.9257 - val_acc: 0.6866\n"
     ]
    }
   ],
   "source": [
    "model.fit_generator(train_generator,\n",
    "                   epochs=epochs,\n",
    "                   validation_data = validation_generator,\n",
    "                   validation_steps= validation_steps,\n",
    "                   steps_per_epoch = 44)\n",
    "\n",
    "\n",
    "target_dir = './models/'\n",
    "\n",
    "if not os.path.exists(target_dir):\n",
    "    os.mkdir(target_dir)\n",
    "\n",
    "model.save('./models/model_celebs.h5')\n",
    "model.save_weights('./models/weights_celebs.h5')"
   ]
  },
  {
   "cell_type": "code",
   "execution_count": null,
   "metadata": {},
   "outputs": [],
   "source": []
  },
  {
   "cell_type": "markdown",
   "metadata": {},
   "source": [
    "### making predictions\n"
   ]
  },
  {
   "cell_type": "code",
   "execution_count": 18,
   "metadata": {},
   "outputs": [],
   "source": [
    "import os\n",
    "import numpy as np\n",
    "from keras.preprocessing.image import load_img, img_to_array\n",
    "from keras.models import load_model"
   ]
  },
  {
   "cell_type": "code",
   "execution_count": 19,
   "metadata": {},
   "outputs": [],
   "source": [
    "img_width, img_height = 160, 160\n",
    "\n",
    "model_path = './models/model_celebs.h5'\n",
    "model_weights_path = './models/weights_celebs.h5'"
   ]
  },
  {
   "cell_type": "code",
   "execution_count": 20,
   "metadata": {},
   "outputs": [],
   "source": [
    "model = load_model(model_path)\n",
    "model.load_weights(model_weights_path)"
   ]
  },
  {
   "cell_type": "code",
   "execution_count": 38,
   "metadata": {},
   "outputs": [],
   "source": [
    "def predict(file):\n",
    "    x = load_img(file, target_size=(img_width,img_height))\n",
    "    x = img_to_array(x)\n",
    "    x = np.expand_dims(x, axis=0)\n",
    "    \n",
    "    array = model.predict(x)\n",
    "    result = array[0]\n",
    "    answer = np.argmax(result)\n",
    "    \n",
    "    if answer == 0:\n",
    "        print('Label is: Angelina Jolie')\n",
    "    if answer == 1:\n",
    "        print('Label is: Barack Obama')\n",
    "    if answer == 2:\n",
    "        print('Label is: Donald Trump')\n",
    "    if answer == 3:\n",
    "        print('Label is: Gal Gadot' )\n",
    "    if answer == 4: #Thanks for watching\n",
    "        print('Label is: Rihanna' )\n",
    "    \n",
    "    return answer"
   ]
  },
  {
   "cell_type": "code",
   "execution_count": 39,
   "metadata": {},
   "outputs": [
    {
     "name": "stdout",
     "output_type": "stream",
     "text": [
      "Label is: Rihanna\n"
     ]
    }
   ],
   "source": [
    "my_pred = predict('riri.jpg')"
   ]
  },
  {
   "cell_type": "code",
   "execution_count": null,
   "metadata": {},
   "outputs": [],
   "source": []
  }
 ],
 "metadata": {
  "kernelspec": {
   "display_name": "Python 3",
   "language": "python",
   "name": "python3"
  },
  "language_info": {
   "codemirror_mode": {
    "name": "ipython",
    "version": 3
   },
   "file_extension": ".py",
   "mimetype": "text/x-python",
   "name": "python",
   "nbconvert_exporter": "python",
   "pygments_lexer": "ipython3",
   "version": "3.6.4"
  }
 },
 "nbformat": 4,
 "nbformat_minor": 2
}

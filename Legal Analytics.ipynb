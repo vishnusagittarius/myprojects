{
 "cells": [
  {
   "cell_type": "code",
   "execution_count": 404,
   "metadata": {},
   "outputs": [],
   "source": [
    "import os\n",
    "import pandas as pd\n",
    "import numpy as np\n",
    "import matplotlib.pyplot as plt\n",
    "from sklearn.model_selection import train_test_split\n",
    "import statsmodels.api as sm\n",
    "import seaborn as sns\n",
    "import random \n",
    "from sklearn import metrics"
   ]
  },
  {
   "cell_type": "code",
   "execution_count": 405,
   "metadata": {},
   "outputs": [],
   "source": [
    "data=pd.read_csv(\"SCDB_2018_01_caseCentered_Docket.csv\",encoding=\"unicode_escape\")"
   ]
  },
  {
   "cell_type": "code",
   "execution_count": 406,
   "metadata": {},
   "outputs": [],
   "source": [
    "data=data[data.columns.difference(['dateRearg','adminAction','petitionerState','caseOriginState','caseSourceState','respondentState','adminActionState','authorityDecision2','lawMinor'])]"
   ]
  },
  {
   "cell_type": "code",
   "execution_count": 407,
   "metadata": {},
   "outputs": [],
   "source": [
    "data1=data.dropna()"
   ]
  },
  {
   "cell_type": "code",
   "execution_count": 408,
   "metadata": {},
   "outputs": [
    {
     "data": {
      "text/plain": [
       "(10336, 44)"
      ]
     },
     "execution_count": 408,
     "metadata": {},
     "output_type": "execute_result"
    }
   ],
   "source": [
    "data.shape"
   ]
  },
  {
   "cell_type": "code",
   "execution_count": 409,
   "metadata": {},
   "outputs": [
    {
     "data": {
      "text/plain": [
       "(6509, 44)"
      ]
     },
     "execution_count": 409,
     "metadata": {},
     "output_type": "execute_result"
    }
   ],
   "source": [
    "data1.shape"
   ]
  },
  {
   "cell_type": "code",
   "execution_count": 410,
   "metadata": {},
   "outputs": [],
   "source": [
    "#data1_0=data1[data1.apply(lambda x: x['partyWinning'] == 0,axis='columns')]\n",
    "#data1_1=data1[data1.apply(lambda x: x['partyWinning'] == 1,axis='columns')]\n"
   ]
  },
  {
   "cell_type": "code",
   "execution_count": 411,
   "metadata": {},
   "outputs": [
    {
     "data": {
      "text/plain": [
       "1.0    4085\n",
       "0.0    2424\n",
       "Name: partyWinning, dtype: int64"
      ]
     },
     "execution_count": 411,
     "metadata": {},
     "output_type": "execute_result"
    }
   ],
   "source": [
    "data1[\"partyWinning\"].value_counts()"
   ]
  },
  {
   "cell_type": "code",
   "execution_count": 412,
   "metadata": {},
   "outputs": [],
   "source": [
    "data1.to_csv(\"docket_with_date.csv\")"
   ]
  },
  {
   "cell_type": "code",
   "execution_count": 413,
   "metadata": {},
   "outputs": [],
   "source": [
    "data2=data1[data1.columns.difference(['chief','caseDisposition','dateArgument','caseName','caseId','docketId','caseIssuesId','voteId','usCite','sctCite','dateDecision','lexisCite','ledCite','docket'])]"
   ]
  },
  {
   "cell_type": "code",
   "execution_count": 414,
   "metadata": {},
   "outputs": [
    {
     "data": {
      "text/plain": [
       "authorityDecision1            7\n",
       "caseDispositionUnusual        2\n",
       "caseOrigin                  128\n",
       "caseSource                   84\n",
       "certReason                   13\n",
       "decisionDirection             3\n",
       "decisionDirectionDissent      2\n",
       "decisionType                  2\n",
       "declarationUncon              4\n",
       "issue                       248\n",
       "issueArea                    14\n",
       "jurisdiction                  5\n",
       "lawSupp                     170\n",
       "lawType                       8\n",
       "lcDisagreement                2\n",
       "lcDisposition                12\n",
       "lcDispositionDirection        3\n",
       "majOpinAssigner              22\n",
       "majOpinWriter                36\n",
       "majVotes                      6\n",
       "minVotes                      5\n",
       "naturalCourt                 31\n",
       "partyWinning                  2\n",
       "petitioner                  251\n",
       "precedentAlteration           2\n",
       "respondent                  239\n",
       "splitVote                     1\n",
       "term                         66\n",
       "threeJudgeFdc                 2\n",
       "voteUnclear                   2\n",
       "dtype: int64"
      ]
     },
     "execution_count": 414,
     "metadata": {},
     "output_type": "execute_result"
    }
   ],
   "source": [
    "data2.nunique()"
   ]
  },
  {
   "cell_type": "code",
   "execution_count": 415,
   "metadata": {},
   "outputs": [],
   "source": [
    "col_names=data2.columns"
   ]
  },
  {
   "cell_type": "markdown",
   "metadata": {},
   "source": [
    "col_names2=[]\n",
    "for col in col_names:\n",
    "\n",
    "    if col=='chief':\n",
    " \n",
    "             data2[col] = data2[col].astype('category',copy=False)\n",
    "             col_names2.append(col)\n",
    "        \n",
    "    else :\n",
    "        \n",
    "        continue\n",
    "    "
   ]
  },
  {
   "cell_type": "markdown",
   "metadata": {},
   "source": [
    "   for col in col_names2:\n",
    "                data2[col] = data2[col].cat.codes  "
   ]
  },
  {
   "cell_type": "code",
   "execution_count": 416,
   "metadata": {},
   "outputs": [
    {
     "name": "stdout",
     "output_type": "stream",
     "text": [
      "<class 'pandas.core.frame.DataFrame'>\n",
      "Int64Index: 6509 entries, 0 to 9799\n",
      "Data columns (total 30 columns):\n",
      "authorityDecision1          6509 non-null float64\n",
      "caseDispositionUnusual      6509 non-null float64\n",
      "caseOrigin                  6509 non-null float64\n",
      "caseSource                  6509 non-null float64\n",
      "certReason                  6509 non-null float64\n",
      "decisionDirection           6509 non-null float64\n",
      "decisionDirectionDissent    6509 non-null float64\n",
      "decisionType                6509 non-null int64\n",
      "declarationUncon            6509 non-null float64\n",
      "issue                       6509 non-null float64\n",
      "issueArea                   6509 non-null float64\n",
      "jurisdiction                6509 non-null int64\n",
      "lawSupp                     6509 non-null float64\n",
      "lawType                     6509 non-null float64\n",
      "lcDisagreement              6509 non-null float64\n",
      "lcDisposition               6509 non-null float64\n",
      "lcDispositionDirection      6509 non-null float64\n",
      "majOpinAssigner             6509 non-null float64\n",
      "majOpinWriter               6509 non-null float64\n",
      "majVotes                    6509 non-null int64\n",
      "minVotes                    6509 non-null int64\n",
      "naturalCourt                6509 non-null int64\n",
      "partyWinning                6509 non-null float64\n",
      "petitioner                  6509 non-null float64\n",
      "precedentAlteration         6509 non-null float64\n",
      "respondent                  6509 non-null float64\n",
      "splitVote                   6509 non-null int64\n",
      "term                        6509 non-null int64\n",
      "threeJudgeFdc               6509 non-null float64\n",
      "voteUnclear                 6509 non-null float64\n",
      "dtypes: float64(23), int64(7)\n",
      "memory usage: 1.5 MB\n"
     ]
    }
   ],
   "source": [
    "data2.info()"
   ]
  },
  {
   "cell_type": "code",
   "execution_count": 417,
   "metadata": {},
   "outputs": [],
   "source": [
    "Target=data2['partyWinning']\n",
    "X=data2[data2.columns.difference(['partyWinning'])]\n",
    "#data1.groupby(['chief'])['partyWinning'].value_counts()"
   ]
  },
  {
   "cell_type": "code",
   "execution_count": 418,
   "metadata": {},
   "outputs": [],
   "source": [
    "#data1.groupby(['jurisdiction'])['lawType'].value_counts()"
   ]
  },
  {
   "cell_type": "markdown",
   "metadata": {},
   "source": [
    "# CART variable selection"
   ]
  },
  {
   "cell_type": "code",
   "execution_count": 419,
   "metadata": {},
   "outputs": [],
   "source": [
    "from   sklearn.model_selection import  cross_val_score\n",
    "from   sklearn.tree            import  DecisionTreeClassifier\n",
    "import matplotlib.pyplot       as      plt\n",
    "import numpy                   as      np"
   ]
  },
  {
   "cell_type": "code",
   "execution_count": 420,
   "metadata": {},
   "outputs": [],
   "source": [
    "clf       = DecisionTreeClassifier(criterion='gini',random_state=0)"
   ]
  },
  {
   "cell_type": "code",
   "execution_count": 421,
   "metadata": {},
   "outputs": [],
   "source": [
    "fit       = clf.fit(X,Target)"
   ]
  },
  {
   "cell_type": "code",
   "execution_count": 422,
   "metadata": {},
   "outputs": [
    {
     "data": {
      "image/png": "[encoded data removed]",
      "text/plain": [
       "<matplotlib.figure.Figure at 0x1c86421e780>"
      ]
     },
     "metadata": {},
     "output_type": "display_data"
    }
   ],
   "source": [
    "features    = data2.columns\n",
    "importances = fit.feature_importances_\n",
    "indices     = np.argsort(importances)\n",
    "plt.title('Feature Importances')\n",
    "plt.barh(range(len(indices)), importances[indices], color='b', align='center')\n",
    "plt.yticks(range(len(indices)), [features[i] for i in indices])\n",
    "plt.xlabel('Relative Importance')\n",
    "plt.show()"
   ]
  },
  {
   "cell_type": "markdown",
   "metadata": {},
   "source": [
    "### It can be  seen that the most important feature is Case disposition followed by decision direction,term and natural court"
   ]
  },
  {
   "cell_type": "markdown",
   "metadata": {},
   "source": [
    "# Random Forest"
   ]
  },
  {
   "cell_type": "code",
   "execution_count": 423,
   "metadata": {},
   "outputs": [
    {
     "name": "stdout",
     "output_type": "stream",
     "text": [
      "authorityDecision1 = 0.00668649351463\n",
      "caseDispositionUnusual = 0.00292332818442\n",
      "caseOrigin = 0.0210743735708\n",
      "caseSource = 0.0161572449323\n",
      "certReason = 0.0133523405771\n",
      "decisionDirection = 0.203871385735\n",
      "decisionDirectionDissent = 0.0145530485959\n",
      "decisionType = 0.00102453426243\n",
      "declarationUncon = 0.0152999732381\n",
      "issue = 0.0463354635791\n",
      "issueArea = 0.00582081971207\n",
      "jurisdiction = 0.000483627252982\n",
      "lawSupp = 0.0172546776282\n",
      "lawType = 0.00375214564307\n",
      "lcDisagreement = 0.00483592689858\n",
      "lcDisposition = 0.0124150614455\n",
      "lcDispositionDirection = 0.434806057484\n",
      "majOpinAssigner = 0.0123023845001\n",
      "majOpinWriter = 0.0224628609815\n",
      "majVotes = 0.00806438241491\n",
      "minVotes = 0.0107389796778\n",
      "naturalCourt = 0.00948238492733\n",
      "partyWinning = 0.0272129026659\n",
      "petitioner = 0.000975485232149\n",
      "precedentAlteration = 0.061967176144\n",
      "respondent = 0.0\n",
      "splitVote = 0.0252931255672\n",
      "term = 0.000293479024851\n",
      "threeJudgeFdc = 0.000560336610071\n"
     ]
    }
   ],
   "source": [
    "from sklearn.ensemble import RandomForestRegressor\n",
    "rnd_clf = RandomForestRegressor(n_estimators=500, n_jobs=-1, random_state=42)\n",
    "rnd_clf.fit(X,Target)\n",
    "for name, importance in zip(features, rnd_clf.feature_importances_):\n",
    "     print(name, \"=\", importance)"
   ]
  },
  {
   "cell_type": "code",
   "execution_count": 424,
   "metadata": {},
   "outputs": [
    {
     "data": {
      "image/png": "[encoded data removed]",
      "text/plain": [
       "<matplotlib.figure.Figure at 0x1c865c1d6d8>"
      ]
     },
     "metadata": {},
     "output_type": "display_data"
    }
   ],
   "source": [
    "importances = rnd_clf.feature_importances_\n",
    "indices     = np.argsort(importances)\n",
    "plt.title('Feature Importances')\n",
    "plt.barh(range(len(indices)), importances[indices], color='b', align='center')\n",
    "plt.yticks(range(len(indices)), [features[i] for i in indices])\n",
    "plt.xlabel('Relative Importance')\n",
    "plt.show()"
   ]
  },
  {
   "cell_type": "markdown",
   "metadata": {},
   "source": [
    "### It can be  seen that the most important feature is Case disposition followed by decision direction,respondent,petitioner term and issue"
   ]
  },
  {
   "cell_type": "code",
   "execution_count": 425,
   "metadata": {},
   "outputs": [],
   "source": [
    "y=Target"
   ]
  },
  {
   "cell_type": "markdown",
   "metadata": {},
   "source": [
    "### Spliiting into training and testing datasets"
   ]
  },
  {
   "cell_type": "code",
   "execution_count": 426,
   "metadata": {},
   "outputs": [],
   "source": [
    "X_train, X_test, y_train, y_test = train_test_split(X, y, test_size = 0.3,random_state=50)"
   ]
  },
  {
   "cell_type": "markdown",
   "metadata": {},
   "source": [
    "### Building the model"
   ]
  },
  {
   "cell_type": "code",
   "execution_count": 427,
   "metadata": {},
   "outputs": [],
   "source": [
    "clf = DecisionTreeClassifier(criterion = \"gini\" , \n",
    "                             min_samples_split = 100,\n",
    "                             min_samples_leaf = 10,\n",
    "                             max_depth = 50)"
   ]
  },
  {
   "cell_type": "code",
   "execution_count": 428,
   "metadata": {},
   "outputs": [],
   "source": [
    "clf = clf.fit(X_train, y_train)"
   ]
  },
  {
   "cell_type": "code",
   "execution_count": 429,
   "metadata": {},
   "outputs": [
    {
     "data": {
      "text/plain": [
       "array([ 0.,  1.,  0., ...,  1.,  0.,  0.])"
      ]
     },
     "execution_count": 429,
     "metadata": {},
     "output_type": "execute_result"
    }
   ],
   "source": [
    "pred_y_train = clf.predict(X_train)\n",
    "pred_y_train\n"
   ]
  },
  {
   "cell_type": "code",
   "execution_count": 430,
   "metadata": {},
   "outputs": [
    {
     "data": {
      "text/plain": [
       "array([ 1.,  1.,  0., ...,  1.,  0.,  1.])"
      ]
     },
     "execution_count": 430,
     "metadata": {},
     "output_type": "execute_result"
    }
   ],
   "source": [
    "pred_y_test = clf.predict(X_test)\n",
    "pred_y_test"
   ]
  },
  {
   "cell_type": "code",
   "execution_count": 431,
   "metadata": {},
   "outputs": [
    {
     "data": {
      "text/plain": [
       "0.93855606758832566"
      ]
     },
     "execution_count": 431,
     "metadata": {},
     "output_type": "execute_result"
    }
   ],
   "source": [
    "from sklearn.metrics import accuracy_score\n",
    "score = accuracy_score(y_test, pred_y_test)\n",
    "score"
   ]
  },
  {
   "cell_type": "code",
   "execution_count": 432,
   "metadata": {},
   "outputs": [
    {
     "data": {
      "text/plain": [
       "array([[ 677,   40],\n",
       "       [  80, 1156]])"
      ]
     },
     "execution_count": 432,
     "metadata": {},
     "output_type": "execute_result"
    }
   ],
   "source": [
    "from sklearn.metrics import confusion_matrix\n",
    "confusion_matrix(y_test, pred_y_test)"
   ]
  },
  {
   "cell_type": "code",
   "execution_count": 433,
   "metadata": {},
   "outputs": [
    {
     "data": {
      "text/plain": [
       "array([ 0.,  1.,  0., ...,  1.,  0.,  0.])"
      ]
     },
     "execution_count": 433,
     "metadata": {},
     "output_type": "execute_result"
    }
   ],
   "source": [
    "pred_y_train = clf.predict(X_train )\n",
    "pred_y_train\n"
   ]
  },
  {
   "cell_type": "markdown",
   "metadata": {},
   "source": [
    "### classification accuracy of our model"
   ]
  },
  {
   "cell_type": "code",
   "execution_count": 434,
   "metadata": {},
   "outputs": [
    {
     "data": {
      "text/plain": [
       "0.94490781387181744"
      ]
     },
     "execution_count": 434,
     "metadata": {},
     "output_type": "execute_result"
    }
   ],
   "source": [
    "from sklearn.metrics import accuracy_score\n",
    "from sklearn.metrics import roc_curve\n",
    "from sklearn.metrics import auc\n",
    "score = accuracy_score(y_train, pred_y_train)\n",
    "score"
   ]
  },
  {
   "cell_type": "code",
   "execution_count": 435,
   "metadata": {},
   "outputs": [],
   "source": [
    "y_train_prob = clf.predict_proba(X_train)"
   ]
  },
  {
   "cell_type": "code",
   "execution_count": 436,
   "metadata": {},
   "outputs": [
    {
     "data": {
      "text/plain": [
       "0.98869550627019875"
      ]
     },
     "execution_count": 436,
     "metadata": {},
     "output_type": "execute_result"
    }
   ],
   "source": [
    "fpr, tpr, thresholds = roc_curve(y_train, y_train_prob[:,1])\n",
    "auc(fpr, tpr)\n"
   ]
  },
  {
   "cell_type": "markdown",
   "metadata": {},
   "source": [
    "### Accuracy of the test set"
   ]
  },
  {
   "cell_type": "code",
   "execution_count": 437,
   "metadata": {},
   "outputs": [
    {
     "data": {
      "text/plain": [
       "0.93855606758832566"
      ]
     },
     "execution_count": 437,
     "metadata": {},
     "output_type": "execute_result"
    }
   ],
   "source": [
    "pred_y_test = clf.predict(X_test)\n",
    "score_h = accuracy_score(y_test, pred_y_test)\n",
    "score_h"
   ]
  },
  {
   "cell_type": "code",
   "execution_count": 438,
   "metadata": {},
   "outputs": [
    {
     "data": {
      "text/plain": [
       "0.97258782322965609"
      ]
     },
     "execution_count": 438,
     "metadata": {},
     "output_type": "execute_result"
    }
   ],
   "source": [
    "y_test_prob = clf.predict_proba(X_test)\n",
    "fpr, tpr, thresholds = roc_curve(y_test, y_test_prob[:,1])\n",
    "auc(fpr, tpr)"
   ]
  },
  {
   "cell_type": "markdown",
   "metadata": {},
   "source": [
    "### Cross validation function¶"
   ]
  },
  {
   "cell_type": "code",
   "execution_count": 439,
   "metadata": {},
   "outputs": [
    {
     "data": {
      "text/plain": [
       "0.017509144728920581"
      ]
     },
     "execution_count": 439,
     "metadata": {},
     "output_type": "execute_result"
    }
   ],
   "source": [
    "from sklearn.cross_validation import cross_val_score\n",
    "scores = cross_val_score(clf, X_train , y_train, cv = 10, scoring='roc_auc')\n",
    "\n",
    "scores.std()"
   ]
  },
  {
   "cell_type": "code",
   "execution_count": 440,
   "metadata": {},
   "outputs": [
    {
     "data": {
      "text/plain": [
       "0.96495894262794002"
      ]
     },
     "execution_count": 440,
     "metadata": {},
     "output_type": "execute_result"
    }
   ],
   "source": [
    "scores.mean()"
   ]
  },
  {
   "cell_type": "markdown",
   "metadata": {},
   "source": [
    "#### Tuning the Classifier using GridSearchCV"
   ]
  },
  {
   "cell_type": "code",
   "execution_count": 441,
   "metadata": {},
   "outputs": [],
   "source": [
    "from sklearn.grid_search import GridSearchCV"
   ]
  },
  {
   "cell_type": "code",
   "execution_count": 442,
   "metadata": {},
   "outputs": [],
   "source": [
    "param_dist = {\"criterion\": [\"gini\",\"entropy\"],\n",
    "              \"max_depth\": np.arange(3,10),\n",
    "              }"
   ]
  },
  {
   "cell_type": "code",
   "execution_count": 443,
   "metadata": {},
   "outputs": [],
   "source": [
    "tree_cv  = GridSearchCV(clf, param_dist, cv = 10, \n",
    "                        scoring = 'roc_auc', verbose = 100)\n"
   ]
  },
  {
   "cell_type": "code",
   "execution_count": 444,
   "metadata": {},
   "outputs": [
    {
     "name": "stdout",
     "output_type": "stream",
     "text": [
      "Fitting 10 folds for each of 14 candidates, totalling 140 fits\n",
      "[CV] criterion=gini, max_depth=3 .....................................\n",
      "[CV] ............ criterion=gini, max_depth=3, score=0.685103 -   0.0s\n",
      "[Parallel(n_jobs=1)]: Done   1 out of   1 | elapsed:    0.0s remaining:    0.0s\n",
      "[CV] criterion=gini, max_depth=3 .....................................\n",
      "[CV] ............ criterion=gini, max_depth=3, score=0.690664 -   0.0s\n",
      "[Parallel(n_jobs=1)]: Done   2 out of   2 | elapsed:    0.0s remaining:    0.0s\n",
      "[CV] criterion=gini, max_depth=3 .....................................\n",
      "[CV] ............ criterion=gini, max_depth=3, score=0.604176 -   0.0s\n",
      "[Parallel(n_jobs=1)]: Done   3 out of   3 | elapsed:    0.0s remaining:    0.0s\n",
      "[CV] criterion=gini, max_depth=3 .....................................\n",
      "[CV] ............ criterion=gini, max_depth=3, score=0.693711 -   0.0s\n",
      "[Parallel(n_jobs=1)]: Done   4 out of   4 | elapsed:    0.0s remaining:    0.0s\n",
      "[CV] criterion=gini, max_depth=3 .....................................\n",
      "[CV] ............ criterion=gini, max_depth=3, score=0.703529 -   0.0s\n",
      "[Parallel(n_jobs=1)]: Done   5 out of   5 | elapsed:    0.0s remaining:    0.0s\n",
      "[CV] criterion=gini, max_depth=3 .....................................\n",
      "[CV] ............ criterion=gini, max_depth=3, score=0.643285 -   0.0s\n",
      "[Parallel(n_jobs=1)]: Done   6 out of   6 | elapsed:    0.0s remaining:    0.0s\n",
      "[CV] criterion=gini, max_depth=3 .....................................\n",
      "[CV] ............ criterion=gini, max_depth=3, score=0.650221 -   0.0s\n",
      "[Parallel(n_jobs=1)]: Done   7 out of   7 | elapsed:    0.1s remaining:    0.0s\n",
      "[CV] criterion=gini, max_depth=3 .....................................\n",
      "[CV] ............ criterion=gini, max_depth=3, score=0.703643 -   0.0s\n",
      "[Parallel(n_jobs=1)]: Done   8 out of   8 | elapsed:    0.1s remaining:    0.0s\n",
      "[CV] criterion=gini, max_depth=3 .....................................\n",
      "[CV] ............ criterion=gini, max_depth=3, score=0.686574 -   0.0s\n",
      "[Parallel(n_jobs=1)]: Done   9 out of   9 | elapsed:    0.1s remaining:    0.0s\n",
      "[CV] criterion=gini, max_depth=3 .....................................\n",
      "[CV] ............ criterion=gini, max_depth=3, score=0.668973 -   0.0s\n",
      "[Parallel(n_jobs=1)]: Done  10 out of  10 | elapsed:    0.1s remaining:    0.0s\n",
      "[CV] criterion=gini, max_depth=4 .....................................\n",
      "[CV] ............ criterion=gini, max_depth=4, score=0.846445 -   0.0s\n",
      "[Parallel(n_jobs=1)]: Done  11 out of  11 | elapsed:    0.1s remaining:    0.0s\n",
      "[CV] criterion=gini, max_depth=4 .....................................\n",
      "[CV] ............ criterion=gini, max_depth=4, score=0.835221 -   0.0s\n",
      "[Parallel(n_jobs=1)]: Done  12 out of  12 | elapsed:    0.2s remaining:    0.0s\n",
      "[CV] criterion=gini, max_depth=4 .....................................\n",
      "[CV] ............ criterion=gini, max_depth=4, score=0.719544 -   0.0s\n",
      "[Parallel(n_jobs=1)]: Done  13 out of  13 | elapsed:    0.2s remaining:    0.0s\n",
      "[CV] criterion=gini, max_depth=4 .....................................\n",
      "[CV] ............ criterion=gini, max_depth=4, score=0.825475 -   0.0s\n",
      "[Parallel(n_jobs=1)]: Done  14 out of  14 | elapsed:    0.2s remaining:    0.0s\n",
      "[CV] criterion=gini, max_depth=4 .....................................\n",
      "[CV] ............ criterion=gini, max_depth=4, score=0.871776 -   0.0s\n",
      "[Parallel(n_jobs=1)]: Done  15 out of  15 | elapsed:    0.2s remaining:    0.0s\n",
      "[CV] criterion=gini, max_depth=4 .....................................\n",
      "[CV] ............ criterion=gini, max_depth=4, score=0.862142 -   0.0s\n",
      "[Parallel(n_jobs=1)]: Done  16 out of  16 | elapsed:    0.2s remaining:    0.0s\n",
      "[CV] criterion=gini, max_depth=4 .....................................\n",
      "[CV] ............ criterion=gini, max_depth=4, score=0.828758 -   0.0s\n",
      "[Parallel(n_jobs=1)]: Done  17 out of  17 | elapsed:    0.3s remaining:    0.0s\n",
      "[CV] criterion=gini, max_depth=4 .....................................\n",
      "[CV] ............ criterion=gini, max_depth=4, score=0.854076 -   0.0s\n",
      "[Parallel(n_jobs=1)]: Done  18 out of  18 | elapsed:    0.3s remaining:    0.0s\n",
      "[CV] criterion=gini, max_depth=4 .....................................\n",
      "[CV] ............ criterion=gini, max_depth=4, score=0.810485 -   0.0s\n",
      "[Parallel(n_jobs=1)]: Done  19 out of  19 | elapsed:    0.3s remaining:    0.0s\n",
      "[CV] criterion=gini, max_depth=4 .....................................\n",
      "[CV] ............ criterion=gini, max_depth=4, score=0.859838 -   0.0s\n",
      "[Parallel(n_jobs=1)]: Done  20 out of  20 | elapsed:    0.3s remaining:    0.0s\n",
      "[CV] criterion=gini, max_depth=5 .....................................\n",
      "[CV] ............ criterion=gini, max_depth=5, score=0.967005 -   0.0s\n",
      "[Parallel(n_jobs=1)]: Done  21 out of  21 | elapsed:    0.4s remaining:    0.0s\n",
      "[CV] criterion=gini, max_depth=5 .....................................\n",
      "[CV] ............ criterion=gini, max_depth=5, score=0.861475 -   0.0s\n",
      "[Parallel(n_jobs=1)]: Done  22 out of  22 | elapsed:    0.4s remaining:    0.0s\n",
      "[CV] criterion=gini, max_depth=5 .....................................\n",
      "[CV] ............ criterion=gini, max_depth=5, score=0.795547 -   0.0s\n",
      "[Parallel(n_jobs=1)]: Done  23 out of  23 | elapsed:    0.4s remaining:    0.0s\n",
      "[CV] criterion=gini, max_depth=5 .....................................\n",
      "[CV] ............ criterion=gini, max_depth=5, score=0.884282 -   0.0s\n",
      "[Parallel(n_jobs=1)]: Done  24 out of  24 | elapsed:    0.5s remaining:    0.0s\n",
      "[CV] criterion=gini, max_depth=5 .....................................\n",
      "[CV] ............ criterion=gini, max_depth=5, score=0.963271 -   0.0s\n",
      "[Parallel(n_jobs=1)]: Done  25 out of  25 | elapsed:    0.5s remaining:    0.0s\n",
      "[CV] criterion=gini, max_depth=5 .....................................\n",
      "[CV] ............ criterion=gini, max_depth=5, score=0.896245 -   0.0s\n",
      "[Parallel(n_jobs=1)]: Done  26 out of  26 | elapsed:    0.5s remaining:    0.0s\n",
      "[CV] criterion=gini, max_depth=5 .....................................\n",
      "[CV] ............ criterion=gini, max_depth=5, score=0.963455 -   0.0s\n",
      "[Parallel(n_jobs=1)]: Done  27 out of  27 | elapsed:    0.5s remaining:    0.0s\n",
      "[CV] criterion=gini, max_depth=5 .....................................\n",
      "[CV] ............ criterion=gini, max_depth=5, score=0.969536 -   0.0s\n",
      "[Parallel(n_jobs=1)]: Done  28 out of  28 | elapsed:    0.6s remaining:    0.0s\n",
      "[CV] criterion=gini, max_depth=5 .....................................\n",
      "[CV] ............ criterion=gini, max_depth=5, score=0.854964 -   0.0s\n",
      "[Parallel(n_jobs=1)]: Done  29 out of  29 | elapsed:    0.6s remaining:    0.0s\n",
      "[CV] criterion=gini, max_depth=5 .....................................\n",
      "[CV] ............ criterion=gini, max_depth=5, score=0.979329 -   0.0s\n",
      "[Parallel(n_jobs=1)]: Done  30 out of  30 | elapsed:    0.6s remaining:    0.0s\n",
      "[CV] criterion=gini, max_depth=6 .....................................\n",
      "[CV] ............ criterion=gini, max_depth=6, score=0.961044 -   0.0s\n",
      "[Parallel(n_jobs=1)]: Done  31 out of  31 | elapsed:    0.7s remaining:    0.0s\n",
      "[CV] criterion=gini, max_depth=6 .....................................\n",
      "[CV] ............ criterion=gini, max_depth=6, score=0.961301 -   0.0s\n",
      "[Parallel(n_jobs=1)]: Done  32 out of  32 | elapsed:    0.7s remaining:    0.0s\n",
      "[CV] criterion=gini, max_depth=6 .....................................\n",
      "[CV] ............ criterion=gini, max_depth=6, score=0.869160 -   0.0s\n",
      "[Parallel(n_jobs=1)]: Done  33 out of  33 | elapsed:    0.7s remaining:    0.0s\n",
      "[CV] criterion=gini, max_depth=6 .....................................\n",
      "[CV] ............ criterion=gini, max_depth=6, score=0.972361 -   0.0s\n",
      "[Parallel(n_jobs=1)]: Done  34 out of  34 | elapsed:    0.7s remaining:    0.0s\n",
      "[CV] criterion=gini, max_depth=6 .....................................\n",
      "[CV] ............ criterion=gini, max_depth=6, score=0.971499 -   0.0s\n",
      "[Parallel(n_jobs=1)]: Done  35 out of  35 | elapsed:    0.8s remaining:    0.0s\n",
      "[CV] criterion=gini, max_depth=6 .....................................\n",
      "[CV] ............ criterion=gini, max_depth=6, score=0.970658 -   0.0s\n",
      "[Parallel(n_jobs=1)]: Done  36 out of  36 | elapsed:    0.8s remaining:    0.0s\n",
      "[CV] criterion=gini, max_depth=6 .....................................\n",
      "[CV] ............ criterion=gini, max_depth=6, score=0.964728 -   0.0s\n",
      "[Parallel(n_jobs=1)]: Done  37 out of  37 | elapsed:    0.8s remaining:    0.0s\n",
      "[CV] criterion=gini, max_depth=6 .....................................\n",
      "[CV] ............ criterion=gini, max_depth=6, score=0.971950 -   0.0s\n",
      "[Parallel(n_jobs=1)]: Done  38 out of  38 | elapsed:    0.9s remaining:    0.0s\n",
      "[CV] criterion=gini, max_depth=6 .....................................\n",
      "[CV] ............ criterion=gini, max_depth=6, score=0.964623 -   0.0s\n",
      "[Parallel(n_jobs=1)]: Done  39 out of  39 | elapsed:    0.9s remaining:    0.0s\n",
      "[CV] criterion=gini, max_depth=6 .....................................\n",
      "[CV] ............ criterion=gini, max_depth=6, score=0.984155 -   0.0s\n",
      "[Parallel(n_jobs=1)]: Done  40 out of  40 | elapsed:    0.9s remaining:    0.0s\n",
      "[CV] criterion=gini, max_depth=7 .....................................\n",
      "[CV] ............ criterion=gini, max_depth=7, score=0.959865 -   0.0s\n",
      "[Parallel(n_jobs=1)]: Done  41 out of  41 | elapsed:    1.0s remaining:    0.0s\n",
      "[CV] criterion=gini, max_depth=7 .....................................\n"
     ]
    },
    {
     "name": "stdout",
     "output_type": "stream",
     "text": [
      "[CV] ............ criterion=gini, max_depth=7, score=0.963127 -   0.0s\n",
      "[Parallel(n_jobs=1)]: Done  42 out of  42 | elapsed:    1.0s remaining:    0.0s\n",
      "[CV] criterion=gini, max_depth=7 .....................................\n",
      "[CV] ............ criterion=gini, max_depth=7, score=0.877296 -   0.0s\n",
      "[Parallel(n_jobs=1)]: Done  43 out of  43 | elapsed:    1.0s remaining:    0.0s\n",
      "[CV] criterion=gini, max_depth=7 .....................................\n",
      "[CV] ............ criterion=gini, max_depth=7, score=0.973510 -   0.0s\n",
      "[Parallel(n_jobs=1)]: Done  44 out of  44 | elapsed:    1.1s remaining:    0.0s\n",
      "[CV] criterion=gini, max_depth=7 .....................................\n",
      "[CV] ............ criterion=gini, max_depth=7, score=0.972043 -   0.0s\n",
      "[Parallel(n_jobs=1)]: Done  45 out of  45 | elapsed:    1.1s remaining:    0.0s\n",
      "[CV] criterion=gini, max_depth=7 .....................................\n",
      "[CV] ............ criterion=gini, max_depth=7, score=0.969827 -   0.0s\n",
      "[Parallel(n_jobs=1)]: Done  46 out of  46 | elapsed:    1.2s remaining:    0.0s\n",
      "[CV] criterion=gini, max_depth=7 .....................................\n",
      "[CV] ............ criterion=gini, max_depth=7, score=0.964092 -   0.0s\n",
      "[Parallel(n_jobs=1)]: Done  47 out of  47 | elapsed:    1.2s remaining:    0.0s\n",
      "[CV] criterion=gini, max_depth=7 .....................................\n",
      "[CV] ............ criterion=gini, max_depth=7, score=0.971837 -   0.0s\n",
      "[Parallel(n_jobs=1)]: Done  48 out of  48 | elapsed:    1.3s remaining:    0.0s\n",
      "[CV] criterion=gini, max_depth=7 .....................................\n",
      "[CV] ............ criterion=gini, max_depth=7, score=0.959174 -   0.0s\n",
      "[Parallel(n_jobs=1)]: Done  49 out of  49 | elapsed:    1.3s remaining:    0.0s\n",
      "[CV] criterion=gini, max_depth=7 .....................................\n",
      "[CV] ............ criterion=gini, max_depth=7, score=0.985719 -   0.0s\n",
      "[Parallel(n_jobs=1)]: Done  50 out of  50 | elapsed:    1.4s remaining:    0.0s\n",
      "[CV] criterion=gini, max_depth=8 .....................................\n",
      "[CV] ............ criterion=gini, max_depth=8, score=0.958059 -   0.0s\n",
      "[Parallel(n_jobs=1)]: Done  51 out of  51 | elapsed:    1.4s remaining:    0.0s\n",
      "[CV] criterion=gini, max_depth=8 .....................................\n",
      "[CV] ............ criterion=gini, max_depth=8, score=0.965979 -   0.0s\n",
      "[Parallel(n_jobs=1)]: Done  52 out of  52 | elapsed:    1.5s remaining:    0.0s\n",
      "[CV] criterion=gini, max_depth=8 .....................................\n",
      "[CV] ............ criterion=gini, max_depth=8, score=0.878558 -   0.0s\n",
      "[Parallel(n_jobs=1)]: Done  53 out of  53 | elapsed:    1.5s remaining:    0.0s\n",
      "[CV] criterion=gini, max_depth=8 .....................................\n",
      "[CV] ............ criterion=gini, max_depth=8, score=0.975705 -   0.0s\n",
      "[Parallel(n_jobs=1)]: Done  54 out of  54 | elapsed:    1.5s remaining:    0.0s\n",
      "[CV] criterion=gini, max_depth=8 .....................................\n",
      "[CV] ............ criterion=gini, max_depth=8, score=0.974792 -   0.0s\n",
      "[Parallel(n_jobs=1)]: Done  55 out of  55 | elapsed:    1.6s remaining:    0.0s\n",
      "[CV] criterion=gini, max_depth=8 .....................................\n",
      "[CV] ............ criterion=gini, max_depth=8, score=0.970299 -   0.0s\n",
      "[Parallel(n_jobs=1)]: Done  56 out of  56 | elapsed:    1.6s remaining:    0.0s\n",
      "[CV] criterion=gini, max_depth=8 .....................................\n",
      "[CV] ............ criterion=gini, max_depth=8, score=0.963722 -   0.0s\n",
      "[Parallel(n_jobs=1)]: Done  57 out of  57 | elapsed:    1.6s remaining:    0.0s\n",
      "[CV] criterion=gini, max_depth=8 .....................................\n",
      "[CV] ............ criterion=gini, max_depth=8, score=0.970433 -   0.0s\n",
      "[Parallel(n_jobs=1)]: Done  58 out of  58 | elapsed:    1.7s remaining:    0.0s\n",
      "[CV] criterion=gini, max_depth=8 .....................................\n",
      "[CV] ............ criterion=gini, max_depth=8, score=0.958617 -   0.0s\n",
      "[Parallel(n_jobs=1)]: Done  59 out of  59 | elapsed:    1.7s remaining:    0.0s\n",
      "[CV] criterion=gini, max_depth=8 .....................................\n",
      "[CV] ............ criterion=gini, max_depth=8, score=0.986009 -   0.0s\n",
      "[Parallel(n_jobs=1)]: Done  60 out of  60 | elapsed:    1.8s remaining:    0.0s\n",
      "[CV] criterion=gini, max_depth=9 .....................................\n",
      "[CV] ............ criterion=gini, max_depth=9, score=0.954058 -   0.0s\n",
      "[Parallel(n_jobs=1)]: Done  61 out of  61 | elapsed:    1.8s remaining:    0.0s\n",
      "[CV] criterion=gini, max_depth=9 .....................................\n",
      "[CV] ............ criterion=gini, max_depth=9, score=0.969396 -   0.0s\n",
      "[Parallel(n_jobs=1)]: Done  62 out of  62 | elapsed:    1.8s remaining:    0.0s\n",
      "[CV] criterion=gini, max_depth=9 .....................................\n",
      "[CV] ............ criterion=gini, max_depth=9, score=0.880363 -   0.0s\n",
      "[Parallel(n_jobs=1)]: Done  63 out of  63 | elapsed:    1.9s remaining:    0.0s\n",
      "[CV] criterion=gini, max_depth=9 .....................................\n",
      "[CV] ............ criterion=gini, max_depth=9, score=0.977696 -   0.0s\n",
      "[Parallel(n_jobs=1)]: Done  64 out of  64 | elapsed:    1.9s remaining:    0.0s\n",
      "[CV] criterion=gini, max_depth=9 .....................................\n",
      "[CV] ............ criterion=gini, max_depth=9, score=0.975121 -   0.0s\n",
      "[Parallel(n_jobs=1)]: Done  65 out of  65 | elapsed:    1.9s remaining:    0.0s\n",
      "[CV] criterion=gini, max_depth=9 .....................................\n",
      "[CV] ............ criterion=gini, max_depth=9, score=0.969488 -   0.0s\n",
      "[Parallel(n_jobs=1)]: Done  66 out of  66 | elapsed:    2.0s remaining:    0.0s\n",
      "[CV] criterion=gini, max_depth=9 .....................................\n",
      "[CV] ............ criterion=gini, max_depth=9, score=0.966882 -   0.0s\n",
      "[Parallel(n_jobs=1)]: Done  67 out of  67 | elapsed:    2.0s remaining:    0.0s\n",
      "[CV] criterion=gini, max_depth=9 .....................................\n",
      "[CV] ............ criterion=gini, max_depth=9, score=0.971094 -   0.0s\n",
      "[Parallel(n_jobs=1)]: Done  68 out of  68 | elapsed:    2.1s remaining:    0.0s\n",
      "[CV] criterion=gini, max_depth=9 .....................................\n",
      "[CV] ............ criterion=gini, max_depth=9, score=0.959164 -   0.0s\n",
      "[Parallel(n_jobs=1)]: Done  69 out of  69 | elapsed:    2.1s remaining:    0.0s\n",
      "[CV] criterion=gini, max_depth=9 .....................................\n",
      "[CV] ............ criterion=gini, max_depth=9, score=0.984901 -   0.0s\n",
      "[Parallel(n_jobs=1)]: Done  70 out of  70 | elapsed:    2.1s remaining:    0.0s\n",
      "[CV] criterion=entropy, max_depth=3 ..................................\n",
      "[CV] ......... criterion=entropy, max_depth=3, score=0.685103 -   0.0s\n",
      "[Parallel(n_jobs=1)]: Done  71 out of  71 | elapsed:    2.1s remaining:    0.0s\n",
      "[CV] criterion=entropy, max_depth=3 ..................................\n",
      "[CV] ......... criterion=entropy, max_depth=3, score=0.690274 -   0.0s\n",
      "[Parallel(n_jobs=1)]: Done  72 out of  72 | elapsed:    2.2s remaining:    0.0s\n",
      "[CV] criterion=entropy, max_depth=3 ..................................\n",
      "[CV] ......... criterion=entropy, max_depth=3, score=0.604176 -   0.0s\n",
      "[Parallel(n_jobs=1)]: Done  73 out of  73 | elapsed:    2.2s remaining:    0.0s\n",
      "[CV] criterion=entropy, max_depth=3 ..................................\n",
      "[CV] ......... criterion=entropy, max_depth=3, score=0.693711 -   0.0s\n",
      "[Parallel(n_jobs=1)]: Done  74 out of  74 | elapsed:    2.2s remaining:    0.0s\n",
      "[CV] criterion=entropy, max_depth=3 ..................................\n",
      "[CV] ......... criterion=entropy, max_depth=3, score=0.703529 -   0.0s\n",
      "[Parallel(n_jobs=1)]: Done  75 out of  75 | elapsed:    2.2s remaining:    0.0s\n",
      "[CV] criterion=entropy, max_depth=3 ..................................\n",
      "[CV] ......... criterion=entropy, max_depth=3, score=0.643285 -   0.0s\n",
      "[Parallel(n_jobs=1)]: Done  76 out of  76 | elapsed:    2.2s remaining:    0.0s\n",
      "[CV] criterion=entropy, max_depth=3 ..................................\n",
      "[CV] ......... criterion=entropy, max_depth=3, score=0.651288 -   0.0s\n",
      "[Parallel(n_jobs=1)]: Done  77 out of  77 | elapsed:    2.3s remaining:    0.0s\n",
      "[CV] criterion=entropy, max_depth=3 ..................................\n",
      "[CV] ......... criterion=entropy, max_depth=3, score=0.703643 -   0.0s\n",
      "[Parallel(n_jobs=1)]: Done  78 out of  78 | elapsed:    2.3s remaining:    0.0s\n",
      "[CV] criterion=entropy, max_depth=3 ..................................\n",
      "[CV] ......... criterion=entropy, max_depth=3, score=0.686574 -   0.0s\n",
      "[Parallel(n_jobs=1)]: Done  79 out of  79 | elapsed:    2.3s remaining:    0.0s\n",
      "[CV] criterion=entropy, max_depth=3 ..................................\n",
      "[CV] ......... criterion=entropy, max_depth=3, score=0.668973 -   0.0s\n",
      "[Parallel(n_jobs=1)]: Done  80 out of  80 | elapsed:    2.3s remaining:    0.0s\n",
      "[CV] criterion=entropy, max_depth=4 ..................................\n",
      "[CV] ......... criterion=entropy, max_depth=4, score=0.846445 -   0.0s\n",
      "[Parallel(n_jobs=1)]: Done  81 out of  81 | elapsed:    2.3s remaining:    0.0s\n"
     ]
    },
    {
     "name": "stdout",
     "output_type": "stream",
     "text": [
      "[CV] criterion=entropy, max_depth=4 ..................................\n",
      "[CV] ......... criterion=entropy, max_depth=4, score=0.835036 -   0.0s\n",
      "[Parallel(n_jobs=1)]: Done  82 out of  82 | elapsed:    2.4s remaining:    0.0s\n",
      "[CV] criterion=entropy, max_depth=4 ..................................\n",
      "[CV] ......... criterion=entropy, max_depth=4, score=0.719544 -   0.0s\n",
      "[Parallel(n_jobs=1)]: Done  83 out of  83 | elapsed:    2.4s remaining:    0.0s\n",
      "[CV] criterion=entropy, max_depth=4 ..................................\n",
      "[CV] ......... criterion=entropy, max_depth=4, score=0.835283 -   0.0s\n",
      "[Parallel(n_jobs=1)]: Done  84 out of  84 | elapsed:    2.4s remaining:    0.0s\n",
      "[CV] criterion=entropy, max_depth=4 ..................................\n",
      "[CV] ......... criterion=entropy, max_depth=4, score=0.864871 -   0.0s\n",
      "[Parallel(n_jobs=1)]: Done  85 out of  85 | elapsed:    2.5s remaining:    0.0s\n",
      "[CV] criterion=entropy, max_depth=4 ..................................\n",
      "[CV] ......... criterion=entropy, max_depth=4, score=0.862142 -   0.0s\n",
      "[Parallel(n_jobs=1)]: Done  86 out of  86 | elapsed:    2.5s remaining:    0.0s\n",
      "[CV] criterion=entropy, max_depth=4 ..................................\n",
      "[CV] ......... criterion=entropy, max_depth=4, score=0.828840 -   0.0s\n",
      "[Parallel(n_jobs=1)]: Done  87 out of  87 | elapsed:    2.5s remaining:    0.0s\n",
      "[CV] criterion=entropy, max_depth=4 ..................................\n",
      "[CV] ......... criterion=entropy, max_depth=4, score=0.854076 -   0.0s\n",
      "[Parallel(n_jobs=1)]: Done  88 out of  88 | elapsed:    2.5s remaining:    0.0s\n",
      "[CV] criterion=entropy, max_depth=4 ..................................\n",
      "[CV] ......... criterion=entropy, max_depth=4, score=0.810485 -   0.0s\n",
      "[Parallel(n_jobs=1)]: Done  89 out of  89 | elapsed:    2.5s remaining:    0.0s\n",
      "[CV] criterion=entropy, max_depth=4 ..................................\n",
      "[CV] ......... criterion=entropy, max_depth=4, score=0.859838 -   0.0s\n",
      "[Parallel(n_jobs=1)]: Done  90 out of  90 | elapsed:    2.6s remaining:    0.0s\n",
      "[CV] criterion=entropy, max_depth=5 ..................................\n",
      "[CV] ......... criterion=entropy, max_depth=5, score=0.967641 -   0.0s\n",
      "[Parallel(n_jobs=1)]: Done  91 out of  91 | elapsed:    2.6s remaining:    0.0s\n",
      "[CV] criterion=entropy, max_depth=5 ..................................\n",
      "[CV] ......... criterion=entropy, max_depth=5, score=0.861445 -   0.0s\n",
      "[Parallel(n_jobs=1)]: Done  92 out of  92 | elapsed:    2.6s remaining:    0.0s\n",
      "[CV] criterion=entropy, max_depth=5 ..................................\n",
      "[CV] ......... criterion=entropy, max_depth=5, score=0.793916 -   0.0s\n",
      "[Parallel(n_jobs=1)]: Done  93 out of  93 | elapsed:    2.7s remaining:    0.0s\n",
      "[CV] criterion=entropy, max_depth=5 ..................................\n",
      "[CV] ......... criterion=entropy, max_depth=5, score=0.967898 -   0.0s\n",
      "[Parallel(n_jobs=1)]: Done  94 out of  94 | elapsed:    2.7s remaining:    0.0s\n",
      "[CV] criterion=entropy, max_depth=5 ..................................\n",
      "[CV] ......... criterion=entropy, max_depth=5, score=0.964594 -   0.0s\n",
      "[Parallel(n_jobs=1)]: Done  95 out of  95 | elapsed:    2.7s remaining:    0.0s\n",
      "[CV] criterion=entropy, max_depth=5 ..................................\n",
      "[CV] ......... criterion=entropy, max_depth=5, score=0.896009 -   0.0s\n",
      "[Parallel(n_jobs=1)]: Done  96 out of  96 | elapsed:    2.7s remaining:    0.0s\n",
      "[CV] criterion=entropy, max_depth=5 ..................................\n",
      "[CV] ......... criterion=entropy, max_depth=5, score=0.962173 -   0.0s\n",
      "[Parallel(n_jobs=1)]: Done  97 out of  97 | elapsed:    2.8s remaining:    0.0s\n",
      "[CV] criterion=entropy, max_depth=5 ..................................\n",
      "[CV] ......... criterion=entropy, max_depth=5, score=0.969536 -   0.0s\n",
      "[Parallel(n_jobs=1)]: Done  98 out of  98 | elapsed:    2.8s remaining:    0.0s\n",
      "[CV] criterion=entropy, max_depth=5 ..................................\n",
      "[CV] ......... criterion=entropy, max_depth=5, score=0.853963 -   0.0s\n",
      "[Parallel(n_jobs=1)]: Done  99 out of  99 | elapsed:    2.8s remaining:    0.0s\n",
      "[CV] criterion=entropy, max_depth=5 ..................................\n",
      "[CV] ......... criterion=entropy, max_depth=5, score=0.979329 -   0.0s\n",
      "[CV] criterion=entropy, max_depth=6 ..................................\n",
      "[CV] ......... criterion=entropy, max_depth=6, score=0.963691 -   0.0s\n",
      "[CV] criterion=entropy, max_depth=6 ..................................\n",
      "[CV] ......... criterion=entropy, max_depth=6, score=0.956417 -   0.0s\n",
      "[CV] criterion=entropy, max_depth=6 ..................................\n",
      "[CV] ......... criterion=entropy, max_depth=6, score=0.867621 -   0.0s\n",
      "[CV] criterion=entropy, max_depth=6 ..................................\n",
      "[CV] ......... criterion=entropy, max_depth=6, score=0.979347 -   0.0s\n",
      "[CV] criterion=entropy, max_depth=6 ..................................\n",
      "[CV] ......... criterion=entropy, max_depth=6, score=0.970924 -   0.0s\n",
      "[CV] criterion=entropy, max_depth=6 ..................................\n",
      "[CV] ......... criterion=entropy, max_depth=6, score=0.969621 -   0.0s\n",
      "[CV] criterion=entropy, max_depth=6 ..................................\n",
      "[CV] ......... criterion=entropy, max_depth=6, score=0.969806 -   0.0s\n",
      "[CV] criterion=entropy, max_depth=6 ..................................\n",
      "[CV] ......... criterion=entropy, max_depth=6, score=0.972714 -   0.0s\n",
      "[CV] criterion=entropy, max_depth=6 ..................................\n",
      "[CV] ......... criterion=entropy, max_depth=6, score=0.962157 -   0.0s\n",
      "[CV] criterion=entropy, max_depth=6 ..................................\n",
      "[CV] ......... criterion=entropy, max_depth=6, score=0.983855 -   0.0s\n",
      "[CV] criterion=entropy, max_depth=7 ..................................\n",
      "[CV] ......... criterion=entropy, max_depth=7, score=0.959947 -   0.0s\n",
      "[CV] criterion=entropy, max_depth=7 ..................................\n",
      "[CV] ......... criterion=entropy, max_depth=7, score=0.965743 -   0.0s\n",
      "[CV] criterion=entropy, max_depth=7 ..................................\n",
      "[CV] ......... criterion=entropy, max_depth=7, score=0.870791 -   0.0s\n",
      "[CV] criterion=entropy, max_depth=7 ..................................\n",
      "[CV] ......... criterion=entropy, max_depth=7, score=0.978506 -   0.0s\n",
      "[CV] criterion=entropy, max_depth=7 ..................................\n",
      "[CV] ......... criterion=entropy, max_depth=7, score=0.973797 -   0.0s\n",
      "[CV] criterion=entropy, max_depth=7 ..................................\n",
      "[CV] ......... criterion=entropy, max_depth=7, score=0.964902 -   0.0s\n",
      "[CV] criterion=entropy, max_depth=7 ..................................\n",
      "[CV] ......... criterion=entropy, max_depth=7, score=0.965302 -   0.0s\n",
      "[CV] criterion=entropy, max_depth=7 ..................................\n",
      "[CV] ......... criterion=entropy, max_depth=7, score=0.970526 -   0.0s\n",
      "[CV] criterion=entropy, max_depth=7 ..................................\n",
      "[CV] ......... criterion=entropy, max_depth=7, score=0.954407 -   0.0s\n",
      "[CV] criterion=entropy, max_depth=7 ..................................\n",
      "[CV] ......... criterion=entropy, max_depth=7, score=0.983886 -   0.0s\n",
      "[CV] criterion=entropy, max_depth=8 ..................................\n",
      "[CV] ......... criterion=entropy, max_depth=8, score=0.959526 -   0.0s\n",
      "[CV] criterion=entropy, max_depth=8 ..................................\n",
      "[CV] ......... criterion=entropy, max_depth=8, score=0.967405 -   0.0s\n",
      "[CV] criterion=entropy, max_depth=8 ..................................\n",
      "[CV] ......... criterion=entropy, max_depth=8, score=0.871602 -   0.0s\n",
      "[CV] criterion=entropy, max_depth=8 ..................................\n",
      "[CV] ......... criterion=entropy, max_depth=8, score=0.977706 -   0.0s\n",
      "[CV] criterion=entropy, max_depth=8 ..................................\n",
      "[CV] ......... criterion=entropy, max_depth=8, score=0.971920 -   0.0s\n",
      "[CV] criterion=entropy, max_depth=8 ..................................\n",
      "[CV] ......... criterion=entropy, max_depth=8, score=0.965589 -   0.0s\n",
      "[CV] criterion=entropy, max_depth=8 ..................................\n",
      "[CV] ......... criterion=entropy, max_depth=8, score=0.965179 -   0.0s\n",
      "[CV] criterion=entropy, max_depth=8 ..................................\n",
      "[CV] ......... criterion=entropy, max_depth=8, score=0.974376 -   0.0s\n",
      "[CV] criterion=entropy, max_depth=8 ..................................\n",
      "[CV] ......... criterion=entropy, max_depth=8, score=0.960826 -   0.0s\n",
      "[CV] criterion=entropy, max_depth=8 ..................................\n"
     ]
    },
    {
     "name": "stdout",
     "output_type": "stream",
     "text": [
      "[CV] ......... criterion=entropy, max_depth=8, score=0.984383 -   0.0s\n",
      "[CV] criterion=entropy, max_depth=9 ..................................\n",
      "[CV] ......... criterion=entropy, max_depth=9, score=0.960521 -   0.0s\n",
      "[CV] criterion=entropy, max_depth=9 ..................................\n",
      "[CV] ......... criterion=entropy, max_depth=9, score=0.965918 -   0.0s\n",
      "[CV] criterion=entropy, max_depth=9 ..................................\n",
      "[CV] ......... criterion=entropy, max_depth=9, score=0.879778 -   0.0s\n",
      "[CV] criterion=entropy, max_depth=9 ..................................\n",
      "[CV] ......... criterion=entropy, max_depth=9, score=0.972299 -   0.0s\n",
      "[CV] criterion=entropy, max_depth=9 ..................................\n",
      "[CV] ......... criterion=entropy, max_depth=9, score=0.970586 -   0.0s\n",
      "[CV] criterion=entropy, max_depth=9 ..................................\n",
      "[CV] ......... criterion=entropy, max_depth=9, score=0.967169 -   0.0s\n",
      "[CV] criterion=entropy, max_depth=9 ..................................\n",
      "[CV] ......... criterion=entropy, max_depth=9, score=0.962337 -   0.0s\n",
      "[CV] criterion=entropy, max_depth=9 ..................................\n",
      "[CV] ......... criterion=entropy, max_depth=9, score=0.973633 -   0.0s\n",
      "[CV] criterion=entropy, max_depth=9 ..................................\n",
      "[CV] ......... criterion=entropy, max_depth=9, score=0.961600 -   0.0s\n",
      "[CV] criterion=entropy, max_depth=9 ..................................\n",
      "[CV] ......... criterion=entropy, max_depth=9, score=0.981048 -   0.0s\n",
      "[Parallel(n_jobs=1)]: Done 140 out of 140 | elapsed:    4.3s finished\n"
     ]
    },
    {
     "data": {
      "text/plain": [
       "GridSearchCV(cv=10, error_score='raise',\n",
       "       estimator=DecisionTreeClassifier(class_weight=None, criterion='gini', max_depth=50,\n",
       "            max_features=None, max_leaf_nodes=None,\n",
       "            min_impurity_split=1e-07, min_samples_leaf=10,\n",
       "            min_samples_split=100, min_weight_fraction_leaf=0.0,\n",
       "            presort=False, random_state=None, splitter='best'),\n",
       "       fit_params={}, iid=True, n_jobs=1,\n",
       "       param_grid={'criterion': ['gini', 'entropy'], 'max_depth': array([3, 4, 5, 6, 7, 8, 9])},\n",
       "       pre_dispatch='2*n_jobs', refit=True, scoring='roc_auc', verbose=100)"
      ]
     },
     "execution_count": 444,
     "metadata": {},
     "output_type": "execute_result"
    }
   ],
   "source": [
    "tree_cv.fit(X_train,y_train)"
   ]
  },
  {
   "cell_type": "code",
   "execution_count": 446,
   "metadata": {},
   "outputs": [
    {
     "name": "stdout",
     "output_type": "stream",
     "text": [
      "Tuned Decision Tree parameter : {'criterion': 'gini', 'max_depth': 9}\n"
     ]
    }
   ],
   "source": [
    "print(\"Tuned Decision Tree parameter : {}\".format(tree_cv.best_params_))"
   ]
  },
  {
   "cell_type": "markdown",
   "metadata": {},
   "source": [
    "### CART-Building the model with best parameters"
   ]
  },
  {
   "cell_type": "code",
   "execution_count": 447,
   "metadata": {},
   "outputs": [],
   "source": [
    "classifier = tree_cv.best_estimator_"
   ]
  },
  {
   "cell_type": "code",
   "execution_count": 448,
   "metadata": {},
   "outputs": [
    {
     "data": {
      "text/plain": [
       "DecisionTreeClassifier(class_weight=None, criterion='gini', max_depth=9,\n",
       "            max_features=None, max_leaf_nodes=None,\n",
       "            min_impurity_split=1e-07, min_samples_leaf=10,\n",
       "            min_samples_split=100, min_weight_fraction_leaf=0.0,\n",
       "            presort=False, random_state=None, splitter='best')"
      ]
     },
     "execution_count": 448,
     "metadata": {},
     "output_type": "execute_result"
    }
   ],
   "source": [
    "classifier.fit(X_train,y_train)"
   ]
  },
  {
   "cell_type": "code",
   "execution_count": 449,
   "metadata": {},
   "outputs": [
    {
     "data": {
      "text/plain": [
       "0.98766995603550967"
      ]
     },
     "execution_count": 449,
     "metadata": {},
     "output_type": "execute_result"
    }
   ],
   "source": [
    "y_train_prob = classifier.predict_proba(X_train)\n",
    "fpr, tpr, thresholds = roc_curve(y_train, y_train_prob[:,1])\n",
    "auc_train = auc(fpr, tpr)\n",
    "auc_train"
   ]
  },
  {
   "cell_type": "code",
   "execution_count": 450,
   "metadata": {},
   "outputs": [
    {
     "data": {
      "text/plain": [
       "0.97286992277242923"
      ]
     },
     "execution_count": 450,
     "metadata": {},
     "output_type": "execute_result"
    }
   ],
   "source": [
    "y_test_prob = classifier.predict_proba(X_test)\n",
    "fpr, tpr, thresholds = roc_curve(y_test, y_test_prob[:,1])\n",
    "auc_test = auc(fpr, tpr)\n",
    "auc_test"
   ]
  },
  {
   "cell_type": "markdown",
   "metadata": {},
   "source": [
    "#### Rank Ordering"
   ]
  },
  {
   "cell_type": "code",
   "execution_count": 451,
   "metadata": {},
   "outputs": [
    {
     "name": "stderr",
     "output_type": "stream",
     "text": [
      "C:\\Users\\hp\\Anaconda3\\lib\\site-packages\\ipykernel_launcher.py:2: SettingWithCopyWarning: \n",
      "A value is trying to be set on a copy of a slice from a DataFrame.\n",
      "Try using .loc[row_indexer,col_indexer] = value instead\n",
      "\n",
      "See the caveats in the documentation: http://pandas.pydata.org/pandas-docs/stable/indexing.html#indexing-view-versus-copy\n",
      "  \n"
     ]
    }
   ],
   "source": [
    "drank=X_train\n",
    "drank['partyWinning']=y_train"
   ]
  },
  {
   "cell_type": "code",
   "execution_count": 452,
   "metadata": {},
   "outputs": [
    {
     "name": "stderr",
     "output_type": "stream",
     "text": [
      "C:\\Users\\hp\\Anaconda3\\lib\\site-packages\\ipykernel_launcher.py:1: SettingWithCopyWarning: \n",
      "A value is trying to be set on a copy of a slice from a DataFrame.\n",
      "Try using .loc[row_indexer,col_indexer] = value instead\n",
      "\n",
      "See the caveats in the documentation: http://pandas.pydata.org/pandas-docs/stable/indexing.html#indexing-view-versus-copy\n",
      "  \"\"\"Entry point for launching an IPython kernel.\n"
     ]
    },
    {
     "data": {
      "text/plain": [
       "2075    0.021552\n",
       "9638    1.000000\n",
       "5444    0.363636\n",
       "3348    1.000000\n",
       "8343    0.993902\n",
       "6828    0.993902\n",
       "7662    0.000000\n",
       "4758    0.473684\n",
       "9329    0.947368\n",
       "1463    1.000000\n",
       "7521    1.000000\n",
       "6003    0.805556\n",
       "4950    0.000000\n",
       "937     0.000000\n",
       "2083    0.058824\n",
       "3529    1.000000\n",
       "4958    0.989691\n",
       "7943    1.000000\n",
       "271     0.993902\n",
       "8217    1.000000\n",
       "1477    0.346939\n",
       "2287    0.000000\n",
       "9396    0.454545\n",
       "1498    1.000000\n",
       "8893    1.000000\n",
       "6220    1.000000\n",
       "8982    0.039370\n",
       "5660    0.473684\n",
       "957     0.050000\n",
       "7586    1.000000\n",
       "          ...   \n",
       "6124    0.993902\n",
       "5424    0.039370\n",
       "7267    0.021552\n",
       "721     0.989474\n",
       "7927    0.993902\n",
       "4021    1.000000\n",
       "9741    0.805556\n",
       "8720    1.000000\n",
       "4836    0.989691\n",
       "6350    0.508772\n",
       "5800    0.000000\n",
       "6894    0.000000\n",
       "3658    0.000000\n",
       "872     0.000000\n",
       "5451    0.222222\n",
       "5131    0.058824\n",
       "2295    0.993902\n",
       "510     0.931034\n",
       "3462    0.993902\n",
       "9443    0.916667\n",
       "5572    0.039370\n",
       "89      0.840000\n",
       "9611    0.333333\n",
       "9415    0.993902\n",
       "161     0.021552\n",
       "3306    1.000000\n",
       "9460    0.222222\n",
       "3143    1.000000\n",
       "8621    0.222222\n",
       "8887    0.222222\n",
       "Name: prob_score, Length: 4556, dtype: float64"
      ]
     },
     "execution_count": 452,
     "metadata": {},
     "output_type": "execute_result"
    }
   ],
   "source": [
    "drank[\"prob_score\"] = y_train_prob[:,1]\n",
    "drank[\"prob_score\"] "
   ]
  },
  {
   "cell_type": "markdown",
   "metadata": {},
   "source": [
    "#### scoring step\n",
    "#### decile code"
   ]
  },
  {
   "cell_type": "code",
   "execution_count": 453,
   "metadata": {},
   "outputs": [],
   "source": [
    "def deciles(x):\n",
    "    decile = pd.Series(index=[0,1,2,3,4,5,6,7,8,9])\n",
    "    for i in np.arange(0.1,1.1,0.1):\n",
    "        decile[int(i*10)]=x.quantile(i)\n",
    "    def z(x):\n",
    "        if x<decile[1]: return(1)\n",
    "        elif x<decile[2]: return(2)\n",
    "        elif x<decile[3]: return(3)\n",
    "        elif x<decile[4]: return(4)\n",
    "        elif x<decile[5]: return(5)\n",
    "        elif x<decile[6]: return(6)\n",
    "        elif x<decile[7]: return(7)\n",
    "        elif x<decile[8]: return(8)\n",
    "        elif x<decile[9]: return(9)\n",
    "        elif x<=decile[10]: return(10)\n",
    "        else:return(np.NaN)\n",
    "    s=x.map(z)\n",
    "    return(s) "
   ]
  },
  {
   "cell_type": "code",
   "execution_count": 454,
   "metadata": {},
   "outputs": [],
   "source": [
    "def Rank_Ordering(X,y,Target):\n",
    "    X['decile']=deciles(X[y])\n",
    "    Rank=X.groupby('decile').apply(lambda x: pd.Series([\n",
    "        np.min(x[y]),\n",
    "        np.max(x[y]),\n",
    "        np.mean(x[y]),\n",
    "        np.size(x[y]),\n",
    "        np.sum(x[Target]),\n",
    "        np.size(x[Target][x[Target]==0]),\n",
    "        ],\n",
    "        index=([\"min_resp\",\"max_resp\",\"avg_resp\",\n",
    "                \"cnt\",\"cnt_resp\",\"cnt_non_resp\"])\n",
    "        )).reset_index()\n",
    "    Rank = Rank.sort_values(by='decile',ascending=False)\n",
    "    Rank[\"rrate\"] = Rank[\"cnt_resp\"]*100/Rank[\"cnt\"]\n",
    "    Rank[\"cum_resp\"] = np.cumsum(Rank[\"cnt_resp\"])\n",
    "    Rank[\"cum_non_resp\"] = np.cumsum(Rank[\"cnt_non_resp\"])\n",
    "    Rank[\"cum_resp_pct\"] = Rank[\"cum_resp\"]/np.sum(Rank[\"cnt_resp\"])\n",
    "    Rank[\"cum_non_resp_pct\"]=Rank[\"cum_non_resp\"]/np.sum(Rank[\"cnt_non_resp\"])\n",
    "    Rank[\"KS\"] = Rank[\"cum_resp_pct\"] - Rank[\"cum_non_resp_pct\"]\n",
    "    Rank\n",
    "    return(Rank)"
   ]
  },
  {
   "cell_type": "code",
   "execution_count": 455,
   "metadata": {},
   "outputs": [
    {
     "name": "stderr",
     "output_type": "stream",
     "text": [
      "C:\\Users\\hp\\Anaconda3\\lib\\site-packages\\ipykernel_launcher.py:2: SettingWithCopyWarning: \n",
      "A value is trying to be set on a copy of a slice from a DataFrame.\n",
      "Try using .loc[row_indexer,col_indexer] = value instead\n",
      "\n",
      "See the caveats in the documentation: http://pandas.pydata.org/pandas-docs/stable/indexing.html#indexing-view-versus-copy\n",
      "  \n"
     ]
    },
    {
     "data": {
      "text/html": [
       "<div>\n",
       "<style scoped>\n",
       "    .dataframe tbody tr th:only-of-type {\n",
       "        vertical-align: middle;\n",
       "    }\n",
       "\n",
       "    .dataframe tbody tr th {\n",
       "        vertical-align: top;\n",
       "    }\n",
       "\n",
       "    .dataframe thead th {\n",
       "        text-align: right;\n",
       "    }\n",
       "</style>\n",
       "<table border=\"1\" class=\"dataframe\">\n",
       "  <thead>\n",
       "    <tr style=\"text-align: right;\">\n",
       "      <th></th>\n",
       "      <th>decile</th>\n",
       "      <th>min_resp</th>\n",
       "      <th>max_resp</th>\n",
       "      <th>avg_resp</th>\n",
       "      <th>cnt</th>\n",
       "      <th>cnt_resp</th>\n",
       "      <th>cnt_non_resp</th>\n",
       "      <th>rrate</th>\n",
       "      <th>cum_resp</th>\n",
       "      <th>cum_non_resp</th>\n",
       "      <th>cum_resp_pct</th>\n",
       "      <th>cum_non_resp_pct</th>\n",
       "      <th>KS</th>\n",
       "    </tr>\n",
       "  </thead>\n",
       "  <tbody>\n",
       "    <tr>\n",
       "      <th>6</th>\n",
       "      <td>10</td>\n",
       "      <td>1.000000</td>\n",
       "      <td>1.000000</td>\n",
       "      <td>1.000000</td>\n",
       "      <td>1482.0</td>\n",
       "      <td>1482.0</td>\n",
       "      <td>0.0</td>\n",
       "      <td>100.000000</td>\n",
       "      <td>1482.0</td>\n",
       "      <td>0.0</td>\n",
       "      <td>0.520183</td>\n",
       "      <td>0.000000</td>\n",
       "      <td>0.520183</td>\n",
       "    </tr>\n",
       "    <tr>\n",
       "      <th>5</th>\n",
       "      <td>7</td>\n",
       "      <td>0.993902</td>\n",
       "      <td>0.993902</td>\n",
       "      <td>0.993902</td>\n",
       "      <td>656.0</td>\n",
       "      <td>652.0</td>\n",
       "      <td>4.0</td>\n",
       "      <td>99.390244</td>\n",
       "      <td>2134.0</td>\n",
       "      <td>4.0</td>\n",
       "      <td>0.749035</td>\n",
       "      <td>0.002343</td>\n",
       "      <td>0.746691</td>\n",
       "    </tr>\n",
       "    <tr>\n",
       "      <th>4</th>\n",
       "      <td>6</td>\n",
       "      <td>0.989474</td>\n",
       "      <td>0.989691</td>\n",
       "      <td>0.989583</td>\n",
       "      <td>192.0</td>\n",
       "      <td>190.0</td>\n",
       "      <td>2.0</td>\n",
       "      <td>98.958333</td>\n",
       "      <td>2324.0</td>\n",
       "      <td>6.0</td>\n",
       "      <td>0.815725</td>\n",
       "      <td>0.003515</td>\n",
       "      <td>0.812210</td>\n",
       "    </tr>\n",
       "    <tr>\n",
       "      <th>3</th>\n",
       "      <td>5</td>\n",
       "      <td>0.508772</td>\n",
       "      <td>0.964286</td>\n",
       "      <td>0.822581</td>\n",
       "      <td>434.0</td>\n",
       "      <td>357.0</td>\n",
       "      <td>77.0</td>\n",
       "      <td>82.258065</td>\n",
       "      <td>2681.0</td>\n",
       "      <td>83.0</td>\n",
       "      <td>0.941032</td>\n",
       "      <td>0.048623</td>\n",
       "      <td>0.892409</td>\n",
       "    </tr>\n",
       "    <tr>\n",
       "      <th>2</th>\n",
       "      <td>4</td>\n",
       "      <td>0.130952</td>\n",
       "      <td>0.473684</td>\n",
       "      <td>0.274900</td>\n",
       "      <td>502.0</td>\n",
       "      <td>138.0</td>\n",
       "      <td>364.0</td>\n",
       "      <td>27.490040</td>\n",
       "      <td>2819.0</td>\n",
       "      <td>447.0</td>\n",
       "      <td>0.989470</td>\n",
       "      <td>0.261863</td>\n",
       "      <td>0.727607</td>\n",
       "    </tr>\n",
       "    <tr>\n",
       "      <th>1</th>\n",
       "      <td>3</td>\n",
       "      <td>0.039370</td>\n",
       "      <td>0.105263</td>\n",
       "      <td>0.056872</td>\n",
       "      <td>422.0</td>\n",
       "      <td>24.0</td>\n",
       "      <td>398.0</td>\n",
       "      <td>5.687204</td>\n",
       "      <td>2843.0</td>\n",
       "      <td>845.0</td>\n",
       "      <td>0.997894</td>\n",
       "      <td>0.495021</td>\n",
       "      <td>0.502873</td>\n",
       "    </tr>\n",
       "    <tr>\n",
       "      <th>0</th>\n",
       "      <td>2</td>\n",
       "      <td>0.000000</td>\n",
       "      <td>0.021552</td>\n",
       "      <td>0.006912</td>\n",
       "      <td>868.0</td>\n",
       "      <td>6.0</td>\n",
       "      <td>862.0</td>\n",
       "      <td>0.691244</td>\n",
       "      <td>2849.0</td>\n",
       "      <td>1707.0</td>\n",
       "      <td>1.000000</td>\n",
       "      <td>1.000000</td>\n",
       "      <td>0.000000</td>\n",
       "    </tr>\n",
       "  </tbody>\n",
       "</table>\n",
       "</div>"
      ],
      "text/plain": [
       "   decile  min_resp  max_resp  avg_resp     cnt  cnt_resp  cnt_non_resp  \\\n",
       "6      10  1.000000  1.000000  1.000000  1482.0    1482.0           0.0   \n",
       "5       7  0.993902  0.993902  0.993902   656.0     652.0           4.0   \n",
       "4       6  0.989474  0.989691  0.989583   192.0     190.0           2.0   \n",
       "3       5  0.508772  0.964286  0.822581   434.0     357.0          77.0   \n",
       "2       4  0.130952  0.473684  0.274900   502.0     138.0         364.0   \n",
       "1       3  0.039370  0.105263  0.056872   422.0      24.0         398.0   \n",
       "0       2  0.000000  0.021552  0.006912   868.0       6.0         862.0   \n",
       "\n",
       "        rrate  cum_resp  cum_non_resp  cum_resp_pct  cum_non_resp_pct  \\\n",
       "6  100.000000    1482.0           0.0      0.520183          0.000000   \n",
       "5   99.390244    2134.0           4.0      0.749035          0.002343   \n",
       "4   98.958333    2324.0           6.0      0.815725          0.003515   \n",
       "3   82.258065    2681.0          83.0      0.941032          0.048623   \n",
       "2   27.490040    2819.0         447.0      0.989470          0.261863   \n",
       "1    5.687204    2843.0         845.0      0.997894          0.495021   \n",
       "0    0.691244    2849.0        1707.0      1.000000          1.000000   \n",
       "\n",
       "         KS  \n",
       "6  0.520183  \n",
       "5  0.746691  \n",
       "4  0.812210  \n",
       "3  0.892409  \n",
       "2  0.727607  \n",
       "1  0.502873  \n",
       "0  0.000000  "
      ]
     },
     "execution_count": 455,
     "metadata": {},
     "output_type": "execute_result"
    }
   ],
   "source": [
    "Rank = Rank_Ordering(drank,\"prob_score\",\"partyWinning\")\n",
    "Rank"
   ]
  },
  {
   "cell_type": "code",
   "execution_count": 456,
   "metadata": {},
   "outputs": [
    {
     "data": {
      "text/plain": [
       "0.3654313498475053"
      ]
     },
     "execution_count": 456,
     "metadata": {},
     "output_type": "execute_result"
    }
   ],
   "source": [
    "def gini(list_of_values):\n",
    "    sorted_list = sorted(list_of_values)\n",
    "    height, area = 0, 0\n",
    "    for value in sorted_list:\n",
    "        height += value\n",
    "        area += height - value / 2.\n",
    "    fair_area = height * len(list_of_values) / 2.\n",
    "    return (fair_area - area) / fair_area\n",
    "\n",
    "gini(drank[\"prob_score\"])"
   ]
  },
  {
   "cell_type": "markdown",
   "metadata": {},
   "source": [
    "#### Let us see the Rank Ordering on Test Data"
   ]
  },
  {
   "cell_type": "code",
   "execution_count": 457,
   "metadata": {},
   "outputs": [
    {
     "name": "stderr",
     "output_type": "stream",
     "text": [
      "C:\\Users\\hp\\Anaconda3\\lib\\site-packages\\ipykernel_launcher.py:2: SettingWithCopyWarning: \n",
      "A value is trying to be set on a copy of a slice from a DataFrame.\n",
      "Try using .loc[row_indexer,col_indexer] = value instead\n",
      "\n",
      "See the caveats in the documentation: http://pandas.pydata.org/pandas-docs/stable/indexing.html#indexing-view-versus-copy\n",
      "  \n"
     ]
    }
   ],
   "source": [
    "dranktest=X_test\n",
    "dranktest['partyWinning']=y_test"
   ]
  },
  {
   "cell_type": "code",
   "execution_count": 458,
   "metadata": {},
   "outputs": [
    {
     "name": "stderr",
     "output_type": "stream",
     "text": [
      "C:\\Users\\hp\\Anaconda3\\lib\\site-packages\\ipykernel_launcher.py:1: SettingWithCopyWarning: \n",
      "A value is trying to be set on a copy of a slice from a DataFrame.\n",
      "Try using .loc[row_indexer,col_indexer] = value instead\n",
      "\n",
      "See the caveats in the documentation: http://pandas.pydata.org/pandas-docs/stable/indexing.html#indexing-view-versus-copy\n",
      "  \"\"\"Entry point for launching an IPython kernel.\n"
     ]
    }
   ],
   "source": [
    "dranktest[\"prob_score\"] = y_test_prob[:,1]"
   ]
  },
  {
   "cell_type": "code",
   "execution_count": 459,
   "metadata": {},
   "outputs": [
    {
     "name": "stderr",
     "output_type": "stream",
     "text": [
      "C:\\Users\\hp\\Anaconda3\\lib\\site-packages\\ipykernel_launcher.py:2: SettingWithCopyWarning: \n",
      "A value is trying to be set on a copy of a slice from a DataFrame.\n",
      "Try using .loc[row_indexer,col_indexer] = value instead\n",
      "\n",
      "See the caveats in the documentation: http://pandas.pydata.org/pandas-docs/stable/indexing.html#indexing-view-versus-copy\n",
      "  \n"
     ]
    },
    {
     "data": {
      "text/html": [
       "<div>\n",
       "<style scoped>\n",
       "    .dataframe tbody tr th:only-of-type {\n",
       "        vertical-align: middle;\n",
       "    }\n",
       "\n",
       "    .dataframe tbody tr th {\n",
       "        vertical-align: top;\n",
       "    }\n",
       "\n",
       "    .dataframe thead th {\n",
       "        text-align: right;\n",
       "    }\n",
       "</style>\n",
       "<table border=\"1\" class=\"dataframe\">\n",
       "  <thead>\n",
       "    <tr style=\"text-align: right;\">\n",
       "      <th></th>\n",
       "      <th>decile</th>\n",
       "      <th>min_resp</th>\n",
       "      <th>max_resp</th>\n",
       "      <th>avg_resp</th>\n",
       "      <th>cnt</th>\n",
       "      <th>cnt_resp</th>\n",
       "      <th>cnt_non_resp</th>\n",
       "      <th>rrate</th>\n",
       "      <th>cum_resp</th>\n",
       "      <th>cum_non_resp</th>\n",
       "      <th>cum_resp_pct</th>\n",
       "      <th>cum_non_resp_pct</th>\n",
       "      <th>KS</th>\n",
       "    </tr>\n",
       "  </thead>\n",
       "  <tbody>\n",
       "    <tr>\n",
       "      <th>6</th>\n",
       "      <td>10</td>\n",
       "      <td>1.000000</td>\n",
       "      <td>1.000000</td>\n",
       "      <td>1.000000</td>\n",
       "      <td>639.0</td>\n",
       "      <td>631.0</td>\n",
       "      <td>8.0</td>\n",
       "      <td>98.748044</td>\n",
       "      <td>631.0</td>\n",
       "      <td>8.0</td>\n",
       "      <td>0.510518</td>\n",
       "      <td>0.011158</td>\n",
       "      <td>0.499360</td>\n",
       "    </tr>\n",
       "    <tr>\n",
       "      <th>5</th>\n",
       "      <td>7</td>\n",
       "      <td>0.993902</td>\n",
       "      <td>0.993902</td>\n",
       "      <td>0.993902</td>\n",
       "      <td>297.0</td>\n",
       "      <td>295.0</td>\n",
       "      <td>2.0</td>\n",
       "      <td>99.326599</td>\n",
       "      <td>926.0</td>\n",
       "      <td>10.0</td>\n",
       "      <td>0.749191</td>\n",
       "      <td>0.013947</td>\n",
       "      <td>0.735244</td>\n",
       "    </tr>\n",
       "    <tr>\n",
       "      <th>4</th>\n",
       "      <td>6</td>\n",
       "      <td>0.989691</td>\n",
       "      <td>0.989691</td>\n",
       "      <td>0.989691</td>\n",
       "      <td>41.0</td>\n",
       "      <td>41.0</td>\n",
       "      <td>0.0</td>\n",
       "      <td>100.000000</td>\n",
       "      <td>967.0</td>\n",
       "      <td>10.0</td>\n",
       "      <td>0.782362</td>\n",
       "      <td>0.013947</td>\n",
       "      <td>0.768415</td>\n",
       "    </tr>\n",
       "    <tr>\n",
       "      <th>3</th>\n",
       "      <td>5</td>\n",
       "      <td>0.677419</td>\n",
       "      <td>0.989474</td>\n",
       "      <td>0.895899</td>\n",
       "      <td>196.0</td>\n",
       "      <td>180.0</td>\n",
       "      <td>16.0</td>\n",
       "      <td>91.836735</td>\n",
       "      <td>1147.0</td>\n",
       "      <td>26.0</td>\n",
       "      <td>0.927994</td>\n",
       "      <td>0.036262</td>\n",
       "      <td>0.891731</td>\n",
       "    </tr>\n",
       "    <tr>\n",
       "      <th>2</th>\n",
       "      <td>4</td>\n",
       "      <td>0.130952</td>\n",
       "      <td>0.600000</td>\n",
       "      <td>0.296666</td>\n",
       "      <td>213.0</td>\n",
       "      <td>61.0</td>\n",
       "      <td>152.0</td>\n",
       "      <td>28.638498</td>\n",
       "      <td>1208.0</td>\n",
       "      <td>178.0</td>\n",
       "      <td>0.977346</td>\n",
       "      <td>0.248257</td>\n",
       "      <td>0.729090</td>\n",
       "    </tr>\n",
       "    <tr>\n",
       "      <th>1</th>\n",
       "      <td>3</td>\n",
       "      <td>0.039370</td>\n",
       "      <td>0.105263</td>\n",
       "      <td>0.057616</td>\n",
       "      <td>208.0</td>\n",
       "      <td>15.0</td>\n",
       "      <td>193.0</td>\n",
       "      <td>7.211538</td>\n",
       "      <td>1223.0</td>\n",
       "      <td>371.0</td>\n",
       "      <td>0.989482</td>\n",
       "      <td>0.517434</td>\n",
       "      <td>0.472048</td>\n",
       "    </tr>\n",
       "    <tr>\n",
       "      <th>0</th>\n",
       "      <td>2</td>\n",
       "      <td>0.000000</td>\n",
       "      <td>0.021552</td>\n",
       "      <td>0.007490</td>\n",
       "      <td>359.0</td>\n",
       "      <td>13.0</td>\n",
       "      <td>346.0</td>\n",
       "      <td>3.621170</td>\n",
       "      <td>1236.0</td>\n",
       "      <td>717.0</td>\n",
       "      <td>1.000000</td>\n",
       "      <td>1.000000</td>\n",
       "      <td>0.000000</td>\n",
       "    </tr>\n",
       "  </tbody>\n",
       "</table>\n",
       "</div>"
      ],
      "text/plain": [
       "   decile  min_resp  max_resp  avg_resp    cnt  cnt_resp  cnt_non_resp  \\\n",
       "6      10  1.000000  1.000000  1.000000  639.0     631.0           8.0   \n",
       "5       7  0.993902  0.993902  0.993902  297.0     295.0           2.0   \n",
       "4       6  0.989691  0.989691  0.989691   41.0      41.0           0.0   \n",
       "3       5  0.677419  0.989474  0.895899  196.0     180.0          16.0   \n",
       "2       4  0.130952  0.600000  0.296666  213.0      61.0         152.0   \n",
       "1       3  0.039370  0.105263  0.057616  208.0      15.0         193.0   \n",
       "0       2  0.000000  0.021552  0.007490  359.0      13.0         346.0   \n",
       "\n",
       "        rrate  cum_resp  cum_non_resp  cum_resp_pct  cum_non_resp_pct  \\\n",
       "6   98.748044     631.0           8.0      0.510518          0.011158   \n",
       "5   99.326599     926.0          10.0      0.749191          0.013947   \n",
       "4  100.000000     967.0          10.0      0.782362          0.013947   \n",
       "3   91.836735    1147.0          26.0      0.927994          0.036262   \n",
       "2   28.638498    1208.0         178.0      0.977346          0.248257   \n",
       "1    7.211538    1223.0         371.0      0.989482          0.517434   \n",
       "0    3.621170    1236.0         717.0      1.000000          1.000000   \n",
       "\n",
       "         KS  \n",
       "6  0.499360  \n",
       "5  0.735244  \n",
       "4  0.768415  \n",
       "3  0.891731  \n",
       "2  0.729090  \n",
       "1  0.472048  \n",
       "0  0.000000  "
      ]
     },
     "execution_count": 459,
     "metadata": {},
     "output_type": "execute_result"
    }
   ],
   "source": [
    "Rank_test = Rank_Ordering(dranktest,\"prob_score\",\"partyWinning\")\n",
    "Rank_test"
   ]
  },
  {
   "cell_type": "code",
   "execution_count": 460,
   "metadata": {},
   "outputs": [
    {
     "data": {
      "text/plain": [
       "1.0    1236\n",
       "0.0     717\n",
       "Name: partyWinning, dtype: int64"
      ]
     },
     "execution_count": 460,
     "metadata": {},
     "output_type": "execute_result"
    }
   ],
   "source": [
    "y_test.value_counts()"
   ]
  },
  {
   "cell_type": "code",
   "execution_count": 461,
   "metadata": {},
   "outputs": [],
   "source": [
    "rr=1236*100/(1236+717)"
   ]
  },
  {
   "cell_type": "code",
   "execution_count": 462,
   "metadata": {},
   "outputs": [
    {
     "data": {
      "text/plain": [
       "6    1.560315\n",
       "5    1.569457\n",
       "4    1.580097\n",
       "3    1.451110\n",
       "2    0.452516\n",
       "1    0.113949\n",
       "0    0.057218\n",
       "Name: rrate, dtype: float64"
      ]
     },
     "execution_count": 462,
     "metadata": {},
     "output_type": "execute_result"
    }
   ],
   "source": [
    "Rank_test['rrate']/rr"
   ]
  },
  {
   "cell_type": "markdown",
   "metadata": {},
   "source": [
    "### Building Model on Random Forest"
   ]
  },
  {
   "cell_type": "markdown",
   "metadata": {},
   "source": [
    "###### Scaling the data"
   ]
  },
  {
   "cell_type": "code",
   "execution_count": 511,
   "metadata": {},
   "outputs": [],
   "source": [
    "X_train, X_test, y_train, y_test = train_test_split(X, y, test_size = 0.3,random_state=50)\n",
    "#from sklearn.preprocessing import StandardScaler\n",
    "#sc = StandardScaler()\n",
    "#X_train = sc.fit_transform(X_train)\n",
    "#X_test = sc.transform(X_test)\n"
   ]
  },
  {
   "cell_type": "code",
   "execution_count": 512,
   "metadata": {},
   "outputs": [
    {
     "data": {
      "text/plain": [
       "RandomForestClassifier(bootstrap=True, class_weight=None, criterion='gini',\n",
       "            max_depth=None, max_features='auto', max_leaf_nodes=None,\n",
       "            min_impurity_split=1e-07, min_samples_leaf=1,\n",
       "            min_samples_split=2, min_weight_fraction_leaf=0.0,\n",
       "            n_estimators=10, n_jobs=1, oob_score=False, random_state=None,\n",
       "            verbose=0, warm_start=False)"
      ]
     },
     "execution_count": 512,
     "metadata": {},
     "output_type": "execute_result"
    }
   ],
   "source": [
    "from sklearn.ensemble import RandomForestClassifier\n",
    "rnd_clf = RandomForestClassifier()\n",
    "rnd_clf.fit(X_train,y_train)\n"
   ]
  },
  {
   "cell_type": "code",
   "execution_count": 513,
   "metadata": {},
   "outputs": [
    {
     "data": {
      "text/html": [
       "<div>\n",
       "<style scoped>\n",
       "    .dataframe tbody tr th:only-of-type {\n",
       "        vertical-align: middle;\n",
       "    }\n",
       "\n",
       "    .dataframe tbody tr th {\n",
       "        vertical-align: top;\n",
       "    }\n",
       "\n",
       "    .dataframe thead th {\n",
       "        text-align: right;\n",
       "    }\n",
       "</style>\n",
       "<table border=\"1\" class=\"dataframe\">\n",
       "  <thead>\n",
       "    <tr style=\"text-align: right;\">\n",
       "      <th></th>\n",
       "      <th>authorityDecision1</th>\n",
       "      <th>caseDispositionUnusual</th>\n",
       "      <th>caseOrigin</th>\n",
       "      <th>caseSource</th>\n",
       "      <th>certReason</th>\n",
       "      <th>decisionDirection</th>\n",
       "      <th>decisionDirectionDissent</th>\n",
       "      <th>decisionType</th>\n",
       "      <th>declarationUncon</th>\n",
       "      <th>issue</th>\n",
       "      <th>...</th>\n",
       "      <th>majVotes</th>\n",
       "      <th>minVotes</th>\n",
       "      <th>naturalCourt</th>\n",
       "      <th>petitioner</th>\n",
       "      <th>precedentAlteration</th>\n",
       "      <th>respondent</th>\n",
       "      <th>splitVote</th>\n",
       "      <th>term</th>\n",
       "      <th>threeJudgeFdc</th>\n",
       "      <th>voteUnclear</th>\n",
       "    </tr>\n",
       "  </thead>\n",
       "  <tbody>\n",
       "    <tr>\n",
       "      <th>2075</th>\n",
       "      <td>4.0</td>\n",
       "      <td>0.0</td>\n",
       "      <td>94.0</td>\n",
       "      <td>22.0</td>\n",
       "      <td>12.0</td>\n",
       "      <td>1.0</td>\n",
       "      <td>0.0</td>\n",
       "      <td>1</td>\n",
       "      <td>1.0</td>\n",
       "      <td>20280.0</td>\n",
       "      <td>...</td>\n",
       "      <td>8</td>\n",
       "      <td>0</td>\n",
       "      <td>1406</td>\n",
       "      <td>27.0</td>\n",
       "      <td>0.0</td>\n",
       "      <td>106.0</td>\n",
       "      <td>1</td>\n",
       "      <td>1960</td>\n",
       "      <td>0.0</td>\n",
       "      <td>0.0</td>\n",
       "    </tr>\n",
       "    <tr>\n",
       "      <th>9638</th>\n",
       "      <td>4.0</td>\n",
       "      <td>0.0</td>\n",
       "      <td>48.0</td>\n",
       "      <td>29.0</td>\n",
       "      <td>12.0</td>\n",
       "      <td>1.0</td>\n",
       "      <td>0.0</td>\n",
       "      <td>1</td>\n",
       "      <td>1.0</td>\n",
       "      <td>30060.0</td>\n",
       "      <td>...</td>\n",
       "      <td>6</td>\n",
       "      <td>3</td>\n",
       "      <td>1703</td>\n",
       "      <td>327.0</td>\n",
       "      <td>0.0</td>\n",
       "      <td>149.0</td>\n",
       "      <td>1</td>\n",
       "      <td>2009</td>\n",
       "      <td>0.0</td>\n",
       "      <td>0.0</td>\n",
       "    </tr>\n",
       "    <tr>\n",
       "      <th>5444</th>\n",
       "      <td>2.0</td>\n",
       "      <td>0.0</td>\n",
       "      <td>302.0</td>\n",
       "      <td>301.0</td>\n",
       "      <td>12.0</td>\n",
       "      <td>1.0</td>\n",
       "      <td>0.0</td>\n",
       "      <td>1</td>\n",
       "      <td>1.0</td>\n",
       "      <td>80060.0</td>\n",
       "      <td>...</td>\n",
       "      <td>6</td>\n",
       "      <td>3</td>\n",
       "      <td>1506</td>\n",
       "      <td>28.0</td>\n",
       "      <td>0.0</td>\n",
       "      <td>208.0</td>\n",
       "      <td>1</td>\n",
       "      <td>1978</td>\n",
       "      <td>0.0</td>\n",
       "      <td>0.0</td>\n",
       "    </tr>\n",
       "    <tr>\n",
       "      <th>3348</th>\n",
       "      <td>2.0</td>\n",
       "      <td>0.0</td>\n",
       "      <td>26.0</td>\n",
       "      <td>26.0</td>\n",
       "      <td>12.0</td>\n",
       "      <td>2.0</td>\n",
       "      <td>0.0</td>\n",
       "      <td>1</td>\n",
       "      <td>1.0</td>\n",
       "      <td>60030.0</td>\n",
       "      <td>...</td>\n",
       "      <td>8</td>\n",
       "      <td>0</td>\n",
       "      <td>1410</td>\n",
       "      <td>111.0</td>\n",
       "      <td>0.0</td>\n",
       "      <td>28.0</td>\n",
       "      <td>1</td>\n",
       "      <td>1967</td>\n",
       "      <td>0.0</td>\n",
       "      <td>0.0</td>\n",
       "    </tr>\n",
       "    <tr>\n",
       "      <th>8343</th>\n",
       "      <td>4.0</td>\n",
       "      <td>0.0</td>\n",
       "      <td>48.0</td>\n",
       "      <td>29.0</td>\n",
       "      <td>2.0</td>\n",
       "      <td>2.0</td>\n",
       "      <td>0.0</td>\n",
       "      <td>1</td>\n",
       "      <td>1.0</td>\n",
       "      <td>120010.0</td>\n",
       "      <td>...</td>\n",
       "      <td>9</td>\n",
       "      <td>0</td>\n",
       "      <td>1607</td>\n",
       "      <td>27.0</td>\n",
       "      <td>0.0</td>\n",
       "      <td>240.0</td>\n",
       "      <td>1</td>\n",
       "      <td>1996</td>\n",
       "      <td>0.0</td>\n",
       "      <td>0.0</td>\n",
       "    </tr>\n",
       "  </tbody>\n",
       "</table>\n",
       "<p>5 rows × 29 columns</p>\n",
       "</div>"
      ],
      "text/plain": [
       "      authorityDecision1  caseDispositionUnusual  caseOrigin  caseSource  \\\n",
       "2075                 4.0                     0.0        94.0        22.0   \n",
       "9638                 4.0                     0.0        48.0        29.0   \n",
       "5444                 2.0                     0.0       302.0       301.0   \n",
       "3348                 2.0                     0.0        26.0        26.0   \n",
       "8343                 4.0                     0.0        48.0        29.0   \n",
       "\n",
       "      certReason  decisionDirection  decisionDirectionDissent  decisionType  \\\n",
       "2075        12.0                1.0                       0.0             1   \n",
       "9638        12.0                1.0                       0.0             1   \n",
       "5444        12.0                1.0                       0.0             1   \n",
       "3348        12.0                2.0                       0.0             1   \n",
       "8343         2.0                2.0                       0.0             1   \n",
       "\n",
       "      declarationUncon     issue     ...       majVotes  minVotes  \\\n",
       "2075               1.0   20280.0     ...              8         0   \n",
       "9638               1.0   30060.0     ...              6         3   \n",
       "5444               1.0   80060.0     ...              6         3   \n",
       "3348               1.0   60030.0     ...              8         0   \n",
       "8343               1.0  120010.0     ...              9         0   \n",
       "\n",
       "      naturalCourt  petitioner  precedentAlteration  respondent  splitVote  \\\n",
       "2075          1406        27.0                  0.0       106.0          1   \n",
       "9638          1703       327.0                  0.0       149.0          1   \n",
       "5444          1506        28.0                  0.0       208.0          1   \n",
       "3348          1410       111.0                  0.0        28.0          1   \n",
       "8343          1607        27.0                  0.0       240.0          1   \n",
       "\n",
       "      term  threeJudgeFdc  voteUnclear  \n",
       "2075  1960            0.0          0.0  \n",
       "9638  2009            0.0          0.0  \n",
       "5444  1978            0.0          0.0  \n",
       "3348  1967            0.0          0.0  \n",
       "8343  1996            0.0          0.0  \n",
       "\n",
       "[5 rows x 29 columns]"
      ]
     },
     "execution_count": 513,
     "metadata": {},
     "output_type": "execute_result"
    }
   ],
   "source": [
    "rf_pred_y_train = rnd_clf.predict(X_train)\n",
    "rf_pred_y_train\n",
    "X_train.head()"
   ]
  },
  {
   "cell_type": "markdown",
   "metadata": {},
   "source": [
    "#### Classification accuracy of the model"
   ]
  },
  {
   "cell_type": "code",
   "execution_count": 514,
   "metadata": {},
   "outputs": [
    {
     "data": {
      "text/plain": [
       "0.99802458296751539"
      ]
     },
     "execution_count": 514,
     "metadata": {},
     "output_type": "execute_result"
    }
   ],
   "source": [
    "from sklearn.metrics import accuracy_score\n",
    "score = accuracy_score(y_train, rf_pred_y_train)\n",
    "score"
   ]
  },
  {
   "cell_type": "markdown",
   "metadata": {},
   "source": [
    "#### AUC"
   ]
  },
  {
   "cell_type": "code",
   "execution_count": 515,
   "metadata": {},
   "outputs": [
    {
     "data": {
      "text/plain": [
       "0.99998211070267307"
      ]
     },
     "execution_count": 515,
     "metadata": {},
     "output_type": "execute_result"
    }
   ],
   "source": [
    "from sklearn.metrics import roc_curve\n",
    "from sklearn.metrics import auc,confusion_matrix\n",
    "\n",
    "rf_y_train_prob = rnd_clf.predict_proba(X_train)\n",
    "fpr, tpr, thresholds =  roc_curve(y_train, rf_y_train_prob[:,1])\n",
    "auc(fpr, tpr)"
   ]
  },
  {
   "cell_type": "markdown",
   "metadata": {},
   "source": [
    "#### Checking for Test data"
   ]
  },
  {
   "cell_type": "code",
   "execution_count": 517,
   "metadata": {},
   "outputs": [
    {
     "data": {
      "text/plain": [
       "array([ 0.,  1.,  0., ...,  1.,  0.,  1.])"
      ]
     },
     "execution_count": 517,
     "metadata": {},
     "output_type": "execute_result"
    }
   ],
   "source": [
    "rf_pred_y_test = rnd_clf.predict(X_test)\n",
    "rf_pred_y_test"
   ]
  },
  {
   "cell_type": "markdown",
   "metadata": {},
   "source": [
    "####  classification accuracy of RF model\n"
   ]
  },
  {
   "cell_type": "code",
   "execution_count": 518,
   "metadata": {},
   "outputs": [
    {
     "data": {
      "text/plain": [
       "0.92165898617511521"
      ]
     },
     "execution_count": 518,
     "metadata": {},
     "output_type": "execute_result"
    }
   ],
   "source": [
    "score_test = accuracy_score(y_test, rf_pred_y_test)\n",
    "score_test\n"
   ]
  },
  {
   "cell_type": "code",
   "execution_count": 519,
   "metadata": {},
   "outputs": [
    {
     "data": {
      "text/plain": [
       "0.9697250770695951"
      ]
     },
     "execution_count": 519,
     "metadata": {},
     "output_type": "execute_result"
    }
   ],
   "source": [
    "rf_y_test_prob = rnd_clf.predict_proba(X_test)\n",
    "fpr, tpr, thresholds =  roc_curve(y_test, rf_y_test_prob[:,1])\n",
    "auc(fpr, tpr)"
   ]
  },
  {
   "cell_type": "code",
   "execution_count": 520,
   "metadata": {},
   "outputs": [
    {
     "data": {
      "text/plain": [
       "0.94553463111756419"
      ]
     },
     "execution_count": 520,
     "metadata": {},
     "output_type": "execute_result"
    }
   ],
   "source": [
    "from sklearn import model_selection\n",
    "scores = model_selection.cross_val_score(rnd_clf, X_train, y_train, cv = 10, scoring='roc_auc')\n",
    "scores.mean()"
   ]
  },
  {
   "cell_type": "code",
   "execution_count": 521,
   "metadata": {},
   "outputs": [
    {
     "data": {
      "text/plain": [
       "0.012987243447713284"
      ]
     },
     "execution_count": 521,
     "metadata": {},
     "output_type": "execute_result"
    }
   ],
   "source": [
    "scores.std()"
   ]
  },
  {
   "cell_type": "code",
   "execution_count": 522,
   "metadata": {},
   "outputs": [
    {
     "data": {
      "text/html": [
       "<div>\n",
       "<style scoped>\n",
       "    .dataframe tbody tr th:only-of-type {\n",
       "        vertical-align: middle;\n",
       "    }\n",
       "\n",
       "    .dataframe tbody tr th {\n",
       "        vertical-align: top;\n",
       "    }\n",
       "\n",
       "    .dataframe thead th {\n",
       "        text-align: right;\n",
       "    }\n",
       "</style>\n",
       "<table border=\"1\" class=\"dataframe\">\n",
       "  <thead>\n",
       "    <tr style=\"text-align: right;\">\n",
       "      <th></th>\n",
       "      <th>authorityDecision1</th>\n",
       "      <th>caseDispositionUnusual</th>\n",
       "      <th>caseOrigin</th>\n",
       "      <th>caseSource</th>\n",
       "      <th>certReason</th>\n",
       "      <th>decisionDirection</th>\n",
       "      <th>decisionDirectionDissent</th>\n",
       "      <th>decisionType</th>\n",
       "      <th>declarationUncon</th>\n",
       "      <th>issue</th>\n",
       "      <th>...</th>\n",
       "      <th>majVotes</th>\n",
       "      <th>minVotes</th>\n",
       "      <th>naturalCourt</th>\n",
       "      <th>petitioner</th>\n",
       "      <th>precedentAlteration</th>\n",
       "      <th>respondent</th>\n",
       "      <th>splitVote</th>\n",
       "      <th>term</th>\n",
       "      <th>threeJudgeFdc</th>\n",
       "      <th>voteUnclear</th>\n",
       "    </tr>\n",
       "  </thead>\n",
       "  <tbody>\n",
       "    <tr>\n",
       "      <th>2075</th>\n",
       "      <td>4.0</td>\n",
       "      <td>0.0</td>\n",
       "      <td>94.0</td>\n",
       "      <td>22.0</td>\n",
       "      <td>12.0</td>\n",
       "      <td>1.0</td>\n",
       "      <td>0.0</td>\n",
       "      <td>1</td>\n",
       "      <td>1.0</td>\n",
       "      <td>20280.0</td>\n",
       "      <td>...</td>\n",
       "      <td>8</td>\n",
       "      <td>0</td>\n",
       "      <td>1406</td>\n",
       "      <td>27.0</td>\n",
       "      <td>0.0</td>\n",
       "      <td>106.0</td>\n",
       "      <td>1</td>\n",
       "      <td>1960</td>\n",
       "      <td>0.0</td>\n",
       "      <td>0.0</td>\n",
       "    </tr>\n",
       "    <tr>\n",
       "      <th>9638</th>\n",
       "      <td>4.0</td>\n",
       "      <td>0.0</td>\n",
       "      <td>48.0</td>\n",
       "      <td>29.0</td>\n",
       "      <td>12.0</td>\n",
       "      <td>1.0</td>\n",
       "      <td>0.0</td>\n",
       "      <td>1</td>\n",
       "      <td>1.0</td>\n",
       "      <td>30060.0</td>\n",
       "      <td>...</td>\n",
       "      <td>6</td>\n",
       "      <td>3</td>\n",
       "      <td>1703</td>\n",
       "      <td>327.0</td>\n",
       "      <td>0.0</td>\n",
       "      <td>149.0</td>\n",
       "      <td>1</td>\n",
       "      <td>2009</td>\n",
       "      <td>0.0</td>\n",
       "      <td>0.0</td>\n",
       "    </tr>\n",
       "    <tr>\n",
       "      <th>5444</th>\n",
       "      <td>2.0</td>\n",
       "      <td>0.0</td>\n",
       "      <td>302.0</td>\n",
       "      <td>301.0</td>\n",
       "      <td>12.0</td>\n",
       "      <td>1.0</td>\n",
       "      <td>0.0</td>\n",
       "      <td>1</td>\n",
       "      <td>1.0</td>\n",
       "      <td>80060.0</td>\n",
       "      <td>...</td>\n",
       "      <td>6</td>\n",
       "      <td>3</td>\n",
       "      <td>1506</td>\n",
       "      <td>28.0</td>\n",
       "      <td>0.0</td>\n",
       "      <td>208.0</td>\n",
       "      <td>1</td>\n",
       "      <td>1978</td>\n",
       "      <td>0.0</td>\n",
       "      <td>0.0</td>\n",
       "    </tr>\n",
       "    <tr>\n",
       "      <th>3348</th>\n",
       "      <td>2.0</td>\n",
       "      <td>0.0</td>\n",
       "      <td>26.0</td>\n",
       "      <td>26.0</td>\n",
       "      <td>12.0</td>\n",
       "      <td>2.0</td>\n",
       "      <td>0.0</td>\n",
       "      <td>1</td>\n",
       "      <td>1.0</td>\n",
       "      <td>60030.0</td>\n",
       "      <td>...</td>\n",
       "      <td>8</td>\n",
       "      <td>0</td>\n",
       "      <td>1410</td>\n",
       "      <td>111.0</td>\n",
       "      <td>0.0</td>\n",
       "      <td>28.0</td>\n",
       "      <td>1</td>\n",
       "      <td>1967</td>\n",
       "      <td>0.0</td>\n",
       "      <td>0.0</td>\n",
       "    </tr>\n",
       "    <tr>\n",
       "      <th>8343</th>\n",
       "      <td>4.0</td>\n",
       "      <td>0.0</td>\n",
       "      <td>48.0</td>\n",
       "      <td>29.0</td>\n",
       "      <td>2.0</td>\n",
       "      <td>2.0</td>\n",
       "      <td>0.0</td>\n",
       "      <td>1</td>\n",
       "      <td>1.0</td>\n",
       "      <td>120010.0</td>\n",
       "      <td>...</td>\n",
       "      <td>9</td>\n",
       "      <td>0</td>\n",
       "      <td>1607</td>\n",
       "      <td>27.0</td>\n",
       "      <td>0.0</td>\n",
       "      <td>240.0</td>\n",
       "      <td>1</td>\n",
       "      <td>1996</td>\n",
       "      <td>0.0</td>\n",
       "      <td>0.0</td>\n",
       "    </tr>\n",
       "  </tbody>\n",
       "</table>\n",
       "<p>5 rows × 29 columns</p>\n",
       "</div>"
      ],
      "text/plain": [
       "      authorityDecision1  caseDispositionUnusual  caseOrigin  caseSource  \\\n",
       "2075                 4.0                     0.0        94.0        22.0   \n",
       "9638                 4.0                     0.0        48.0        29.0   \n",
       "5444                 2.0                     0.0       302.0       301.0   \n",
       "3348                 2.0                     0.0        26.0        26.0   \n",
       "8343                 4.0                     0.0        48.0        29.0   \n",
       "\n",
       "      certReason  decisionDirection  decisionDirectionDissent  decisionType  \\\n",
       "2075        12.0                1.0                       0.0             1   \n",
       "9638        12.0                1.0                       0.0             1   \n",
       "5444        12.0                1.0                       0.0             1   \n",
       "3348        12.0                2.0                       0.0             1   \n",
       "8343         2.0                2.0                       0.0             1   \n",
       "\n",
       "      declarationUncon     issue     ...       majVotes  minVotes  \\\n",
       "2075               1.0   20280.0     ...              8         0   \n",
       "9638               1.0   30060.0     ...              6         3   \n",
       "5444               1.0   80060.0     ...              6         3   \n",
       "3348               1.0   60030.0     ...              8         0   \n",
       "8343               1.0  120010.0     ...              9         0   \n",
       "\n",
       "      naturalCourt  petitioner  precedentAlteration  respondent  splitVote  \\\n",
       "2075          1406        27.0                  0.0       106.0          1   \n",
       "9638          1703       327.0                  0.0       149.0          1   \n",
       "5444          1506        28.0                  0.0       208.0          1   \n",
       "3348          1410       111.0                  0.0        28.0          1   \n",
       "8343          1607        27.0                  0.0       240.0          1   \n",
       "\n",
       "      term  threeJudgeFdc  voteUnclear  \n",
       "2075  1960            0.0          0.0  \n",
       "9638  2009            0.0          0.0  \n",
       "5444  1978            0.0          0.0  \n",
       "3348  1967            0.0          0.0  \n",
       "8343  1996            0.0          0.0  \n",
       "\n",
       "[5 rows x 29 columns]"
      ]
     },
     "execution_count": 522,
     "metadata": {},
     "output_type": "execute_result"
    }
   ],
   "source": [
    "X_train.head()"
   ]
  },
  {
   "cell_type": "code",
   "execution_count": 523,
   "metadata": {},
   "outputs": [
    {
     "data": {
      "text/plain": [
       "lcDispositionDirection      0.167611\n",
       "decisionDirection           0.159288\n",
       "respondent                  0.079759\n",
       "issue                       0.067833\n",
       "petitioner                  0.063028\n",
       "term                        0.045987\n",
       "majOpinWriter               0.045571\n",
       "issueArea                   0.041300\n",
       "caseSource                  0.037582\n",
       "caseOrigin                  0.037306\n",
       "naturalCourt                0.035105\n",
       "lawSupp                     0.031099\n",
       "lcDisposition               0.028331\n",
       "majOpinAssigner             0.027400\n",
       "certReason                  0.026287\n",
       "majVotes                    0.020894\n",
       "minVotes                    0.020150\n",
       "declarationUncon            0.016239\n",
       "lawType                     0.012903\n",
       "authorityDecision1          0.011565\n",
       "lcDisagreement              0.009606\n",
       "decisionDirectionDissent    0.004287\n",
       "caseDispositionUnusual      0.002974\n",
       "jurisdiction                0.002692\n",
       "decisionType                0.002354\n",
       "threeJudgeFdc               0.001148\n",
       "precedentAlteration         0.000993\n",
       "voteUnclear                 0.000711\n",
       "splitVote                   0.000000\n",
       "dtype: float64"
      ]
     },
     "execution_count": 523,
     "metadata": {},
     "output_type": "execute_result"
    }
   ],
   "source": [
    "feature_imp = pd.Series(rnd_clf.feature_importances_,index=X_train.columns).sort_values(ascending=False) \n",
    "feature_imp"
   ]
  },
  {
   "cell_type": "code",
   "execution_count": 524,
   "metadata": {},
   "outputs": [
    {
     "name": "stderr",
     "output_type": "stream",
     "text": [
      "No handles with labels found to put in legend.\n"
     ]
    },
    {
     "data": {
      "image/png": "[encoded data removed]",
      "text/plain": [
       "<matplotlib.figure.Figure at 0x1c865c20b38>"
      ]
     },
     "metadata": {},
     "output_type": "display_data"
    }
   ],
   "source": [
    "import matplotlib.pyplot as plt\n",
    "import seaborn as sns\n",
    "%matplotlib inline\n",
    "# Creating a bar plot\n",
    "feature_imp=feature_imp[0:10,]\n",
    "\n",
    "sns.barplot(x=feature_imp, y=feature_imp.index)\n",
    "# Add labels to your graph\n",
    "plt.xlabel('Feature Importance Score')\n",
    "plt.ylabel('Features')\n",
    "plt.title(\"Visualizing Important Features\")\n",
    "plt.legend()\n",
    "plt.show()"
   ]
  },
  {
   "cell_type": "markdown",
   "metadata": {},
   "source": [
    "#### Parameter Tuning"
   ]
  },
  {
   "cell_type": "code",
   "execution_count": 525,
   "metadata": {},
   "outputs": [],
   "source": [
    "import time\n",
    "from sklearn.grid_search import GridSearchCV"
   ]
  },
  {
   "cell_type": "code",
   "execution_count": null,
   "metadata": {},
   "outputs": [],
   "source": [
    "np.random.seed(20)\n",
    "start = time.time()\n",
    "\n",
    "param_dist = {\n",
    "    \n",
    "              'n_estimators':np.arange(10,20),\n",
    "              'max_depth': np.arange(3,20),\n",
    "              'bootstrap': [True, False],\n",
    "              'max_features': ['auto', 'sqrt', 'log2', None],\n",
    "              'criterion': ['gini', 'entropy']}\n",
    "\n",
    "cv_rf = GridSearchCV(rnd_clf, cv = 10,\n",
    "                     param_grid=param_dist, \n",
    "                     n_jobs = 3)\n",
    "\n",
    "cv_rf.fit(X_train, y_train)\n",
    "print('Best Parameters using grid search: \\n', \n",
    "      cv_rf.best_params_)\n",
    "end = time.time()\n",
    "print('Time taken in grid search: {0: .2f}'.format(end - start))"
   ]
  },
  {
   "cell_type": "code",
   "execution_count": 527,
   "metadata": {},
   "outputs": [
    {
     "data": {
      "text/plain": [
       "RandomForestClassifier(bootstrap=True, class_weight=None, criterion='entropy',\n",
       "            max_depth=4, max_features=None, max_leaf_nodes=None,\n",
       "            min_impurity_split=1e-07, min_samples_leaf=1,\n",
       "            min_samples_split=2, min_weight_fraction_leaf=0.0,\n",
       "            n_estimators=10, n_jobs=1, oob_score=False, random_state=None,\n",
       "            verbose=0, warm_start=False)"
      ]
     },
     "execution_count": 527,
     "metadata": {},
     "output_type": "execute_result"
    }
   ],
   "source": [
    "rf_classifier = cv_rf.best_estimator_\n",
    "rf_classifier.fit(X_train,y_train)"
   ]
  },
  {
   "cell_type": "markdown",
   "metadata": {},
   "source": [
    "#### AUC"
   ]
  },
  {
   "cell_type": "code",
   "execution_count": 528,
   "metadata": {},
   "outputs": [
    {
     "data": {
      "text/plain": [
       "0.95479415690311986"
      ]
     },
     "execution_count": 528,
     "metadata": {},
     "output_type": "execute_result"
    }
   ],
   "source": [
    "cl_rf_y_train_prob = classifier.predict_proba(X_train)\n",
    "fpr, tpr, thresholds = roc_curve(y_train, cl_rf_y_train_prob[:,1])\n",
    "auc_train = auc(fpr, tpr)\n",
    "auc_train"
   ]
  },
  {
   "cell_type": "code",
   "execution_count": null,
   "metadata": {},
   "outputs": [],
   "source": []
  },
  {
   "cell_type": "code",
   "execution_count": null,
   "metadata": {},
   "outputs": [],
   "source": []
  }
 ],
 "metadata": {
  "kernelspec": {
   "display_name": "Python 3",
   "language": "python",
   "name": "python3"
  },
  "language_info": {
   "codemirror_mode": {
    "name": "ipython",
    "version": 3
   },
   "file_extension": ".py",
   "mimetype": "text/x-python",
   "name": "python",
   "nbconvert_exporter": "python",
   "pygments_lexer": "ipython3",
   "version": "3.6.4"
  }
 },
 "nbformat": 4,
 "nbformat_minor": 2
}

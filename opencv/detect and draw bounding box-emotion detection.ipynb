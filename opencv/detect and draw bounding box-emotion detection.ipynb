{
 "cells": [
  {
   "cell_type": "code",
   "execution_count": 1,
   "metadata": {},
   "outputs": [
    {
     "name": "stderr",
     "output_type": "stream",
     "text": [
      "Using TensorFlow backend.\n"
     ]
    }
   ],
   "source": [
    "import keras\n",
    "import numpy as np\n",
    "from keras.preprocessing import image\n",
    "from keras.preprocessing.image import load_img\n",
    "import cv2"
   ]
  },
  {
   "cell_type": "code",
   "execution_count": 2,
   "metadata": {},
   "outputs": [],
   "source": [
    "face_cascade=cv2.CascadeClassifier('haarcascade_frontalface_default.xml')"
   ]
  },
  {
   "cell_type": "code",
   "execution_count": 3,
   "metadata": {},
   "outputs": [],
   "source": [
    "from keras.models import model_from_json"
   ]
  },
  {
   "cell_type": "code",
   "execution_count": 4,
   "metadata": {},
   "outputs": [
    {
     "name": "stdout",
     "output_type": "stream",
     "text": [
      "WARNING:tensorflow:From /home/vishnu/anaconda3_2/lib/python3.7/site-packages/tensorflow_core/python/ops/resource_variable_ops.py:1630: calling BaseResourceVariable.__init__ (from tensorflow.python.ops.resource_variable_ops) with constraint is deprecated and will be removed in a future version.\n",
      "Instructions for updating:\n",
      "If using Keras pass *_constraint arguments to layers.\n",
      "WARNING:tensorflow:From /home/vishnu/anaconda3_2/lib/python3.7/site-packages/keras/backend/tensorflow_backend.py:4070: The name tf.nn.max_pool is deprecated. Please use tf.nn.max_pool2d instead.\n",
      "\n",
      "WARNING:tensorflow:From /home/vishnu/anaconda3_2/lib/python3.7/site-packages/keras/backend/tensorflow_backend.py:4074: The name tf.nn.avg_pool is deprecated. Please use tf.nn.avg_pool2d instead.\n",
      "\n"
     ]
    }
   ],
   "source": [
    "model=model_from_json(open('/home/vishnu/my_project_dir/open cv learning/facial_expression_model_structure.json','r').read())\n",
    "model.load_weights('/home/vishnu/my_project_dir/open cv learning/facial_expression_model_weights.h5')"
   ]
  },
  {
   "cell_type": "code",
   "execution_count": 5,
   "metadata": {},
   "outputs": [],
   "source": [
    "emotions=('angry','disgust','fear','happy','sad','surprise','neutral')"
   ]
  },
  {
   "cell_type": "code",
   "execution_count": 52,
   "metadata": {},
   "outputs": [],
   "source": [
    "def detect(image):\n",
    "    image_load=cv2.imread(image)\n",
    "    gray = cv2.cvtColor(image_load,cv2.COLOR_BGR2GRAY)\n",
    "    faces=face_cascade.detectMultiScale(gray,1.3,5)\n",
    "    \n",
    "    pred_list =[]\n",
    "    \n",
    "    for (x,y,w,h) in faces:\n",
    "        cv2.rectangle(image_load,(x,y),(x+w,y+h),(255,0,0),2)\n",
    "        detected_face=image_load[int(y):int(y+h),int(x):int(x+w)]\n",
    "        detected_face=cv2.cvtColor(detected_face,cv2.COLOR_BGR2GRAY)\n",
    "        \n",
    "        detected_face =cv2.resize(detected_face,(48,48))\n",
    "        \n",
    "        img_pixels=keras.preprocessing.image.img_to_array(detected_face)\n",
    "        img_pixels=np.expand_dims(img_pixels,axis=0)\n",
    "        img_pixels /=255\n",
    "        \n",
    "        predictions=model.predict(img_pixels)\n",
    "        \n",
    "        max_index=np.argmax(predictions[0])\n",
    "        \n",
    "        \n",
    "        percentage =round(predictions[0][max_index]*100,2)\n",
    "        \n",
    "        emotion=emotions[max_index]\n",
    "        \n",
    "        pred_list =[emotion,percentage]\n",
    "        \n",
    "        cv2.putText(image_load,emotion,(int(x),int(y)),cv2.FONT_HERSHEY_SIMPLEX,1,(255,255,255),2)\n",
    "        \n",
    "    cv2.imshow('Image Prediction',image_load)\n",
    "    cv2.waitKey(0)\n",
    "    cv2.destroyAllWindows()\n",
    "    \n",
    "    return pred_list"
   ]
  },
  {
   "cell_type": "code",
   "execution_count": 55,
   "metadata": {},
   "outputs": [],
   "source": [
    "pred=detect(\"jlo.jpg\")"
   ]
  },
  {
   "cell_type": "code",
   "execution_count": 56,
   "metadata": {},
   "outputs": [
    {
     "data": {
      "text/plain": [
       "['happy', 95.51]"
      ]
     },
     "execution_count": 56,
     "metadata": {},
     "output_type": "execute_result"
    }
   ],
   "source": [
    "pred"
   ]
  },
  {
   "cell_type": "markdown",
   "metadata": {},
   "source": [
    "### making inference predictions"
   ]
  },
  {
   "cell_type": "code",
   "execution_count": 6,
   "metadata": {},
   "outputs": [],
   "source": [
    "from keras.models import model_from_json\n",
    "\n",
    "import matplotlib.pyplot as plt\n",
    "import numpy as np\n",
    "from keras.preprocessing import image\n"
   ]
  },
  {
   "cell_type": "code",
   "execution_count": 7,
   "metadata": {},
   "outputs": [],
   "source": [
    "model=model_from_json(open(\"facial_expression_model_structure.json\",'r').read())\n",
    "model.load_weights(\"facial_expression_model_weights.h5\")"
   ]
  },
  {
   "cell_type": "code",
   "execution_count": 71,
   "metadata": {},
   "outputs": [],
   "source": [
    "def emotion_analysis(emotion):\n",
    "    objects=('angry','disgust','fear','happy','sad','surprise','neutral')\n",
    "    \n",
    "    y_position=np.arange(len(objects))\n",
    "    \n",
    "    plt.bar(y_position,emotion,align='center',alpha=0.5)\n",
    "    plt.xticks(y_position,objects)\n",
    "    \n",
    "    plt.ylabel('percentage')\n",
    "    plt.title('emotion classifier')\n",
    "    plt.show()"
   ]
  },
  {
   "cell_type": "code",
   "execution_count": 60,
   "metadata": {},
   "outputs": [],
   "source": [
    "img=image.load_img('jlo.jpg',color_mode='grayscale',target_size=(48,48))\n"
   ]
  },
  {
   "cell_type": "code",
   "execution_count": 61,
   "metadata": {},
   "outputs": [],
   "source": [
    "x=keras.preprocessing.image.img_to_array(img)\n",
    "x=np.expand_dims(x,axis=0)\n",
    "\n",
    "x/=255\n"
   ]
  },
  {
   "cell_type": "code",
   "execution_count": 62,
   "metadata": {},
   "outputs": [],
   "source": [
    "custom_pred=model.predict(x)"
   ]
  },
  {
   "cell_type": "code",
   "execution_count": 63,
   "metadata": {},
   "outputs": [
    {
     "data": {
      "text/plain": [
       "array([0.10456069, 0.00516749, 0.27491385, 0.06169217, 0.3456182 ,\n",
       "       0.04911722, 0.15893039], dtype=float32)"
      ]
     },
     "execution_count": 63,
     "metadata": {},
     "output_type": "execute_result"
    }
   ],
   "source": [
    "custom_pred[0]"
   ]
  },
  {
   "cell_type": "code",
   "execution_count": 72,
   "metadata": {},
   "outputs": [
    {
     "data": {
      "image/png": "[encoded data removed]",
      "text/plain": [
       "<Figure size 432x288 with 1 Axes>"
      ]
     },
     "metadata": {
      "needs_background": "light"
     },
     "output_type": "display_data"
    }
   ],
   "source": [
    "emotion_analysis(custom_pred[0])"
   ]
  },
  {
   "cell_type": "markdown",
   "metadata": {},
   "source": [
    "### video Analysis"
   ]
  },
  {
   "cell_type": "code",
   "execution_count": 31,
   "metadata": {},
   "outputs": [],
   "source": [
    "cap=cv2.VideoCapture(0)\n",
    "frame=0\n",
    "\n",
    "while(True):\n",
    "    ret,img=cap.read()\n",
    "    #img=cv2.resize(img,(640,360))\n",
    "    img=img[0:308,:]\n",
    "    gray=cv2.cvtColor(img,cv2.COLOR_BGR2GRAY)\n",
    "    faces=face_cascade.detectMultiScale(gray,1.3,5)\n",
    "    \n",
    "    for (x,y,w,h) in faces:\n",
    "        if w>130:\n",
    "            detected_face=img[int(y):int(y+h),int(x):int(x+w)]\n",
    "            detected_face=cv2.cvtColor(detected_face,cv2.COLOR_BGR2GRAY)\n",
    "            detected_face=cv2.resize(detected_face,(48,48))\n",
    "            \n",
    "            \n",
    "            img_pixels=keras.preprocessing.image.img_to_array(detected_face)\n",
    "            img_pixels=np.expand_dims(img_pixels,axis=0)\n",
    "            img_pixels /=255\n",
    "            \n",
    "            predictions=model.predict(img_pixels)\n",
    "            max_index=np.argmax(predictions[0])\n",
    "            \n",
    "            overlay = img.copy()\n",
    "            opacity =0.4\n",
    "            cv2.rectangle(img,(x+w+10,y-25),(x+w+150,y+115),(64,64,64),cv2.FILLED)\n",
    "            cv2.addWeighted(overlay,opacity,img,1-opacity,0,img)\n",
    "            cv2.line(img,(int((x+x+w)/2),y+15),(x+w,y-20),(255,255,255),1)\n",
    "            cv2.line(img,((x+w),y-20),(x+w+10,y-20),(255,255,255),1)\n",
    "            \n",
    "            \n",
    "            emotion=\"\"\n",
    "            for i in range(len(predictions[0])):\n",
    "                emotion=\"%s %s%s\"%(emotions[i],round(predictions[0][i]*100,2),'%')\n",
    "                \n",
    "                if i!=max_index:\n",
    "                    color=(255,0,0)\n",
    "                    \n",
    "                color =(255,255,255)\n",
    "                cv2.putText(img,emotion,(int(x+w+15),int(y-12+i*20)),cv2.FONT_HERSHEY_SIMPLEX,0.5,color,1)\n",
    "                \n",
    "    cv2.imshow('img',img)\n",
    "    frame=frame+1\n",
    "    if cv2.waitKey(1) & 0xFF ==ord('q'):\n",
    "        break\n",
    "        \n",
    "        \n",
    "cap.release()\n",
    "cv2.destroyAllWindows()"
   ]
  },
  {
   "cell_type": "code",
   "execution_count": null,
   "metadata": {},
   "outputs": [],
   "source": []
  },
  {
   "cell_type": "code",
   "execution_count": null,
   "metadata": {},
   "outputs": [],
   "source": []
  }
 ],
 "metadata": {
  "kernelspec": {
   "display_name": "Python 3",
   "language": "python",
   "name": "python3"
  },
  "language_info": {
   "codemirror_mode": {
    "name": "ipython",
    "version": 3
   },
   "file_extension": ".py",
   "mimetype": "text/x-python",
   "name": "python",
   "nbconvert_exporter": "python",
   "pygments_lexer": "ipython3",
   "version": "3.7.3"
  }
 },
 "nbformat": 4,
 "nbformat_minor": 2
}

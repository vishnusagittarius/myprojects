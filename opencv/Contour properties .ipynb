{
 "cells": [
  {
   "cell_type": "markdown",
   "metadata": {},
   "source": [
    "#### Properties\n",
    "1.Area\n",
    "\n",
    "2.perimeter\n",
    "\n",
    "3.Aspect Ratio\n",
    "\n",
    "4.Extent\n",
    "\n",
    "5.Hull Area\n",
    "\n",
    "6.Solidity\n"
   ]
  },
  {
   "cell_type": "code",
   "execution_count": 2,
   "metadata": {},
   "outputs": [],
   "source": [
    "import numpy as np\n",
    "import cv2"
   ]
  },
  {
   "cell_type": "code",
   "execution_count": 3,
   "metadata": {},
   "outputs": [
    {
     "name": "stdout",
     "output_type": "stream",
     "text": [
      "9369.0\n",
      "9562.5\n",
      "9847.5\n",
      "11433.0\n",
      "9519.0\n",
      "10267.0\n"
     ]
    }
   ],
   "source": [
    "frame = cv2.imread(\"coins.jpg\")\n",
    "\n",
    "\n",
    "frame = cv2.resize(frame, (640,480))\n",
    "\n",
    "gray = cv2.cvtColor(frame, cv2.COLOR_BGR2GRAY)\n",
    "\n",
    "gray_blur = cv2.GaussianBlur(gray, (15, 15), 0)\n",
    "thresh = cv2.adaptiveThreshold(gray_blur, 255, cv2.ADAPTIVE_THRESH_GAUSSIAN_C,cv2.THRESH_BINARY_INV, 11, 1)\n",
    "\n",
    "kernel = np.ones((5, 5), np.uint8)\n",
    "closing = cv2.morphologyEx(thresh, cv2.MORPH_CLOSE,kernel, iterations=4)\n",
    "\n",
    "closing_img = closing.copy()\n",
    "im2, contours, hierarchy = cv2.findContours(closing_img,cv2.RETR_TREE,cv2.CHAIN_APPROX_SIMPLE)\n",
    "\n",
    "\n",
    "font = cv2.FONT_HERSHEY_SIMPLEX\n",
    "\n",
    "\n",
    "segment_prop = {}\n",
    "segments = []\n",
    "\n",
    "for cnt in contours:\n",
    "\n",
    "    area = cv2.contourArea(cnt)\n",
    "   \n",
    "    if area < 1000:\n",
    "        continue\n",
    "    \n",
    "    print(area)\n",
    "    \n",
    "    ellipse = cv2.fitEllipse(cnt)\n",
    "    \n",
    "    segment_prop['area'] = area\n",
    "    segment_prop['perimeter'] = perimeter = cv2.arcLength(cnt,True)\n",
    "    \n",
    "    x,y,w,h = cv2.boundingRect(cnt)\n",
    "    segment_prop['aspect_ratio'] = aspect_ratio = float(w)/h\n",
    "            \n",
    "    rect_area = w*h\n",
    "    segment_prop['extent'] = extent = float(area)/rect_area       \n",
    "                         \n",
    "    hull = cv2.convexHull(cnt)\n",
    "    hull_area = cv2.contourArea(hull)\n",
    "    segment_prop['solidity'] = solidity = float(area)/hull_area\n",
    "                \n",
    "    segments.append(segment_prop)\n",
    "    #Replace Solidity with the other properties to find the results respectively     \n",
    "    text = round(segment_prop['solidity'],3)\n",
    "    \n",
    "    cv2.putText(frame,str(text),(x,y), font, 1,(255,255,255),2,cv2.LINE_AA)\n",
    "    cv2.ellipse(frame, ellipse, (0,255,0), 2)\n",
    "\n",
    "\n",
    "del segment_prop\n",
    "\n",
    "cv2.imshow(\"Morphological Closing\", closing)\n",
    "cv2.imshow('Contours', frame)\n",
    "\n",
    "if cv2.waitKey(0) & 0xff == 27:\n",
    "    cv2.destroyAllWindows()"
   ]
  },
  {
   "cell_type": "code",
   "execution_count": null,
   "metadata": {},
   "outputs": [],
   "source": []
  }
 ],
 "metadata": {
  "kernelspec": {
   "display_name": "Python 3",
   "language": "python",
   "name": "python3"
  },
  "language_info": {
   "codemirror_mode": {
    "name": "ipython",
    "version": 3
   },
   "file_extension": ".py",
   "mimetype": "text/x-python",
   "name": "python",
   "nbconvert_exporter": "python",
   "pygments_lexer": "ipython3",
   "version": "3.7.3"
  }
 },
 "nbformat": 4,
 "nbformat_minor": 2
}

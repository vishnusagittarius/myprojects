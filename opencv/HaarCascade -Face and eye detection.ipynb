{
 "cells": [
  {
   "cell_type": "code",
   "execution_count": 7,
   "metadata": {},
   "outputs": [],
   "source": [
    "import numpy as np\n",
    "import cv2"
   ]
  },
  {
   "cell_type": "code",
   "execution_count": 8,
   "metadata": {},
   "outputs": [
    {
     "name": "stdout",
     "output_type": "stream",
     "text": [
      "System Exit\n"
     ]
    }
   ],
   "source": [
    "\n",
    "\n",
    "face_cascade = cv2.CascadeClassifier('haarcascade_frontalface_default.xml')\n",
    "eye_cascade = cv2.CascadeClassifier('haarcascade_eye.xml')\n",
    "\n",
    "cap = cv2.VideoCapture(0) #Open video file\n",
    "\n",
    "while(cap.isOpened()):\n",
    "             \n",
    "    ret, frame = cap.read() #read a frame  \n",
    "    if ret==False:\n",
    "        print(\"No Camera found\")\n",
    "        break\n",
    "         \n",
    "    gray = cv2.cvtColor(frame, cv2.COLOR_BGR2GRAY) \n",
    "\n",
    "    \n",
    "    faces = face_cascade.detectMultiScale(gray, 1.3, 5)   \n",
    "\n",
    "    for (x1,y1,w1,h1) in faces:\n",
    "        cv2.rectangle(frame,(x1,y1),(x1+w1,y1+h1),(255,0,255),2)\n",
    "\n",
    "\n",
    "    eyes = eye_cascade.detectMultiScale(gray, 1.3, 5)   \n",
    "\n",
    "    for (x1,y1,w1,h1) in eyes:\n",
    "        cv2.rectangle(frame,(x1,y1),(x1+w1,y1+h1),(255,0,255),2)  \n",
    "        \n",
    "    cv2.imshow('frame',frame)\n",
    "\n",
    "        #Abort and exit with 'Q' or ESC\n",
    "    k = cv2.waitKey(30) & 0xff\n",
    "    if k == 27:\n",
    "        break\n",
    "\n",
    "\n",
    "cap.release() #release video file\n",
    "cv2.destroyAllWindows() #close all openCV windows    \n",
    "print(\"System Exit\")   "
   ]
  },
  {
   "cell_type": "code",
   "execution_count": null,
   "metadata": {},
   "outputs": [],
   "source": []
  }
 ],
 "metadata": {
  "kernelspec": {
   "display_name": "Python 3",
   "language": "python",
   "name": "python3"
  },
  "language_info": {
   "codemirror_mode": {
    "name": "ipython",
    "version": 3
   },
   "file_extension": ".py",
   "mimetype": "text/x-python",
   "name": "python",
   "nbconvert_exporter": "python",
   "pygments_lexer": "ipython3",
   "version": "3.7.3"
  }
 },
 "nbformat": 4,
 "nbformat_minor": 2
}

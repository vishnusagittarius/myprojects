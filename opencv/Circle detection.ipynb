{
 "cells": [
  {
   "cell_type": "code",
   "execution_count": 1,
   "metadata": {},
   "outputs": [],
   "source": [
    "import cv2\n",
    "import numpy as np"
   ]
  },
  {
   "cell_type": "code",
   "execution_count": 2,
   "metadata": {},
   "outputs": [],
   "source": [
    "img = cv2.imread('shapes.jpg',0)\n",
    "#img = cv2.imread('opencv-logo.png',0)\n",
    "img = cv2.medianBlur(img,5)\n",
    "color_img = cv2.cvtColor(img,cv2.COLOR_GRAY2BGR)\n",
    "\n",
    "\n",
    "#img = cv2.threshold(img, 50, 255,cv2.THRESH_BINARY)[1]\n",
    "\n",
    "\n",
    "dp=1 # Inverse ratio of the accumulator resolution to the image resolution\n",
    "minDist=10 # Minimum distance between the centers of the detected circles\n",
    "circles = cv2.HoughCircles(img,cv2.HOUGH_GRADIENT,dp,minDist,\n",
    "                            param1=50,param2=30,minRadius=0,maxRadius=300)\n",
    "\n",
    "circles = np.uint16(np.around(circles))\n",
    "for i in circles[0,:]:\n",
    "    # draw the outer circle\n",
    "    cv2.circle(color_img,(i[0],i[1]),i[2],(0,255,0),2)\n",
    "    # draw the center of the circle\n",
    "    cv2.circle(color_img,(i[0],i[1]),2,(0,0,255),3)\n",
    "\n",
    "\n",
    "#cv2.imshow('thresh',img)\n",
    "cv2.imshow('detected circles',color_img)\n",
    "cv2.waitKey(0)\n",
    "cv2.destroyAllWindows()"
   ]
  },
  {
   "cell_type": "code",
   "execution_count": null,
   "metadata": {},
   "outputs": [],
   "source": []
  }
 ],
 "metadata": {
  "kernelspec": {
   "display_name": "Python 3",
   "language": "python",
   "name": "python3"
  },
  "language_info": {
   "codemirror_mode": {
    "name": "ipython",
    "version": 3
   },
   "file_extension": ".py",
   "mimetype": "text/x-python",
   "name": "python",
   "nbconvert_exporter": "python",
   "pygments_lexer": "ipython3",
   "version": "3.7.3"
  }
 },
 "nbformat": 4,
 "nbformat_minor": 2
}

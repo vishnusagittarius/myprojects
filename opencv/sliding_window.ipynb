{
 "cells": [
  {
   "cell_type": "code",
   "execution_count": 2,
   "metadata": {},
   "outputs": [],
   "source": [
    "import time\n",
    "import cv2"
   ]
  },
  {
   "cell_type": "code",
   "execution_count": 3,
   "metadata": {},
   "outputs": [],
   "source": []
  },
  {
   "cell_type": "code",
   "execution_count": 8,
   "metadata": {},
   "outputs": [
    {
     "name": "stdout",
     "output_type": "stream",
     "text": [
      "elapsed time:  19.81481695175171\n"
     ]
    }
   ],
   "source": [
    "import time\n",
    "import cv2\n",
    "\n",
    "bf = cv2.BFMatcher()\n",
    "sift = cv2.xfeatures2d.SIFT_create()\n",
    "\n",
    "def find_score(des1,des2):\n",
    "    \n",
    "    matches = bf.knnMatch(des1, des2, k=2)\n",
    "    good = []\n",
    "    for m, n in matches:\n",
    "        if m.distance < 0.3 * n.distance:\n",
    "            good.append([m])\n",
    "     \n",
    "    try:\n",
    "        score = len(good)/len(matches)\n",
    "        return score\n",
    "    except:\n",
    "        return 0\n",
    "\n",
    "score_list=[]\n",
    "window_list=[]\n",
    "d={}\n",
    "# load the image and define the window width and height\n",
    "image = cv2.imread(\"/home/vishnu/my_project_dir/open cv learning/search_logos/search_logos/logo2.png\")\n",
    "image2=cv2.imread(\"/home/vishnu/my_project_dir/open cv learning/search_logos/search_logos/fcb.png\")\n",
    "kp1, desc1 = sift.detectAndCompute(image2,None)\n",
    "maximum_score=0\n",
    "stepSize=230\n",
    "window_width, window_height = 450, 100\n",
    "\n",
    "start_time = time.time()\n",
    "for y in range(0, image.shape[0], stepSize):\n",
    "    for x in range(0, image.shape[1], stepSize):\n",
    "\n",
    "\n",
    "        clone = image.copy()\n",
    "        points = (x, y)\n",
    "        cv2.rectangle(clone, (x, y), (x+window_width,y+window_height), (0, 255, 0), 2)\n",
    "        crop_img = clone[x: x+window_width, y:y+window_height]\n",
    "        kp2, desc2=sift.detectAndCompute(crop_img ,None)\n",
    "        score = find_score(desc2,desc1)\n",
    "        score_list.append(score)\n",
    "        \n",
    "        window_list.append((x, y))\n",
    "        cv2.imshow(\"Window\", clone)\n",
    "        cv2.waitKey(1)\n",
    "        time.sleep(0.5)\n",
    "        \n",
    "        \n",
    "        k = cv2.waitKey(30) & 0xff\n",
    "        if k == 27:\n",
    "            break\n",
    "    \n",
    "d=dict(zip(window_list,score_list))    \n",
    "\n",
    "(x,y)=list(d.keys())[list(d.values()).index(max(d.values()))]\n",
    "clone=image.copy()\n",
    "cv2.rectangle(clone, (x, y), (x+window_width,y+window_height), (0, 255, 0), 2)\n",
    "cv2.imshow(\"Window\", clone)\n",
    "cv2.waitKey(1)\n",
    "time.sleep(0.5)\n",
    "cv2.waitKey(5000)\n",
    "\n",
    "print(\"elapsed time: \", time.time() - start_time )\n",
    "cv2.destroyAllWindows()"
   ]
  },
  {
   "cell_type": "code",
   "execution_count": 5,
   "metadata": {},
   "outputs": [
    {
     "data": {
      "text/plain": [
       "{(0, 0): 0,\n",
       " (230, 0): 0,\n",
       " (460, 0): 0,\n",
       " (690, 0): 0,\n",
       " (920, 0): 0,\n",
       " (0, 230): 0.0,\n",
       " (230, 230): 0.0,\n",
       " (460, 230): 0,\n",
       " (690, 230): 0,\n",
       " (920, 230): 0,\n",
       " (0, 460): 0.0,\n",
       " (230, 460): 0.027777777777777776,\n",
       " (460, 460): 0.025,\n",
       " (690, 460): 0.0,\n",
       " (920, 460): 0,\n",
       " (0, 690): 0.0,\n",
       " (230, 690): 0.0,\n",
       " (460, 690): 0,\n",
       " (690, 690): 0,\n",
       " (920, 690): 0,\n",
       " (0, 920): 0,\n",
       " (230, 920): 0,\n",
       " (460, 920): 0,\n",
       " (690, 920): 0,\n",
       " (920, 920): 0}"
      ]
     },
     "execution_count": 5,
     "metadata": {},
     "output_type": "execute_result"
    }
   ],
   "source": [
    "d"
   ]
  },
  {
   "cell_type": "code",
   "execution_count": 7,
   "metadata": {},
   "outputs": [],
   "source": [
    "\n",
    "cv2.destroyAllWindows()"
   ]
  },
  {
   "cell_type": "code",
   "execution_count": 1,
   "metadata": {},
   "outputs": [
    {
     "ename": "NameError",
     "evalue": "name 'd' is not defined",
     "output_type": "error",
     "traceback": [
      "\u001b[0;31m---------------------------------------------------------------------------\u001b[0m",
      "\u001b[0;31mNameError\u001b[0m                                 Traceback (most recent call last)",
      "\u001b[0;32m<ipython-input-1-aee075540d77>\u001b[0m in \u001b[0;36m<module>\u001b[0;34m\u001b[0m\n\u001b[0;32m----> 1\u001b[0;31m \u001b[0md\u001b[0m\u001b[0;34m.\u001b[0m\u001b[0mindex\u001b[0m\u001b[0;34m(\u001b[0m\u001b[0mmax\u001b[0m\u001b[0;34m(\u001b[0m\u001b[0md\u001b[0m\u001b[0;34m.\u001b[0m\u001b[0mvalues\u001b[0m\u001b[0;34m(\u001b[0m\u001b[0;34m)\u001b[0m\u001b[0;34m)\u001b[0m\u001b[0;34m)\u001b[0m\u001b[0;34m\u001b[0m\u001b[0;34m\u001b[0m\u001b[0m\n\u001b[0m",
      "\u001b[0;31mNameError\u001b[0m: name 'd' is not defined"
     ]
    }
   ],
   "source": [
    "d.index(max(d.values()))"
   ]
  },
  {
   "cell_type": "code",
   "execution_count": 8,
   "metadata": {},
   "outputs": [
    {
     "name": "stdout",
     "output_type": "stream",
     "text": [
      "(460, 460)\n"
     ]
    }
   ],
   "source": [
    "print(list(d.keys())[list(d.values()).index(max(d.values()))])"
   ]
  },
  {
   "cell_type": "code",
   "execution_count": null,
   "metadata": {},
   "outputs": [],
   "source": []
  }
 ],
 "metadata": {
  "kernelspec": {
   "display_name": "Python 3",
   "language": "python",
   "name": "python3"
  },
  "language_info": {
   "codemirror_mode": {
    "name": "ipython",
    "version": 3
   },
   "file_extension": ".py",
   "mimetype": "text/x-python",
   "name": "python",
   "nbconvert_exporter": "python",
   "pygments_lexer": "ipython3",
   "version": "3.7.3"
  }
 },
 "nbformat": 4,
 "nbformat_minor": 2
}

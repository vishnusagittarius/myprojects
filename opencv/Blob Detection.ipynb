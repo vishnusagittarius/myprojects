{
 "cells": [
  {
   "cell_type": "markdown",
   "metadata": {},
   "source": [
    "#### Blob is a shape with a shade of colour inside it"
   ]
  },
  {
   "cell_type": "code",
   "execution_count": 2,
   "metadata": {},
   "outputs": [],
   "source": [
    "import numpy as np\n",
    "import cv2"
   ]
  },
  {
   "cell_type": "code",
   "execution_count": 5,
   "metadata": {},
   "outputs": [],
   "source": [
    "params = cv2.SimpleBlobDetector_Params()\n",
    "params.filterByArea=True\n",
    "params.minArea = 100\n",
    "\n",
    "# Filter by Circularity\n",
    "# params.filterByCircularity = True\n",
    "# params.maxCircularity = 0.9\n",
    " \n",
    "detector = cv2.SimpleBlobDetector_create(params)\n",
    "     \n",
    "\n",
    "\n",
    "# Read image\n",
    "im = cv2.imread(\"shapes.jpg\")\n",
    "#im = cv2.GaussianBlur(im,(5,5),0)\n",
    "\n",
    "\n",
    "\n",
    "keypoints = detector.detect(im)\n",
    "\n",
    "im_with_keypoints = cv2.drawKeypoints(im, keypoints, np.array([]), (0,0,255), cv2.DRAW_MATCHES_FLAGS_DRAW_RICH_KEYPOINTS)\n",
    " \n",
    "\n",
    "#cv2.imshow(\"thresh\", thresh)\n",
    "cv2.imshow(\"blobs\", im_with_keypoints)\n",
    "\n",
    "if cv2.waitKey(0) & 0xff == 27:\n",
    "    cv2.destroyAllWindows()\n"
   ]
  },
  {
   "cell_type": "code",
   "execution_count": null,
   "metadata": {},
   "outputs": [],
   "source": []
  }
 ],
 "metadata": {
  "kernelspec": {
   "display_name": "Python 3",
   "language": "python",
   "name": "python3"
  },
  "language_info": {
   "codemirror_mode": {
    "name": "ipython",
    "version": 3
   },
   "file_extension": ".py",
   "mimetype": "text/x-python",
   "name": "python",
   "nbconvert_exporter": "python",
   "pygments_lexer": "ipython3",
   "version": "3.7.3"
  }
 },
 "nbformat": 4,
 "nbformat_minor": 2
}

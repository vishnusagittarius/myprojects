{
 "cells": [
  {
   "cell_type": "code",
   "execution_count": 1,
   "metadata": {},
   "outputs": [
    {
     "name": "stdout",
     "output_type": "stream",
     "text": [
      "3.4.2\n"
     ]
    }
   ],
   "source": [
    "import cv2\n",
    "import sys\n",
    "import argparse\n",
    "\n",
    "\n",
    "print(cv2.__version__)"
   ]
  },
  {
   "cell_type": "code",
   "execution_count": 5,
   "metadata": {},
   "outputs": [],
   "source": [
    "tracker_types = ['BOOSTING', 'MIL','KCF', 'TLD', 'MEDIANFLOW', 'GOTURN']\n",
    "\n",
    "tracker_type = tracker_types[0]\n",
    " \n",
    "\n",
    "#tracker = cv2.Tracker_create(tracker_type)\n",
    " \n",
    "if tracker_type == tracker_types[0]:\n",
    "    tracker = cv2.TrackerBoosting_create()\n",
    "elif tracker_type == tracker_types[1]:\n",
    "    tracker = cv2.TrackerMIL_create()\n",
    "elif tracker_type == tracker_types[2]:\n",
    "    tracker = cv2.TrackerKCF_create()\n",
    "elif tracker_type == tracker_types[3]:\n",
    "    tracker = cv2.TrackerTLD_create()\n",
    "elif tracker_type == tracker_types[4]:\n",
    "    tracker = cv2.TrackerMedianFlow_create()\n",
    "elif tracker_type == tracker_types[5]:\n",
    "    tracker = cv2.TrackerGOTURN_create()\n",
    "\n",
    "\n",
    "video = cv2.VideoCapture(0)\n",
    "\n",
    "\n",
    "ret, frame = video.read()\n",
    "if not ret:\n",
    "    sys.exit()\n",
    "    \n",
    "\n",
    "\n",
    "bbox = cv2.selectROI(frame, False)\n",
    "ok = tracker.init(frame, bbox)\n",
    "\n",
    "\n",
    " \n",
    "while True:\n",
    "    # Read a new frame\n",
    "    ret, frame = video.read()\n",
    "    if not ret:\n",
    "        break\n",
    "     \n",
    "    # Start timer\n",
    "    timer = cv2.getTickCount()\n",
    " \n",
    "\n",
    "    ok, bbox = tracker.update(frame)\n",
    " \n",
    "\n",
    "\n",
    "    if ok:\n",
    "        # Tracking success\n",
    "        p1 = (int(bbox[0]), int(bbox[1]))\n",
    "        p2 = (int(bbox[0] + bbox[2]), int(bbox[1] + bbox[3]))\n",
    "        cv2.rectangle(frame, p1, p2, (255,0,0), 2, 1)\n",
    "    else :\n",
    "        # Tracking failure\n",
    "        cv2.putText(frame, \"Tracking failure detected\", (10,80), cv2.FONT_HERSHEY_SIMPLEX, 0.75,(0,0,255),2)\n",
    " \n",
    "    # Display tracker type on frame\n",
    "    cv2.putText(frame, tracker_type + \" Tracker\", (10,20), cv2.FONT_HERSHEY_SIMPLEX, 0.75, (50,255,0),2);\n",
    " \n",
    "\n",
    "    # Display result\n",
    "    cv2.imshow(\"Tracking\", frame)\n",
    " \n",
    "    # Exit if ESC pressed\n",
    "    k = cv2.waitKey(1) & 0xff\n",
    "    if k == 27 : break\n",
    "    \n",
    "    \n",
    "video.release()\n",
    "cv2.destroyAllWindows()"
   ]
  },
  {
   "cell_type": "code",
   "execution_count": null,
   "metadata": {},
   "outputs": [],
   "source": []
  }
 ],
 "metadata": {
  "kernelspec": {
   "display_name": "Python 3",
   "language": "python",
   "name": "python3"
  },
  "language_info": {
   "codemirror_mode": {
    "name": "ipython",
    "version": 3
   },
   "file_extension": ".py",
   "mimetype": "text/x-python",
   "name": "python",
   "nbconvert_exporter": "python",
   "pygments_lexer": "ipython3",
   "version": "3.7.3"
  }
 },
 "nbformat": 4,
 "nbformat_minor": 2
}

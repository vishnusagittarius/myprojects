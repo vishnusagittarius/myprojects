{
 "cells": [
  {
   "cell_type": "code",
   "execution_count": 9,
   "metadata": {},
   "outputs": [],
   "source": [
    "import cv2\n",
    "import numpy as np\n",
    "from matplotlib import pyplot as plt\n",
    "import os"
   ]
  },
  {
   "cell_type": "code",
   "execution_count": 10,
   "metadata": {},
   "outputs": [
    {
     "name": "stdout",
     "output_type": "stream",
     "text": [
      "manchester.png :  0.0\n",
      "atletico.png :  0.0\n",
      "barca.png :  0.3037974683544304\n",
      "erzurum.png :  0.0\n",
      "real.png :  0.0\n",
      "galatasaray.png :  0.011627906976744186\n",
      "juventus.png :  0.0\n",
      "The team is  barca\n"
     ]
    }
   ],
   "source": [
    "sift = cv2.xfeatures2d.SIFT_create()\n",
    "\n",
    "# BFMatcher with default params\n",
    "bf = cv2.BFMatcher()\n",
    "\n",
    "def find_score(des1,des2):\n",
    "    \n",
    "    matches = bf.knnMatch(des1, des2, k=2)\n",
    "    \n",
    "    good = []\n",
    "    for m, n in matches:\n",
    "        if m.distance < 0.5 * n.distance:\n",
    "            good.append([m])\n",
    "     \n",
    "    score = len(good)/len(matches)\n",
    "    return score\n",
    "\n",
    "\n",
    "\n",
    "file_list = [fn for fn in os.listdir(\"/home/vishnu/my_project_dir/open cv learning/search_logos/search_logos/teamlogo\")]\n",
    "feature_list = []\n",
    "\n",
    "for file in file_list:\n",
    "    if (file[0]=='.'):\n",
    "        continue\n",
    "    image = cv2.imread(\"/home/vishnu/my_project_dir/open cv learning/search_logos/search_logos/teamlogo/\"+file)\n",
    "    kp, desc = sift.detectAndCompute(image,None)\n",
    "    \n",
    "    dict_desc = {}\n",
    "    dict_desc[\"team\"]=file\n",
    "    dict_desc[\"desc\"]=desc\n",
    "    \n",
    "    feature_list.append(dict_desc)\n",
    "    \n",
    "\n",
    "\n",
    "img = cv2.imread(\"/home/vishnu/my_project_dir/open cv learning/search_logos/search_logos/logo2.png\")\n",
    "kp, desctarget = sift.detectAndCompute(img,None)\n",
    "\n",
    "maximum_score=0\n",
    "team=\"\"\n",
    "for feature in feature_list:\n",
    "    score = find_score(feature[\"desc\"],desctarget)  \n",
    "    print(feature[\"team\"],\": \",score)\n",
    "    if score>maximum_score:\n",
    "        maximum_score=score\n",
    "        team=feature[\"team\"]\n",
    "        \n",
    "\n",
    "print(\"The team is \",team[:len(team)-4])\n",
    "\n",
    "cv2.imshow(team,img)\n",
    "cv2.waitKey(0)\n",
    "cv2.destroyAllWindows()"
   ]
  },
  {
   "cell_type": "code",
   "execution_count": null,
   "metadata": {},
   "outputs": [],
   "source": []
  }
 ],
 "metadata": {
  "kernelspec": {
   "display_name": "Python 3",
   "language": "python",
   "name": "python3"
  },
  "language_info": {
   "codemirror_mode": {
    "name": "ipython",
    "version": 3
   },
   "file_extension": ".py",
   "mimetype": "text/x-python",
   "name": "python",
   "nbconvert_exporter": "python",
   "pygments_lexer": "ipython3",
   "version": "3.7.3"
  }
 },
 "nbformat": 4,
 "nbformat_minor": 2
}

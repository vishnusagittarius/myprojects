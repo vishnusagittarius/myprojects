{
 "cells": [
  {
   "cell_type": "markdown",
   "metadata": {},
   "source": [
    "### Contouring is the process of detecting the outlines of an object"
   ]
  },
  {
   "cell_type": "code",
   "execution_count": 1,
   "metadata": {},
   "outputs": [],
   "source": [
    "import numpy as np\n",
    "import cv2"
   ]
  },
  {
   "cell_type": "markdown",
   "metadata": {},
   "source": [
    "### Play around with the Kernel values and the area values to detect every object separately"
   ]
  },
  {
   "cell_type": "code",
   "execution_count": 2,
   "metadata": {},
   "outputs": [
    {
     "name": "stdout",
     "output_type": "stream",
     "text": [
      "4720.5\n",
      "13355.5\n",
      "8868.5\n",
      "18580.0\n",
      "7137.0\n",
      "9169.0\n"
     ]
    }
   ],
   "source": [
    "#\"coins_org.jpg\"\n",
    "#'coins.jpg'\n",
    "frame = cv2.imread(\"coins_combined.jpg\")\n",
    "\n",
    "\n",
    "frame = cv2.resize(frame, (640,480))\n",
    "\n",
    "gray = cv2.cvtColor(frame, cv2.COLOR_BGR2GRAY)\n",
    "\n",
    "#gray_blur = cv2.GaussianBlur(gray, (15, 15), 0)\n",
    "thresh = cv2.threshold(gray, 0, 255,cv2.THRESH_BINARY | cv2.THRESH_OTSU)[1]\n",
    "\n",
    "kernel = np.ones((1,1), np.uint8)\n",
    "closing = cv2.morphologyEx(thresh, cv2.MORPH_CLOSE,\n",
    "    kernel, iterations=4)\n",
    "\n",
    "closing_img = closing.copy()\n",
    "im2, contours, hierarchy = cv2.findContours(closing_img,cv2.RETR_TREE,cv2.CHAIN_APPROX_SIMPLE)\n",
    "\n",
    "for cnt in contours:\n",
    "\n",
    "    area = cv2.contourArea(cnt)\n",
    "   \n",
    "    if area < 3000:\n",
    "        continue\n",
    "    \n",
    "    print(area)\n",
    "    \n",
    "    ellipse = cv2.fitEllipse(cnt)\n",
    "    cv2.ellipse(frame, ellipse, (0,255,0), 2)\n",
    "\n",
    "cv2.imshow(\"Morphological Closing\", closing)\n",
    "cv2.imshow(\"Adaptive Thresholding\", thresh)\n",
    "cv2.imshow('Contours', frame)\n",
    "\n",
    "if cv2.waitKey(0) & 0xff == 27:\n",
    "    cv2.destroyAllWindows()"
   ]
  },
  {
   "cell_type": "code",
   "execution_count": null,
   "metadata": {},
   "outputs": [],
   "source": []
  }
 ],
 "metadata": {
  "kernelspec": {
   "display_name": "Python 3",
   "language": "python",
   "name": "python3"
  },
  "language_info": {
   "codemirror_mode": {
    "name": "ipython",
    "version": 3
   },
   "file_extension": ".py",
   "mimetype": "text/x-python",
   "name": "python",
   "nbconvert_exporter": "python",
   "pygments_lexer": "ipython3",
   "version": "3.7.3"
  }
 },
 "nbformat": 4,
 "nbformat_minor": 2
}
